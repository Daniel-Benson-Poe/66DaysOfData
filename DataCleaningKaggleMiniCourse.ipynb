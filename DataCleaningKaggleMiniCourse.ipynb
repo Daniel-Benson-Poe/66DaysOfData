{
  "nbformat": 4,
  "nbformat_minor": 0,
  "metadata": {
    "colab": {
      "name": "DataCleaningKaggleMiniCourse.ipynb",
      "provenance": [],
      "collapsed_sections": [
        "Yh3jQsJko729",
        "aNJ8TRfQa7F3",
        "dnZac6tOPiWN",
        "rGsXpmHtfyE3"
      ],
      "authorship_tag": "ABX9TyNl70092fKYeWyHORFMuGa2",
      "include_colab_link": true
    },
    "kernelspec": {
      "name": "python3",
      "display_name": "Python 3"
    },
    "language_info": {
      "name": "python"
    }
  },
  "cells": [
    {
      "cell_type": "markdown",
      "metadata": {
        "id": "view-in-github",
        "colab_type": "text"
      },
      "source": [
        "<a href=\"https://colab.research.google.com/github/Daniel-Benson-Poe/66DaysOfData/blob/main/DataCleaningKaggleMiniCourse.ipynb\" target=\"_parent\"><img src=\"https://colab.research.google.com/assets/colab-badge.svg\" alt=\"Open In Colab\"/></a>"
      ]
    },
    {
      "cell_type": "markdown",
      "source": [
        "#Handling Missing Values"
      ],
      "metadata": {
        "id": "Yh3jQsJko729"
      }
    },
    {
      "cell_type": "code",
      "execution_count": null,
      "metadata": {
        "colab": {
          "resources": {
            "http://localhost:8080/nbextensions/google.colab/files.js": {
              "data": "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",
              "ok": true,
              "headers": [
                [
                  "content-type",
                  "application/javascript"
                ]
              ],
              "status": 200,
              "status_text": ""
            }
          },
          "base_uri": "https://localhost:8080/",
          "height": 72
        },
        "id": "4_2yJdTIouGD",
        "outputId": "7157cba7-78a5-4864-faf2-4fc835aa80d3"
      },
      "outputs": [
        {
          "output_type": "display_data",
          "data": {
            "text/plain": [
              "<IPython.core.display.HTML object>"
            ],
            "text/html": [
              "\n",
              "     <input type=\"file\" id=\"files-741d4cb3-c7c6-4302-bf64-1412c848161c\" name=\"files[]\" multiple disabled\n",
              "        style=\"border:none\" />\n",
              "     <output id=\"result-741d4cb3-c7c6-4302-bf64-1412c848161c\">\n",
              "      Upload widget is only available when the cell has been executed in the\n",
              "      current browser session. Please rerun this cell to enable.\n",
              "      </output>\n",
              "      <script src=\"/nbextensions/google.colab/files.js\"></script> "
            ]
          },
          "metadata": {}
        },
        {
          "output_type": "stream",
          "name": "stdout",
          "text": [
            "Saving NFL Play by Play 2009-2017 (v4).csv to NFL Play by Play 2009-2017 (v4).csv\n"
          ]
        }
      ],
      "source": [
        "#Initial setup\n",
        "import pandas as pd\n",
        "import numpy as np\n",
        "\n",
        "from google.colab import files\n",
        "uploaded = files.upload()"
      ]
    },
    {
      "cell_type": "code",
      "source": [
        "#Read in data\n",
        "nfl_data = pd.read_csv(\"NFL Play by Play 2009-2017 (v4).csv\")\n",
        "\n",
        "#set seed for reproducibility\n",
        "np.random.seed(0)"
      ],
      "metadata": {
        "colab": {
          "base_uri": "https://localhost:8080/"
        },
        "id": "27spa85JtIs8",
        "outputId": "dc2387e0-fcc4-4d8b-9153-5d566748339c"
      },
      "execution_count": null,
      "outputs": [
        {
          "output_type": "stream",
          "name": "stderr",
          "text": [
            "/usr/local/lib/python3.7/dist-packages/IPython/core/interactiveshell.py:2882: DtypeWarning: Columns (25,51) have mixed types.Specify dtype option on import or set low_memory=False.\n",
            "  exec(code_obj, self.user_global_ns, self.user_ns)\n"
          ]
        }
      ]
    },
    {
      "cell_type": "markdown",
      "source": [
        "Let's take a look at some of the data; this should always be the first thing you do when loading in a new dataset."
      ],
      "metadata": {
        "id": "IsPD-2Lgxkeh"
      }
    },
    {
      "cell_type": "code",
      "source": [
        "#look at first five rows of data\n",
        "#There is a handful of missing data we can see already \n",
        "nfl_data.head()"
      ],
      "metadata": {
        "colab": {
          "base_uri": "https://localhost:8080/",
          "height": 367
        },
        "id": "vqn_HhZdxiwR",
        "outputId": "56c2f5ba-32ad-4ea9-fe8a-8d100991d82e"
      },
      "execution_count": null,
      "outputs": [
        {
          "output_type": "execute_result",
          "data": {
            "text/plain": [
              "         Date      GameID  Drive  qtr  down   time  TimeUnder  TimeSecs  \\\n",
              "0  2009-09-10  2009091000      1    1   NaN  15:00         15    3600.0   \n",
              "1  2009-09-10  2009091000      1    1   1.0  14:53         15    3593.0   \n",
              "2  2009-09-10  2009091000      1    1   2.0  14:16         15    3556.0   \n",
              "3  2009-09-10  2009091000      1    1   3.0  13:35         14    3515.0   \n",
              "4  2009-09-10  2009091000      1    1   4.0  13:27         14    3507.0   \n",
              "\n",
              "   PlayTimeDiff SideofField  ...    yacEPA  Home_WP_pre  Away_WP_pre  \\\n",
              "0           0.0         TEN  ...       NaN     0.485675     0.514325   \n",
              "1           7.0         PIT  ...  1.146076     0.546433     0.453567   \n",
              "2          37.0         PIT  ...       NaN     0.551088     0.448912   \n",
              "3          41.0         PIT  ... -5.031425     0.510793     0.489207   \n",
              "4           8.0         PIT  ...       NaN     0.461217     0.538783   \n",
              "\n",
              "   Home_WP_post  Away_WP_post  Win_Prob       WPA    airWPA    yacWPA  Season  \n",
              "0      0.546433      0.453567  0.485675  0.060758       NaN       NaN    2009  \n",
              "1      0.551088      0.448912  0.546433  0.004655 -0.032244  0.036899    2009  \n",
              "2      0.510793      0.489207  0.551088 -0.040295       NaN       NaN    2009  \n",
              "3      0.461217      0.538783  0.510793 -0.049576  0.106663 -0.156239    2009  \n",
              "4      0.558929      0.441071  0.461217  0.097712       NaN       NaN    2009  \n",
              "\n",
              "[5 rows x 102 columns]"
            ],
            "text/html": [
              "\n",
              "  <div id=\"df-8d2def68-9790-4275-a8ec-be45617482f6\">\n",
              "    <div class=\"colab-df-container\">\n",
              "      <div>\n",
              "<style scoped>\n",
              "    .dataframe tbody tr th:only-of-type {\n",
              "        vertical-align: middle;\n",
              "    }\n",
              "\n",
              "    .dataframe tbody tr th {\n",
              "        vertical-align: top;\n",
              "    }\n",
              "\n",
              "    .dataframe thead th {\n",
              "        text-align: right;\n",
              "    }\n",
              "</style>\n",
              "<table border=\"1\" class=\"dataframe\">\n",
              "  <thead>\n",
              "    <tr style=\"text-align: right;\">\n",
              "      <th></th>\n",
              "      <th>Date</th>\n",
              "      <th>GameID</th>\n",
              "      <th>Drive</th>\n",
              "      <th>qtr</th>\n",
              "      <th>down</th>\n",
              "      <th>time</th>\n",
              "      <th>TimeUnder</th>\n",
              "      <th>TimeSecs</th>\n",
              "      <th>PlayTimeDiff</th>\n",
              "      <th>SideofField</th>\n",
              "      <th>...</th>\n",
              "      <th>yacEPA</th>\n",
              "      <th>Home_WP_pre</th>\n",
              "      <th>Away_WP_pre</th>\n",
              "      <th>Home_WP_post</th>\n",
              "      <th>Away_WP_post</th>\n",
              "      <th>Win_Prob</th>\n",
              "      <th>WPA</th>\n",
              "      <th>airWPA</th>\n",
              "      <th>yacWPA</th>\n",
              "      <th>Season</th>\n",
              "    </tr>\n",
              "  </thead>\n",
              "  <tbody>\n",
              "    <tr>\n",
              "      <th>0</th>\n",
              "      <td>2009-09-10</td>\n",
              "      <td>2009091000</td>\n",
              "      <td>1</td>\n",
              "      <td>1</td>\n",
              "      <td>NaN</td>\n",
              "      <td>15:00</td>\n",
              "      <td>15</td>\n",
              "      <td>3600.0</td>\n",
              "      <td>0.0</td>\n",
              "      <td>TEN</td>\n",
              "      <td>...</td>\n",
              "      <td>NaN</td>\n",
              "      <td>0.485675</td>\n",
              "      <td>0.514325</td>\n",
              "      <td>0.546433</td>\n",
              "      <td>0.453567</td>\n",
              "      <td>0.485675</td>\n",
              "      <td>0.060758</td>\n",
              "      <td>NaN</td>\n",
              "      <td>NaN</td>\n",
              "      <td>2009</td>\n",
              "    </tr>\n",
              "    <tr>\n",
              "      <th>1</th>\n",
              "      <td>2009-09-10</td>\n",
              "      <td>2009091000</td>\n",
              "      <td>1</td>\n",
              "      <td>1</td>\n",
              "      <td>1.0</td>\n",
              "      <td>14:53</td>\n",
              "      <td>15</td>\n",
              "      <td>3593.0</td>\n",
              "      <td>7.0</td>\n",
              "      <td>PIT</td>\n",
              "      <td>...</td>\n",
              "      <td>1.146076</td>\n",
              "      <td>0.546433</td>\n",
              "      <td>0.453567</td>\n",
              "      <td>0.551088</td>\n",
              "      <td>0.448912</td>\n",
              "      <td>0.546433</td>\n",
              "      <td>0.004655</td>\n",
              "      <td>-0.032244</td>\n",
              "      <td>0.036899</td>\n",
              "      <td>2009</td>\n",
              "    </tr>\n",
              "    <tr>\n",
              "      <th>2</th>\n",
              "      <td>2009-09-10</td>\n",
              "      <td>2009091000</td>\n",
              "      <td>1</td>\n",
              "      <td>1</td>\n",
              "      <td>2.0</td>\n",
              "      <td>14:16</td>\n",
              "      <td>15</td>\n",
              "      <td>3556.0</td>\n",
              "      <td>37.0</td>\n",
              "      <td>PIT</td>\n",
              "      <td>...</td>\n",
              "      <td>NaN</td>\n",
              "      <td>0.551088</td>\n",
              "      <td>0.448912</td>\n",
              "      <td>0.510793</td>\n",
              "      <td>0.489207</td>\n",
              "      <td>0.551088</td>\n",
              "      <td>-0.040295</td>\n",
              "      <td>NaN</td>\n",
              "      <td>NaN</td>\n",
              "      <td>2009</td>\n",
              "    </tr>\n",
              "    <tr>\n",
              "      <th>3</th>\n",
              "      <td>2009-09-10</td>\n",
              "      <td>2009091000</td>\n",
              "      <td>1</td>\n",
              "      <td>1</td>\n",
              "      <td>3.0</td>\n",
              "      <td>13:35</td>\n",
              "      <td>14</td>\n",
              "      <td>3515.0</td>\n",
              "      <td>41.0</td>\n",
              "      <td>PIT</td>\n",
              "      <td>...</td>\n",
              "      <td>-5.031425</td>\n",
              "      <td>0.510793</td>\n",
              "      <td>0.489207</td>\n",
              "      <td>0.461217</td>\n",
              "      <td>0.538783</td>\n",
              "      <td>0.510793</td>\n",
              "      <td>-0.049576</td>\n",
              "      <td>0.106663</td>\n",
              "      <td>-0.156239</td>\n",
              "      <td>2009</td>\n",
              "    </tr>\n",
              "    <tr>\n",
              "      <th>4</th>\n",
              "      <td>2009-09-10</td>\n",
              "      <td>2009091000</td>\n",
              "      <td>1</td>\n",
              "      <td>1</td>\n",
              "      <td>4.0</td>\n",
              "      <td>13:27</td>\n",
              "      <td>14</td>\n",
              "      <td>3507.0</td>\n",
              "      <td>8.0</td>\n",
              "      <td>PIT</td>\n",
              "      <td>...</td>\n",
              "      <td>NaN</td>\n",
              "      <td>0.461217</td>\n",
              "      <td>0.538783</td>\n",
              "      <td>0.558929</td>\n",
              "      <td>0.441071</td>\n",
              "      <td>0.461217</td>\n",
              "      <td>0.097712</td>\n",
              "      <td>NaN</td>\n",
              "      <td>NaN</td>\n",
              "      <td>2009</td>\n",
              "    </tr>\n",
              "  </tbody>\n",
              "</table>\n",
              "<p>5 rows × 102 columns</p>\n",
              "</div>\n",
              "      <button class=\"colab-df-convert\" onclick=\"convertToInteractive('df-8d2def68-9790-4275-a8ec-be45617482f6')\"\n",
              "              title=\"Convert this dataframe to an interactive table.\"\n",
              "              style=\"display:none;\">\n",
              "        \n",
              "  <svg xmlns=\"http://www.w3.org/2000/svg\" height=\"24px\"viewBox=\"0 0 24 24\"\n",
              "       width=\"24px\">\n",
              "    <path d=\"M0 0h24v24H0V0z\" fill=\"none\"/>\n",
              "    <path d=\"M18.56 5.44l.94 2.06.94-2.06 2.06-.94-2.06-.94-.94-2.06-.94 2.06-2.06.94zm-11 1L8.5 8.5l.94-2.06 2.06-.94-2.06-.94L8.5 2.5l-.94 2.06-2.06.94zm10 10l.94 2.06.94-2.06 2.06-.94-2.06-.94-.94-2.06-.94 2.06-2.06.94z\"/><path d=\"M17.41 7.96l-1.37-1.37c-.4-.4-.92-.59-1.43-.59-.52 0-1.04.2-1.43.59L10.3 9.45l-7.72 7.72c-.78.78-.78 2.05 0 2.83L4 21.41c.39.39.9.59 1.41.59.51 0 1.02-.2 1.41-.59l7.78-7.78 2.81-2.81c.8-.78.8-2.07 0-2.86zM5.41 20L4 18.59l7.72-7.72 1.47 1.35L5.41 20z\"/>\n",
              "  </svg>\n",
              "      </button>\n",
              "      \n",
              "  <style>\n",
              "    .colab-df-container {\n",
              "      display:flex;\n",
              "      flex-wrap:wrap;\n",
              "      gap: 12px;\n",
              "    }\n",
              "\n",
              "    .colab-df-convert {\n",
              "      background-color: #E8F0FE;\n",
              "      border: none;\n",
              "      border-radius: 50%;\n",
              "      cursor: pointer;\n",
              "      display: none;\n",
              "      fill: #1967D2;\n",
              "      height: 32px;\n",
              "      padding: 0 0 0 0;\n",
              "      width: 32px;\n",
              "    }\n",
              "\n",
              "    .colab-df-convert:hover {\n",
              "      background-color: #E2EBFA;\n",
              "      box-shadow: 0px 1px 2px rgba(60, 64, 67, 0.3), 0px 1px 3px 1px rgba(60, 64, 67, 0.15);\n",
              "      fill: #174EA6;\n",
              "    }\n",
              "\n",
              "    [theme=dark] .colab-df-convert {\n",
              "      background-color: #3B4455;\n",
              "      fill: #D2E3FC;\n",
              "    }\n",
              "\n",
              "    [theme=dark] .colab-df-convert:hover {\n",
              "      background-color: #434B5C;\n",
              "      box-shadow: 0px 1px 3px 1px rgba(0, 0, 0, 0.15);\n",
              "      filter: drop-shadow(0px 1px 2px rgba(0, 0, 0, 0.3));\n",
              "      fill: #FFFFFF;\n",
              "    }\n",
              "  </style>\n",
              "\n",
              "      <script>\n",
              "        const buttonEl =\n",
              "          document.querySelector('#df-8d2def68-9790-4275-a8ec-be45617482f6 button.colab-df-convert');\n",
              "        buttonEl.style.display =\n",
              "          google.colab.kernel.accessAllowed ? 'block' : 'none';\n",
              "\n",
              "        async function convertToInteractive(key) {\n",
              "          const element = document.querySelector('#df-8d2def68-9790-4275-a8ec-be45617482f6');\n",
              "          const dataTable =\n",
              "            await google.colab.kernel.invokeFunction('convertToInteractive',\n",
              "                                                     [key], {});\n",
              "          if (!dataTable) return;\n",
              "\n",
              "          const docLinkHtml = 'Like what you see? Visit the ' +\n",
              "            '<a target=\"_blank\" href=https://colab.research.google.com/notebooks/data_table.ipynb>data table notebook</a>'\n",
              "            + ' to learn more about interactive tables.';\n",
              "          element.innerHTML = '';\n",
              "          dataTable['output_type'] = 'display_data';\n",
              "          await google.colab.output.renderOutput(dataTable, element);\n",
              "          const docLink = document.createElement('div');\n",
              "          docLink.innerHTML = docLinkHtml;\n",
              "          element.appendChild(docLink);\n",
              "        }\n",
              "      </script>\n",
              "    </div>\n",
              "  </div>\n",
              "  "
            ]
          },
          "metadata": {},
          "execution_count": 6
        }
      ]
    },
    {
      "cell_type": "markdown",
      "source": [
        "Let's check how many missing data points there are"
      ],
      "metadata": {
        "id": "jNvnE32QyKeL"
      }
    },
    {
      "cell_type": "code",
      "source": [
        "#get number of missing data per column\n",
        "missing_values_count = nfl_data.isnull().sum()\n",
        "\n",
        "# Look at number of missing points in first ten columns\n",
        "missing_values_count[:10]"
      ],
      "metadata": {
        "colab": {
          "base_uri": "https://localhost:8080/"
        },
        "id": "DI2KyG5qxwlu",
        "outputId": "6fc8424d-d710-4353-d244-47adbb5126de"
      },
      "execution_count": null,
      "outputs": [
        {
          "output_type": "execute_result",
          "data": {
            "text/plain": [
              "Date                0\n",
              "GameID              0\n",
              "Drive               0\n",
              "qtr                 0\n",
              "down            61154\n",
              "time              224\n",
              "TimeUnder           0\n",
              "TimeSecs          224\n",
              "PlayTimeDiff      444\n",
              "SideofField       528\n",
              "dtype: int64"
            ]
          },
          "metadata": {},
          "execution_count": 7
        }
      ]
    },
    {
      "cell_type": "markdown",
      "source": [
        "There is a lot there. Let's look at the percentage of values that are missing data to understand the scale"
      ],
      "metadata": {
        "id": "QWgqTFIAyZZC"
      }
    },
    {
      "cell_type": "code",
      "source": [
        "#how many total missing values?\n",
        "total_cells = np.product(nfl_data.shape)\n",
        "total_missing = missing_values_count.sum()\n",
        "\n",
        "#percent of data missing\n",
        "percent_missing = (total_missing/total_cells) * 100\n",
        "print(percent_missing)"
      ],
      "metadata": {
        "colab": {
          "base_uri": "https://localhost:8080/"
        },
        "id": "7viBBzuYyWTO",
        "outputId": "1491551b-aa77-49de-997d-b634cfb0fb09"
      },
      "execution_count": null,
      "outputs": [
        {
          "output_type": "stream",
          "name": "stdout",
          "text": [
            "24.87214126835169\n"
          ]
        }
      ]
    },
    {
      "cell_type": "markdown",
      "source": [
        "Now we need to understand why the data is missing. For this we have to look closer at the data we are working with. An important question to ask: Is the value missing because it wasn't recorded or because it doesn't exist?\n",
        "\n",
        "If it is the latter, trying to guess what the value COULD have been is pointless because there isn't a value in the first place. In the case of the former, you can use some intuition and statistics to determine what the value COULD have been."
      ],
      "metadata": {
        "id": "VaCsbn04y1Yr"
      }
    },
    {
      "cell_type": "code",
      "source": [
        "#look at number of missing points in first ten columns\n",
        "missing_values_count[:10]"
      ],
      "metadata": {
        "colab": {
          "base_uri": "https://localhost:8080/"
        },
        "id": "5NL5OTouyt2F",
        "outputId": "8b2fb835-8ef3-4735-eb85-724c60e331c0"
      },
      "execution_count": null,
      "outputs": [
        {
          "output_type": "execute_result",
          "data": {
            "text/plain": [
              "Date                0\n",
              "GameID              0\n",
              "Drive               0\n",
              "qtr                 0\n",
              "down            61154\n",
              "time              224\n",
              "TimeUnder           0\n",
              "TimeSecs          224\n",
              "PlayTimeDiff      444\n",
              "SideofField       528\n",
              "dtype: int64"
            ]
          },
          "metadata": {},
          "execution_count": 9
        }
      ]
    },
    {
      "cell_type": "markdown",
      "source": [
        "A look through the data documentation is always helpful. For now we will practice some of the options we have with regards to removing NaN values."
      ],
      "metadata": {
        "id": "vkZcrLCnzkUk"
      }
    },
    {
      "cell_type": "code",
      "source": [
        "#remove all the rows that contain a missing value\n",
        "nfl_data.dropna()"
      ],
      "metadata": {
        "colab": {
          "base_uri": "https://localhost:8080/",
          "height": 79
        },
        "id": "GwEOgM54ziZu",
        "outputId": "169c44c3-a7b0-445e-ca32-019ecf75d264"
      },
      "execution_count": null,
      "outputs": [
        {
          "output_type": "execute_result",
          "data": {
            "text/plain": [
              "Empty DataFrame\n",
              "Columns: [Date, GameID, Drive, qtr, down, time, TimeUnder, TimeSecs, PlayTimeDiff, SideofField, yrdln, yrdline100, ydstogo, ydsnet, GoalToGo, FirstDown, posteam, DefensiveTeam, desc, PlayAttempted, Yards.Gained, sp, Touchdown, ExPointResult, TwoPointConv, DefTwoPoint, Safety, Onsidekick, PuntResult, PlayType, Passer, Passer_ID, PassAttempt, PassOutcome, PassLength, AirYards, YardsAfterCatch, QBHit, PassLocation, InterceptionThrown, Interceptor, Rusher, Rusher_ID, RushAttempt, RunLocation, RunGap, Receiver, Receiver_ID, Reception, ReturnResult, Returner, BlockingPlayer, Tackler1, Tackler2, FieldGoalResult, FieldGoalDistance, Fumble, RecFumbTeam, RecFumbPlayer, Sack, Challenge.Replay, ChalReplayResult, Accepted.Penalty, PenalizedTeam, PenaltyType, PenalizedPlayer, Penalty.Yards, PosTeamScore, DefTeamScore, ScoreDiff, AbsScoreDiff, HomeTeam, AwayTeam, Timeout_Indicator, Timeout_Team, posteam_timeouts_pre, HomeTimeouts_Remaining_Pre, AwayTimeouts_Remaining_Pre, HomeTimeouts_Remaining_Post, AwayTimeouts_Remaining_Post, No_Score_Prob, Opp_Field_Goal_Prob, Opp_Safety_Prob, Opp_Touchdown_Prob, Field_Goal_Prob, Safety_Prob, Touchdown_Prob, ExPoint_Prob, TwoPoint_Prob, ExpPts, EPA, airEPA, yacEPA, Home_WP_pre, Away_WP_pre, Home_WP_post, Away_WP_post, Win_Prob, WPA, airWPA, ...]\n",
              "Index: []\n",
              "\n",
              "[0 rows x 102 columns]"
            ],
            "text/html": [
              "\n",
              "  <div id=\"df-ffdae47d-f185-4a3d-9b0d-b58546af48ac\">\n",
              "    <div class=\"colab-df-container\">\n",
              "      <div>\n",
              "<style scoped>\n",
              "    .dataframe tbody tr th:only-of-type {\n",
              "        vertical-align: middle;\n",
              "    }\n",
              "\n",
              "    .dataframe tbody tr th {\n",
              "        vertical-align: top;\n",
              "    }\n",
              "\n",
              "    .dataframe thead th {\n",
              "        text-align: right;\n",
              "    }\n",
              "</style>\n",
              "<table border=\"1\" class=\"dataframe\">\n",
              "  <thead>\n",
              "    <tr style=\"text-align: right;\">\n",
              "      <th></th>\n",
              "      <th>Date</th>\n",
              "      <th>GameID</th>\n",
              "      <th>Drive</th>\n",
              "      <th>qtr</th>\n",
              "      <th>down</th>\n",
              "      <th>time</th>\n",
              "      <th>TimeUnder</th>\n",
              "      <th>TimeSecs</th>\n",
              "      <th>PlayTimeDiff</th>\n",
              "      <th>SideofField</th>\n",
              "      <th>...</th>\n",
              "      <th>yacEPA</th>\n",
              "      <th>Home_WP_pre</th>\n",
              "      <th>Away_WP_pre</th>\n",
              "      <th>Home_WP_post</th>\n",
              "      <th>Away_WP_post</th>\n",
              "      <th>Win_Prob</th>\n",
              "      <th>WPA</th>\n",
              "      <th>airWPA</th>\n",
              "      <th>yacWPA</th>\n",
              "      <th>Season</th>\n",
              "    </tr>\n",
              "  </thead>\n",
              "  <tbody>\n",
              "  </tbody>\n",
              "</table>\n",
              "<p>0 rows × 102 columns</p>\n",
              "</div>\n",
              "      <button class=\"colab-df-convert\" onclick=\"convertToInteractive('df-ffdae47d-f185-4a3d-9b0d-b58546af48ac')\"\n",
              "              title=\"Convert this dataframe to an interactive table.\"\n",
              "              style=\"display:none;\">\n",
              "        \n",
              "  <svg xmlns=\"http://www.w3.org/2000/svg\" height=\"24px\"viewBox=\"0 0 24 24\"\n",
              "       width=\"24px\">\n",
              "    <path d=\"M0 0h24v24H0V0z\" fill=\"none\"/>\n",
              "    <path d=\"M18.56 5.44l.94 2.06.94-2.06 2.06-.94-2.06-.94-.94-2.06-.94 2.06-2.06.94zm-11 1L8.5 8.5l.94-2.06 2.06-.94-2.06-.94L8.5 2.5l-.94 2.06-2.06.94zm10 10l.94 2.06.94-2.06 2.06-.94-2.06-.94-.94-2.06-.94 2.06-2.06.94z\"/><path d=\"M17.41 7.96l-1.37-1.37c-.4-.4-.92-.59-1.43-.59-.52 0-1.04.2-1.43.59L10.3 9.45l-7.72 7.72c-.78.78-.78 2.05 0 2.83L4 21.41c.39.39.9.59 1.41.59.51 0 1.02-.2 1.41-.59l7.78-7.78 2.81-2.81c.8-.78.8-2.07 0-2.86zM5.41 20L4 18.59l7.72-7.72 1.47 1.35L5.41 20z\"/>\n",
              "  </svg>\n",
              "      </button>\n",
              "      \n",
              "  <style>\n",
              "    .colab-df-container {\n",
              "      display:flex;\n",
              "      flex-wrap:wrap;\n",
              "      gap: 12px;\n",
              "    }\n",
              "\n",
              "    .colab-df-convert {\n",
              "      background-color: #E8F0FE;\n",
              "      border: none;\n",
              "      border-radius: 50%;\n",
              "      cursor: pointer;\n",
              "      display: none;\n",
              "      fill: #1967D2;\n",
              "      height: 32px;\n",
              "      padding: 0 0 0 0;\n",
              "      width: 32px;\n",
              "    }\n",
              "\n",
              "    .colab-df-convert:hover {\n",
              "      background-color: #E2EBFA;\n",
              "      box-shadow: 0px 1px 2px rgba(60, 64, 67, 0.3), 0px 1px 3px 1px rgba(60, 64, 67, 0.15);\n",
              "      fill: #174EA6;\n",
              "    }\n",
              "\n",
              "    [theme=dark] .colab-df-convert {\n",
              "      background-color: #3B4455;\n",
              "      fill: #D2E3FC;\n",
              "    }\n",
              "\n",
              "    [theme=dark] .colab-df-convert:hover {\n",
              "      background-color: #434B5C;\n",
              "      box-shadow: 0px 1px 3px 1px rgba(0, 0, 0, 0.15);\n",
              "      filter: drop-shadow(0px 1px 2px rgba(0, 0, 0, 0.3));\n",
              "      fill: #FFFFFF;\n",
              "    }\n",
              "  </style>\n",
              "\n",
              "      <script>\n",
              "        const buttonEl =\n",
              "          document.querySelector('#df-ffdae47d-f185-4a3d-9b0d-b58546af48ac button.colab-df-convert');\n",
              "        buttonEl.style.display =\n",
              "          google.colab.kernel.accessAllowed ? 'block' : 'none';\n",
              "\n",
              "        async function convertToInteractive(key) {\n",
              "          const element = document.querySelector('#df-ffdae47d-f185-4a3d-9b0d-b58546af48ac');\n",
              "          const dataTable =\n",
              "            await google.colab.kernel.invokeFunction('convertToInteractive',\n",
              "                                                     [key], {});\n",
              "          if (!dataTable) return;\n",
              "\n",
              "          const docLinkHtml = 'Like what you see? Visit the ' +\n",
              "            '<a target=\"_blank\" href=https://colab.research.google.com/notebooks/data_table.ipynb>data table notebook</a>'\n",
              "            + ' to learn more about interactive tables.';\n",
              "          element.innerHTML = '';\n",
              "          dataTable['output_type'] = 'display_data';\n",
              "          await google.colab.output.renderOutput(dataTable, element);\n",
              "          const docLink = document.createElement('div');\n",
              "          docLink.innerHTML = docLinkHtml;\n",
              "          element.appendChild(docLink);\n",
              "        }\n",
              "      </script>\n",
              "    </div>\n",
              "  </div>\n",
              "  "
            ]
          },
          "metadata": {},
          "execution_count": 10
        }
      ]
    },
    {
      "cell_type": "code",
      "source": [
        "# This removed all our data! Why? Because we have at least one NaN value in \n",
        "# every row of our dataset and dropna defaults to dropping rows. We need\n",
        "# to specify that we want to drop all columns with NaN values by setting the\n",
        "# axis=1\n",
        "columns_with_na_dropped = nfl_data.dropna(axis=1)\n",
        "columns_with_na_dropped.head()"
      ],
      "metadata": {
        "colab": {
          "base_uri": "https://localhost:8080/",
          "height": 387
        },
        "id": "wqkWg6Ka0Cie",
        "outputId": "3238aade-1960-4058-d567-596cc642a9ec"
      },
      "execution_count": null,
      "outputs": [
        {
          "output_type": "execute_result",
          "data": {
            "text/plain": [
              "         Date      GameID  Drive  qtr  TimeUnder  ydstogo  ydsnet  \\\n",
              "0  2009-09-10  2009091000      1    1         15        0       0   \n",
              "1  2009-09-10  2009091000      1    1         15       10       5   \n",
              "2  2009-09-10  2009091000      1    1         15        5       2   \n",
              "3  2009-09-10  2009091000      1    1         14        8       2   \n",
              "4  2009-09-10  2009091000      1    1         14        8       2   \n",
              "\n",
              "   PlayAttempted  Yards.Gained  sp  ...  Timeout_Indicator  Timeout_Team  \\\n",
              "0              1            39   0  ...                  0          None   \n",
              "1              1             5   0  ...                  0          None   \n",
              "2              1            -3   0  ...                  0          None   \n",
              "3              1             0   0  ...                  0          None   \n",
              "4              1             0   0  ...                  0          None   \n",
              "\n",
              "   posteam_timeouts_pre HomeTimeouts_Remaining_Pre AwayTimeouts_Remaining_Pre  \\\n",
              "0                     3                          3                          3   \n",
              "1                     3                          3                          3   \n",
              "2                     3                          3                          3   \n",
              "3                     3                          3                          3   \n",
              "4                     3                          3                          3   \n",
              "\n",
              "   HomeTimeouts_Remaining_Post  AwayTimeouts_Remaining_Post  ExPoint_Prob  \\\n",
              "0                            3                            3           0.0   \n",
              "1                            3                            3           0.0   \n",
              "2                            3                            3           0.0   \n",
              "3                            3                            3           0.0   \n",
              "4                            3                            3           0.0   \n",
              "\n",
              "   TwoPoint_Prob  Season  \n",
              "0            0.0    2009  \n",
              "1            0.0    2009  \n",
              "2            0.0    2009  \n",
              "3            0.0    2009  \n",
              "4            0.0    2009  \n",
              "\n",
              "[5 rows x 41 columns]"
            ],
            "text/html": [
              "\n",
              "  <div id=\"df-adfae942-e0cd-443e-a018-af70b58be3c4\">\n",
              "    <div class=\"colab-df-container\">\n",
              "      <div>\n",
              "<style scoped>\n",
              "    .dataframe tbody tr th:only-of-type {\n",
              "        vertical-align: middle;\n",
              "    }\n",
              "\n",
              "    .dataframe tbody tr th {\n",
              "        vertical-align: top;\n",
              "    }\n",
              "\n",
              "    .dataframe thead th {\n",
              "        text-align: right;\n",
              "    }\n",
              "</style>\n",
              "<table border=\"1\" class=\"dataframe\">\n",
              "  <thead>\n",
              "    <tr style=\"text-align: right;\">\n",
              "      <th></th>\n",
              "      <th>Date</th>\n",
              "      <th>GameID</th>\n",
              "      <th>Drive</th>\n",
              "      <th>qtr</th>\n",
              "      <th>TimeUnder</th>\n",
              "      <th>ydstogo</th>\n",
              "      <th>ydsnet</th>\n",
              "      <th>PlayAttempted</th>\n",
              "      <th>Yards.Gained</th>\n",
              "      <th>sp</th>\n",
              "      <th>...</th>\n",
              "      <th>Timeout_Indicator</th>\n",
              "      <th>Timeout_Team</th>\n",
              "      <th>posteam_timeouts_pre</th>\n",
              "      <th>HomeTimeouts_Remaining_Pre</th>\n",
              "      <th>AwayTimeouts_Remaining_Pre</th>\n",
              "      <th>HomeTimeouts_Remaining_Post</th>\n",
              "      <th>AwayTimeouts_Remaining_Post</th>\n",
              "      <th>ExPoint_Prob</th>\n",
              "      <th>TwoPoint_Prob</th>\n",
              "      <th>Season</th>\n",
              "    </tr>\n",
              "  </thead>\n",
              "  <tbody>\n",
              "    <tr>\n",
              "      <th>0</th>\n",
              "      <td>2009-09-10</td>\n",
              "      <td>2009091000</td>\n",
              "      <td>1</td>\n",
              "      <td>1</td>\n",
              "      <td>15</td>\n",
              "      <td>0</td>\n",
              "      <td>0</td>\n",
              "      <td>1</td>\n",
              "      <td>39</td>\n",
              "      <td>0</td>\n",
              "      <td>...</td>\n",
              "      <td>0</td>\n",
              "      <td>None</td>\n",
              "      <td>3</td>\n",
              "      <td>3</td>\n",
              "      <td>3</td>\n",
              "      <td>3</td>\n",
              "      <td>3</td>\n",
              "      <td>0.0</td>\n",
              "      <td>0.0</td>\n",
              "      <td>2009</td>\n",
              "    </tr>\n",
              "    <tr>\n",
              "      <th>1</th>\n",
              "      <td>2009-09-10</td>\n",
              "      <td>2009091000</td>\n",
              "      <td>1</td>\n",
              "      <td>1</td>\n",
              "      <td>15</td>\n",
              "      <td>10</td>\n",
              "      <td>5</td>\n",
              "      <td>1</td>\n",
              "      <td>5</td>\n",
              "      <td>0</td>\n",
              "      <td>...</td>\n",
              "      <td>0</td>\n",
              "      <td>None</td>\n",
              "      <td>3</td>\n",
              "      <td>3</td>\n",
              "      <td>3</td>\n",
              "      <td>3</td>\n",
              "      <td>3</td>\n",
              "      <td>0.0</td>\n",
              "      <td>0.0</td>\n",
              "      <td>2009</td>\n",
              "    </tr>\n",
              "    <tr>\n",
              "      <th>2</th>\n",
              "      <td>2009-09-10</td>\n",
              "      <td>2009091000</td>\n",
              "      <td>1</td>\n",
              "      <td>1</td>\n",
              "      <td>15</td>\n",
              "      <td>5</td>\n",
              "      <td>2</td>\n",
              "      <td>1</td>\n",
              "      <td>-3</td>\n",
              "      <td>0</td>\n",
              "      <td>...</td>\n",
              "      <td>0</td>\n",
              "      <td>None</td>\n",
              "      <td>3</td>\n",
              "      <td>3</td>\n",
              "      <td>3</td>\n",
              "      <td>3</td>\n",
              "      <td>3</td>\n",
              "      <td>0.0</td>\n",
              "      <td>0.0</td>\n",
              "      <td>2009</td>\n",
              "    </tr>\n",
              "    <tr>\n",
              "      <th>3</th>\n",
              "      <td>2009-09-10</td>\n",
              "      <td>2009091000</td>\n",
              "      <td>1</td>\n",
              "      <td>1</td>\n",
              "      <td>14</td>\n",
              "      <td>8</td>\n",
              "      <td>2</td>\n",
              "      <td>1</td>\n",
              "      <td>0</td>\n",
              "      <td>0</td>\n",
              "      <td>...</td>\n",
              "      <td>0</td>\n",
              "      <td>None</td>\n",
              "      <td>3</td>\n",
              "      <td>3</td>\n",
              "      <td>3</td>\n",
              "      <td>3</td>\n",
              "      <td>3</td>\n",
              "      <td>0.0</td>\n",
              "      <td>0.0</td>\n",
              "      <td>2009</td>\n",
              "    </tr>\n",
              "    <tr>\n",
              "      <th>4</th>\n",
              "      <td>2009-09-10</td>\n",
              "      <td>2009091000</td>\n",
              "      <td>1</td>\n",
              "      <td>1</td>\n",
              "      <td>14</td>\n",
              "      <td>8</td>\n",
              "      <td>2</td>\n",
              "      <td>1</td>\n",
              "      <td>0</td>\n",
              "      <td>0</td>\n",
              "      <td>...</td>\n",
              "      <td>0</td>\n",
              "      <td>None</td>\n",
              "      <td>3</td>\n",
              "      <td>3</td>\n",
              "      <td>3</td>\n",
              "      <td>3</td>\n",
              "      <td>3</td>\n",
              "      <td>0.0</td>\n",
              "      <td>0.0</td>\n",
              "      <td>2009</td>\n",
              "    </tr>\n",
              "  </tbody>\n",
              "</table>\n",
              "<p>5 rows × 41 columns</p>\n",
              "</div>\n",
              "      <button class=\"colab-df-convert\" onclick=\"convertToInteractive('df-adfae942-e0cd-443e-a018-af70b58be3c4')\"\n",
              "              title=\"Convert this dataframe to an interactive table.\"\n",
              "              style=\"display:none;\">\n",
              "        \n",
              "  <svg xmlns=\"http://www.w3.org/2000/svg\" height=\"24px\"viewBox=\"0 0 24 24\"\n",
              "       width=\"24px\">\n",
              "    <path d=\"M0 0h24v24H0V0z\" fill=\"none\"/>\n",
              "    <path d=\"M18.56 5.44l.94 2.06.94-2.06 2.06-.94-2.06-.94-.94-2.06-.94 2.06-2.06.94zm-11 1L8.5 8.5l.94-2.06 2.06-.94-2.06-.94L8.5 2.5l-.94 2.06-2.06.94zm10 10l.94 2.06.94-2.06 2.06-.94-2.06-.94-.94-2.06-.94 2.06-2.06.94z\"/><path d=\"M17.41 7.96l-1.37-1.37c-.4-.4-.92-.59-1.43-.59-.52 0-1.04.2-1.43.59L10.3 9.45l-7.72 7.72c-.78.78-.78 2.05 0 2.83L4 21.41c.39.39.9.59 1.41.59.51 0 1.02-.2 1.41-.59l7.78-7.78 2.81-2.81c.8-.78.8-2.07 0-2.86zM5.41 20L4 18.59l7.72-7.72 1.47 1.35L5.41 20z\"/>\n",
              "  </svg>\n",
              "      </button>\n",
              "      \n",
              "  <style>\n",
              "    .colab-df-container {\n",
              "      display:flex;\n",
              "      flex-wrap:wrap;\n",
              "      gap: 12px;\n",
              "    }\n",
              "\n",
              "    .colab-df-convert {\n",
              "      background-color: #E8F0FE;\n",
              "      border: none;\n",
              "      border-radius: 50%;\n",
              "      cursor: pointer;\n",
              "      display: none;\n",
              "      fill: #1967D2;\n",
              "      height: 32px;\n",
              "      padding: 0 0 0 0;\n",
              "      width: 32px;\n",
              "    }\n",
              "\n",
              "    .colab-df-convert:hover {\n",
              "      background-color: #E2EBFA;\n",
              "      box-shadow: 0px 1px 2px rgba(60, 64, 67, 0.3), 0px 1px 3px 1px rgba(60, 64, 67, 0.15);\n",
              "      fill: #174EA6;\n",
              "    }\n",
              "\n",
              "    [theme=dark] .colab-df-convert {\n",
              "      background-color: #3B4455;\n",
              "      fill: #D2E3FC;\n",
              "    }\n",
              "\n",
              "    [theme=dark] .colab-df-convert:hover {\n",
              "      background-color: #434B5C;\n",
              "      box-shadow: 0px 1px 3px 1px rgba(0, 0, 0, 0.15);\n",
              "      filter: drop-shadow(0px 1px 2px rgba(0, 0, 0, 0.3));\n",
              "      fill: #FFFFFF;\n",
              "    }\n",
              "  </style>\n",
              "\n",
              "      <script>\n",
              "        const buttonEl =\n",
              "          document.querySelector('#df-adfae942-e0cd-443e-a018-af70b58be3c4 button.colab-df-convert');\n",
              "        buttonEl.style.display =\n",
              "          google.colab.kernel.accessAllowed ? 'block' : 'none';\n",
              "\n",
              "        async function convertToInteractive(key) {\n",
              "          const element = document.querySelector('#df-adfae942-e0cd-443e-a018-af70b58be3c4');\n",
              "          const dataTable =\n",
              "            await google.colab.kernel.invokeFunction('convertToInteractive',\n",
              "                                                     [key], {});\n",
              "          if (!dataTable) return;\n",
              "\n",
              "          const docLinkHtml = 'Like what you see? Visit the ' +\n",
              "            '<a target=\"_blank\" href=https://colab.research.google.com/notebooks/data_table.ipynb>data table notebook</a>'\n",
              "            + ' to learn more about interactive tables.';\n",
              "          element.innerHTML = '';\n",
              "          dataTable['output_type'] = 'display_data';\n",
              "          await google.colab.output.renderOutput(dataTable, element);\n",
              "          const docLink = document.createElement('div');\n",
              "          docLink.innerHTML = docLinkHtml;\n",
              "          element.appendChild(docLink);\n",
              "        }\n",
              "      </script>\n",
              "    </div>\n",
              "  </div>\n",
              "  "
            ]
          },
          "metadata": {},
          "execution_count": 11
        }
      ]
    },
    {
      "cell_type": "code",
      "source": [
        "# Let's see how much we lost\n",
        "print(\"Columns in original dataset: %d \\n\" % nfl_data.shape[1])\n",
        "print(\"Columns with na's dropped: %d\" % columns_with_na_dropped.shape[1])"
      ],
      "metadata": {
        "colab": {
          "base_uri": "https://localhost:8080/"
        },
        "id": "XqaVdQ-Z0aFN",
        "outputId": "02369f57-67f0-4a3b-d2ca-951334f253c3"
      },
      "execution_count": null,
      "outputs": [
        {
          "output_type": "stream",
          "name": "stdout",
          "text": [
            "Columns in original dataset: 102 \n",
            "\n",
            "Columns with na's dropped: 41\n"
          ]
        }
      ]
    },
    {
      "cell_type": "markdown",
      "source": [
        "We can also fill in missing values instead of completely dropping them from the DataFrame."
      ],
      "metadata": {
        "id": "zF4eE35U0pIL"
      }
    },
    {
      "cell_type": "code",
      "source": [
        "#get small subset of NFL dataset\n",
        "subset_nfl_data = nfl_data.loc[:, 'EPA':'Season'].head()\n",
        "subset_nfl_data"
      ],
      "metadata": {
        "colab": {
          "base_uri": "https://localhost:8080/",
          "height": 206
        },
        "id": "ZsZUItvD0mjl",
        "outputId": "e2236000-ac85-4ea1-c002-8d8e21c31ef1"
      },
      "execution_count": null,
      "outputs": [
        {
          "output_type": "execute_result",
          "data": {
            "text/plain": [
              "        EPA    airEPA    yacEPA  Home_WP_pre  Away_WP_pre  Home_WP_post  \\\n",
              "0  2.014474       NaN       NaN     0.485675     0.514325      0.546433   \n",
              "1  0.077907 -1.068169  1.146076     0.546433     0.453567      0.551088   \n",
              "2 -1.402760       NaN       NaN     0.551088     0.448912      0.510793   \n",
              "3 -1.712583  3.318841 -5.031425     0.510793     0.489207      0.461217   \n",
              "4  2.097796       NaN       NaN     0.461217     0.538783      0.558929   \n",
              "\n",
              "   Away_WP_post  Win_Prob       WPA    airWPA    yacWPA  Season  \n",
              "0      0.453567  0.485675  0.060758       NaN       NaN    2009  \n",
              "1      0.448912  0.546433  0.004655 -0.032244  0.036899    2009  \n",
              "2      0.489207  0.551088 -0.040295       NaN       NaN    2009  \n",
              "3      0.538783  0.510793 -0.049576  0.106663 -0.156239    2009  \n",
              "4      0.441071  0.461217  0.097712       NaN       NaN    2009  "
            ],
            "text/html": [
              "\n",
              "  <div id=\"df-1f61c252-ff89-4f27-a9fd-9f903f710b41\">\n",
              "    <div class=\"colab-df-container\">\n",
              "      <div>\n",
              "<style scoped>\n",
              "    .dataframe tbody tr th:only-of-type {\n",
              "        vertical-align: middle;\n",
              "    }\n",
              "\n",
              "    .dataframe tbody tr th {\n",
              "        vertical-align: top;\n",
              "    }\n",
              "\n",
              "    .dataframe thead th {\n",
              "        text-align: right;\n",
              "    }\n",
              "</style>\n",
              "<table border=\"1\" class=\"dataframe\">\n",
              "  <thead>\n",
              "    <tr style=\"text-align: right;\">\n",
              "      <th></th>\n",
              "      <th>EPA</th>\n",
              "      <th>airEPA</th>\n",
              "      <th>yacEPA</th>\n",
              "      <th>Home_WP_pre</th>\n",
              "      <th>Away_WP_pre</th>\n",
              "      <th>Home_WP_post</th>\n",
              "      <th>Away_WP_post</th>\n",
              "      <th>Win_Prob</th>\n",
              "      <th>WPA</th>\n",
              "      <th>airWPA</th>\n",
              "      <th>yacWPA</th>\n",
              "      <th>Season</th>\n",
              "    </tr>\n",
              "  </thead>\n",
              "  <tbody>\n",
              "    <tr>\n",
              "      <th>0</th>\n",
              "      <td>2.014474</td>\n",
              "      <td>NaN</td>\n",
              "      <td>NaN</td>\n",
              "      <td>0.485675</td>\n",
              "      <td>0.514325</td>\n",
              "      <td>0.546433</td>\n",
              "      <td>0.453567</td>\n",
              "      <td>0.485675</td>\n",
              "      <td>0.060758</td>\n",
              "      <td>NaN</td>\n",
              "      <td>NaN</td>\n",
              "      <td>2009</td>\n",
              "    </tr>\n",
              "    <tr>\n",
              "      <th>1</th>\n",
              "      <td>0.077907</td>\n",
              "      <td>-1.068169</td>\n",
              "      <td>1.146076</td>\n",
              "      <td>0.546433</td>\n",
              "      <td>0.453567</td>\n",
              "      <td>0.551088</td>\n",
              "      <td>0.448912</td>\n",
              "      <td>0.546433</td>\n",
              "      <td>0.004655</td>\n",
              "      <td>-0.032244</td>\n",
              "      <td>0.036899</td>\n",
              "      <td>2009</td>\n",
              "    </tr>\n",
              "    <tr>\n",
              "      <th>2</th>\n",
              "      <td>-1.402760</td>\n",
              "      <td>NaN</td>\n",
              "      <td>NaN</td>\n",
              "      <td>0.551088</td>\n",
              "      <td>0.448912</td>\n",
              "      <td>0.510793</td>\n",
              "      <td>0.489207</td>\n",
              "      <td>0.551088</td>\n",
              "      <td>-0.040295</td>\n",
              "      <td>NaN</td>\n",
              "      <td>NaN</td>\n",
              "      <td>2009</td>\n",
              "    </tr>\n",
              "    <tr>\n",
              "      <th>3</th>\n",
              "      <td>-1.712583</td>\n",
              "      <td>3.318841</td>\n",
              "      <td>-5.031425</td>\n",
              "      <td>0.510793</td>\n",
              "      <td>0.489207</td>\n",
              "      <td>0.461217</td>\n",
              "      <td>0.538783</td>\n",
              "      <td>0.510793</td>\n",
              "      <td>-0.049576</td>\n",
              "      <td>0.106663</td>\n",
              "      <td>-0.156239</td>\n",
              "      <td>2009</td>\n",
              "    </tr>\n",
              "    <tr>\n",
              "      <th>4</th>\n",
              "      <td>2.097796</td>\n",
              "      <td>NaN</td>\n",
              "      <td>NaN</td>\n",
              "      <td>0.461217</td>\n",
              "      <td>0.538783</td>\n",
              "      <td>0.558929</td>\n",
              "      <td>0.441071</td>\n",
              "      <td>0.461217</td>\n",
              "      <td>0.097712</td>\n",
              "      <td>NaN</td>\n",
              "      <td>NaN</td>\n",
              "      <td>2009</td>\n",
              "    </tr>\n",
              "  </tbody>\n",
              "</table>\n",
              "</div>\n",
              "      <button class=\"colab-df-convert\" onclick=\"convertToInteractive('df-1f61c252-ff89-4f27-a9fd-9f903f710b41')\"\n",
              "              title=\"Convert this dataframe to an interactive table.\"\n",
              "              style=\"display:none;\">\n",
              "        \n",
              "  <svg xmlns=\"http://www.w3.org/2000/svg\" height=\"24px\"viewBox=\"0 0 24 24\"\n",
              "       width=\"24px\">\n",
              "    <path d=\"M0 0h24v24H0V0z\" fill=\"none\"/>\n",
              "    <path d=\"M18.56 5.44l.94 2.06.94-2.06 2.06-.94-2.06-.94-.94-2.06-.94 2.06-2.06.94zm-11 1L8.5 8.5l.94-2.06 2.06-.94-2.06-.94L8.5 2.5l-.94 2.06-2.06.94zm10 10l.94 2.06.94-2.06 2.06-.94-2.06-.94-.94-2.06-.94 2.06-2.06.94z\"/><path d=\"M17.41 7.96l-1.37-1.37c-.4-.4-.92-.59-1.43-.59-.52 0-1.04.2-1.43.59L10.3 9.45l-7.72 7.72c-.78.78-.78 2.05 0 2.83L4 21.41c.39.39.9.59 1.41.59.51 0 1.02-.2 1.41-.59l7.78-7.78 2.81-2.81c.8-.78.8-2.07 0-2.86zM5.41 20L4 18.59l7.72-7.72 1.47 1.35L5.41 20z\"/>\n",
              "  </svg>\n",
              "      </button>\n",
              "      \n",
              "  <style>\n",
              "    .colab-df-container {\n",
              "      display:flex;\n",
              "      flex-wrap:wrap;\n",
              "      gap: 12px;\n",
              "    }\n",
              "\n",
              "    .colab-df-convert {\n",
              "      background-color: #E8F0FE;\n",
              "      border: none;\n",
              "      border-radius: 50%;\n",
              "      cursor: pointer;\n",
              "      display: none;\n",
              "      fill: #1967D2;\n",
              "      height: 32px;\n",
              "      padding: 0 0 0 0;\n",
              "      width: 32px;\n",
              "    }\n",
              "\n",
              "    .colab-df-convert:hover {\n",
              "      background-color: #E2EBFA;\n",
              "      box-shadow: 0px 1px 2px rgba(60, 64, 67, 0.3), 0px 1px 3px 1px rgba(60, 64, 67, 0.15);\n",
              "      fill: #174EA6;\n",
              "    }\n",
              "\n",
              "    [theme=dark] .colab-df-convert {\n",
              "      background-color: #3B4455;\n",
              "      fill: #D2E3FC;\n",
              "    }\n",
              "\n",
              "    [theme=dark] .colab-df-convert:hover {\n",
              "      background-color: #434B5C;\n",
              "      box-shadow: 0px 1px 3px 1px rgba(0, 0, 0, 0.15);\n",
              "      filter: drop-shadow(0px 1px 2px rgba(0, 0, 0, 0.3));\n",
              "      fill: #FFFFFF;\n",
              "    }\n",
              "  </style>\n",
              "\n",
              "      <script>\n",
              "        const buttonEl =\n",
              "          document.querySelector('#df-1f61c252-ff89-4f27-a9fd-9f903f710b41 button.colab-df-convert');\n",
              "        buttonEl.style.display =\n",
              "          google.colab.kernel.accessAllowed ? 'block' : 'none';\n",
              "\n",
              "        async function convertToInteractive(key) {\n",
              "          const element = document.querySelector('#df-1f61c252-ff89-4f27-a9fd-9f903f710b41');\n",
              "          const dataTable =\n",
              "            await google.colab.kernel.invokeFunction('convertToInteractive',\n",
              "                                                     [key], {});\n",
              "          if (!dataTable) return;\n",
              "\n",
              "          const docLinkHtml = 'Like what you see? Visit the ' +\n",
              "            '<a target=\"_blank\" href=https://colab.research.google.com/notebooks/data_table.ipynb>data table notebook</a>'\n",
              "            + ' to learn more about interactive tables.';\n",
              "          element.innerHTML = '';\n",
              "          dataTable['output_type'] = 'display_data';\n",
              "          await google.colab.output.renderOutput(dataTable, element);\n",
              "          const docLink = document.createElement('div');\n",
              "          docLink.innerHTML = docLinkHtml;\n",
              "          element.appendChild(docLink);\n",
              "        }\n",
              "      </script>\n",
              "    </div>\n",
              "  </div>\n",
              "  "
            ]
          },
          "metadata": {},
          "execution_count": 13
        }
      ]
    },
    {
      "cell_type": "markdown",
      "source": [
        "Using fillna() we can fill in missing values. Let's start by filling the values with 0."
      ],
      "metadata": {
        "id": "FTtdddRx06Gv"
      }
    },
    {
      "cell_type": "code",
      "source": [
        "#replace NA's with 0\n",
        "subset_nfl_data.fillna(0)"
      ],
      "metadata": {
        "colab": {
          "base_uri": "https://localhost:8080/",
          "height": 206
        },
        "id": "05m9IUH3008e",
        "outputId": "d14b2c9b-dd73-4fb6-8398-892e9b53a8a7"
      },
      "execution_count": null,
      "outputs": [
        {
          "output_type": "execute_result",
          "data": {
            "text/plain": [
              "        EPA    airEPA    yacEPA  Home_WP_pre  Away_WP_pre  Home_WP_post  \\\n",
              "0  2.014474  0.000000  0.000000     0.485675     0.514325      0.546433   \n",
              "1  0.077907 -1.068169  1.146076     0.546433     0.453567      0.551088   \n",
              "2 -1.402760  0.000000  0.000000     0.551088     0.448912      0.510793   \n",
              "3 -1.712583  3.318841 -5.031425     0.510793     0.489207      0.461217   \n",
              "4  2.097796  0.000000  0.000000     0.461217     0.538783      0.558929   \n",
              "\n",
              "   Away_WP_post  Win_Prob       WPA    airWPA    yacWPA  Season  \n",
              "0      0.453567  0.485675  0.060758  0.000000  0.000000    2009  \n",
              "1      0.448912  0.546433  0.004655 -0.032244  0.036899    2009  \n",
              "2      0.489207  0.551088 -0.040295  0.000000  0.000000    2009  \n",
              "3      0.538783  0.510793 -0.049576  0.106663 -0.156239    2009  \n",
              "4      0.441071  0.461217  0.097712  0.000000  0.000000    2009  "
            ],
            "text/html": [
              "\n",
              "  <div id=\"df-953a3cac-dde3-4ada-8e0a-86cf1d7157f6\">\n",
              "    <div class=\"colab-df-container\">\n",
              "      <div>\n",
              "<style scoped>\n",
              "    .dataframe tbody tr th:only-of-type {\n",
              "        vertical-align: middle;\n",
              "    }\n",
              "\n",
              "    .dataframe tbody tr th {\n",
              "        vertical-align: top;\n",
              "    }\n",
              "\n",
              "    .dataframe thead th {\n",
              "        text-align: right;\n",
              "    }\n",
              "</style>\n",
              "<table border=\"1\" class=\"dataframe\">\n",
              "  <thead>\n",
              "    <tr style=\"text-align: right;\">\n",
              "      <th></th>\n",
              "      <th>EPA</th>\n",
              "      <th>airEPA</th>\n",
              "      <th>yacEPA</th>\n",
              "      <th>Home_WP_pre</th>\n",
              "      <th>Away_WP_pre</th>\n",
              "      <th>Home_WP_post</th>\n",
              "      <th>Away_WP_post</th>\n",
              "      <th>Win_Prob</th>\n",
              "      <th>WPA</th>\n",
              "      <th>airWPA</th>\n",
              "      <th>yacWPA</th>\n",
              "      <th>Season</th>\n",
              "    </tr>\n",
              "  </thead>\n",
              "  <tbody>\n",
              "    <tr>\n",
              "      <th>0</th>\n",
              "      <td>2.014474</td>\n",
              "      <td>0.000000</td>\n",
              "      <td>0.000000</td>\n",
              "      <td>0.485675</td>\n",
              "      <td>0.514325</td>\n",
              "      <td>0.546433</td>\n",
              "      <td>0.453567</td>\n",
              "      <td>0.485675</td>\n",
              "      <td>0.060758</td>\n",
              "      <td>0.000000</td>\n",
              "      <td>0.000000</td>\n",
              "      <td>2009</td>\n",
              "    </tr>\n",
              "    <tr>\n",
              "      <th>1</th>\n",
              "      <td>0.077907</td>\n",
              "      <td>-1.068169</td>\n",
              "      <td>1.146076</td>\n",
              "      <td>0.546433</td>\n",
              "      <td>0.453567</td>\n",
              "      <td>0.551088</td>\n",
              "      <td>0.448912</td>\n",
              "      <td>0.546433</td>\n",
              "      <td>0.004655</td>\n",
              "      <td>-0.032244</td>\n",
              "      <td>0.036899</td>\n",
              "      <td>2009</td>\n",
              "    </tr>\n",
              "    <tr>\n",
              "      <th>2</th>\n",
              "      <td>-1.402760</td>\n",
              "      <td>0.000000</td>\n",
              "      <td>0.000000</td>\n",
              "      <td>0.551088</td>\n",
              "      <td>0.448912</td>\n",
              "      <td>0.510793</td>\n",
              "      <td>0.489207</td>\n",
              "      <td>0.551088</td>\n",
              "      <td>-0.040295</td>\n",
              "      <td>0.000000</td>\n",
              "      <td>0.000000</td>\n",
              "      <td>2009</td>\n",
              "    </tr>\n",
              "    <tr>\n",
              "      <th>3</th>\n",
              "      <td>-1.712583</td>\n",
              "      <td>3.318841</td>\n",
              "      <td>-5.031425</td>\n",
              "      <td>0.510793</td>\n",
              "      <td>0.489207</td>\n",
              "      <td>0.461217</td>\n",
              "      <td>0.538783</td>\n",
              "      <td>0.510793</td>\n",
              "      <td>-0.049576</td>\n",
              "      <td>0.106663</td>\n",
              "      <td>-0.156239</td>\n",
              "      <td>2009</td>\n",
              "    </tr>\n",
              "    <tr>\n",
              "      <th>4</th>\n",
              "      <td>2.097796</td>\n",
              "      <td>0.000000</td>\n",
              "      <td>0.000000</td>\n",
              "      <td>0.461217</td>\n",
              "      <td>0.538783</td>\n",
              "      <td>0.558929</td>\n",
              "      <td>0.441071</td>\n",
              "      <td>0.461217</td>\n",
              "      <td>0.097712</td>\n",
              "      <td>0.000000</td>\n",
              "      <td>0.000000</td>\n",
              "      <td>2009</td>\n",
              "    </tr>\n",
              "  </tbody>\n",
              "</table>\n",
              "</div>\n",
              "      <button class=\"colab-df-convert\" onclick=\"convertToInteractive('df-953a3cac-dde3-4ada-8e0a-86cf1d7157f6')\"\n",
              "              title=\"Convert this dataframe to an interactive table.\"\n",
              "              style=\"display:none;\">\n",
              "        \n",
              "  <svg xmlns=\"http://www.w3.org/2000/svg\" height=\"24px\"viewBox=\"0 0 24 24\"\n",
              "       width=\"24px\">\n",
              "    <path d=\"M0 0h24v24H0V0z\" fill=\"none\"/>\n",
              "    <path d=\"M18.56 5.44l.94 2.06.94-2.06 2.06-.94-2.06-.94-.94-2.06-.94 2.06-2.06.94zm-11 1L8.5 8.5l.94-2.06 2.06-.94-2.06-.94L8.5 2.5l-.94 2.06-2.06.94zm10 10l.94 2.06.94-2.06 2.06-.94-2.06-.94-.94-2.06-.94 2.06-2.06.94z\"/><path d=\"M17.41 7.96l-1.37-1.37c-.4-.4-.92-.59-1.43-.59-.52 0-1.04.2-1.43.59L10.3 9.45l-7.72 7.72c-.78.78-.78 2.05 0 2.83L4 21.41c.39.39.9.59 1.41.59.51 0 1.02-.2 1.41-.59l7.78-7.78 2.81-2.81c.8-.78.8-2.07 0-2.86zM5.41 20L4 18.59l7.72-7.72 1.47 1.35L5.41 20z\"/>\n",
              "  </svg>\n",
              "      </button>\n",
              "      \n",
              "  <style>\n",
              "    .colab-df-container {\n",
              "      display:flex;\n",
              "      flex-wrap:wrap;\n",
              "      gap: 12px;\n",
              "    }\n",
              "\n",
              "    .colab-df-convert {\n",
              "      background-color: #E8F0FE;\n",
              "      border: none;\n",
              "      border-radius: 50%;\n",
              "      cursor: pointer;\n",
              "      display: none;\n",
              "      fill: #1967D2;\n",
              "      height: 32px;\n",
              "      padding: 0 0 0 0;\n",
              "      width: 32px;\n",
              "    }\n",
              "\n",
              "    .colab-df-convert:hover {\n",
              "      background-color: #E2EBFA;\n",
              "      box-shadow: 0px 1px 2px rgba(60, 64, 67, 0.3), 0px 1px 3px 1px rgba(60, 64, 67, 0.15);\n",
              "      fill: #174EA6;\n",
              "    }\n",
              "\n",
              "    [theme=dark] .colab-df-convert {\n",
              "      background-color: #3B4455;\n",
              "      fill: #D2E3FC;\n",
              "    }\n",
              "\n",
              "    [theme=dark] .colab-df-convert:hover {\n",
              "      background-color: #434B5C;\n",
              "      box-shadow: 0px 1px 3px 1px rgba(0, 0, 0, 0.15);\n",
              "      filter: drop-shadow(0px 1px 2px rgba(0, 0, 0, 0.3));\n",
              "      fill: #FFFFFF;\n",
              "    }\n",
              "  </style>\n",
              "\n",
              "      <script>\n",
              "        const buttonEl =\n",
              "          document.querySelector('#df-953a3cac-dde3-4ada-8e0a-86cf1d7157f6 button.colab-df-convert');\n",
              "        buttonEl.style.display =\n",
              "          google.colab.kernel.accessAllowed ? 'block' : 'none';\n",
              "\n",
              "        async function convertToInteractive(key) {\n",
              "          const element = document.querySelector('#df-953a3cac-dde3-4ada-8e0a-86cf1d7157f6');\n",
              "          const dataTable =\n",
              "            await google.colab.kernel.invokeFunction('convertToInteractive',\n",
              "                                                     [key], {});\n",
              "          if (!dataTable) return;\n",
              "\n",
              "          const docLinkHtml = 'Like what you see? Visit the ' +\n",
              "            '<a target=\"_blank\" href=https://colab.research.google.com/notebooks/data_table.ipynb>data table notebook</a>'\n",
              "            + ' to learn more about interactive tables.';\n",
              "          element.innerHTML = '';\n",
              "          dataTable['output_type'] = 'display_data';\n",
              "          await google.colab.output.renderOutput(dataTable, element);\n",
              "          const docLink = document.createElement('div');\n",
              "          docLink.innerHTML = docLinkHtml;\n",
              "          element.appendChild(docLink);\n",
              "        }\n",
              "      </script>\n",
              "    </div>\n",
              "  </div>\n",
              "  "
            ]
          },
          "metadata": {},
          "execution_count": 14
        }
      ]
    },
    {
      "cell_type": "code",
      "source": [
        "# Replace NA's with the value that comes directly after it in the same column\n",
        "# Replace all remaining NA's with 0s\n",
        "subset_nfl_data.fillna(method='bfill', axis=0).fillna(0)"
      ],
      "metadata": {
        "id": "_6LGQckl1CKe",
        "colab": {
          "base_uri": "https://localhost:8080/",
          "height": 206
        },
        "outputId": "3e5010d2-6361-4aa4-83d7-1ddd65507ba5"
      },
      "execution_count": null,
      "outputs": [
        {
          "output_type": "execute_result",
          "data": {
            "text/plain": [
              "        EPA    airEPA    yacEPA  Home_WP_pre  Away_WP_pre  Home_WP_post  \\\n",
              "0  2.014474 -1.068169  1.146076     0.485675     0.514325      0.546433   \n",
              "1  0.077907 -1.068169  1.146076     0.546433     0.453567      0.551088   \n",
              "2 -1.402760  3.318841 -5.031425     0.551088     0.448912      0.510793   \n",
              "3 -1.712583  3.318841 -5.031425     0.510793     0.489207      0.461217   \n",
              "4  2.097796  0.000000  0.000000     0.461217     0.538783      0.558929   \n",
              "\n",
              "   Away_WP_post  Win_Prob       WPA    airWPA    yacWPA  Season  \n",
              "0      0.453567  0.485675  0.060758 -0.032244  0.036899    2009  \n",
              "1      0.448912  0.546433  0.004655 -0.032244  0.036899    2009  \n",
              "2      0.489207  0.551088 -0.040295  0.106663 -0.156239    2009  \n",
              "3      0.538783  0.510793 -0.049576  0.106663 -0.156239    2009  \n",
              "4      0.441071  0.461217  0.097712  0.000000  0.000000    2009  "
            ],
            "text/html": [
              "\n",
              "  <div id=\"df-15ce7187-d483-46b5-83d4-401d4c79a960\">\n",
              "    <div class=\"colab-df-container\">\n",
              "      <div>\n",
              "<style scoped>\n",
              "    .dataframe tbody tr th:only-of-type {\n",
              "        vertical-align: middle;\n",
              "    }\n",
              "\n",
              "    .dataframe tbody tr th {\n",
              "        vertical-align: top;\n",
              "    }\n",
              "\n",
              "    .dataframe thead th {\n",
              "        text-align: right;\n",
              "    }\n",
              "</style>\n",
              "<table border=\"1\" class=\"dataframe\">\n",
              "  <thead>\n",
              "    <tr style=\"text-align: right;\">\n",
              "      <th></th>\n",
              "      <th>EPA</th>\n",
              "      <th>airEPA</th>\n",
              "      <th>yacEPA</th>\n",
              "      <th>Home_WP_pre</th>\n",
              "      <th>Away_WP_pre</th>\n",
              "      <th>Home_WP_post</th>\n",
              "      <th>Away_WP_post</th>\n",
              "      <th>Win_Prob</th>\n",
              "      <th>WPA</th>\n",
              "      <th>airWPA</th>\n",
              "      <th>yacWPA</th>\n",
              "      <th>Season</th>\n",
              "    </tr>\n",
              "  </thead>\n",
              "  <tbody>\n",
              "    <tr>\n",
              "      <th>0</th>\n",
              "      <td>2.014474</td>\n",
              "      <td>-1.068169</td>\n",
              "      <td>1.146076</td>\n",
              "      <td>0.485675</td>\n",
              "      <td>0.514325</td>\n",
              "      <td>0.546433</td>\n",
              "      <td>0.453567</td>\n",
              "      <td>0.485675</td>\n",
              "      <td>0.060758</td>\n",
              "      <td>-0.032244</td>\n",
              "      <td>0.036899</td>\n",
              "      <td>2009</td>\n",
              "    </tr>\n",
              "    <tr>\n",
              "      <th>1</th>\n",
              "      <td>0.077907</td>\n",
              "      <td>-1.068169</td>\n",
              "      <td>1.146076</td>\n",
              "      <td>0.546433</td>\n",
              "      <td>0.453567</td>\n",
              "      <td>0.551088</td>\n",
              "      <td>0.448912</td>\n",
              "      <td>0.546433</td>\n",
              "      <td>0.004655</td>\n",
              "      <td>-0.032244</td>\n",
              "      <td>0.036899</td>\n",
              "      <td>2009</td>\n",
              "    </tr>\n",
              "    <tr>\n",
              "      <th>2</th>\n",
              "      <td>-1.402760</td>\n",
              "      <td>3.318841</td>\n",
              "      <td>-5.031425</td>\n",
              "      <td>0.551088</td>\n",
              "      <td>0.448912</td>\n",
              "      <td>0.510793</td>\n",
              "      <td>0.489207</td>\n",
              "      <td>0.551088</td>\n",
              "      <td>-0.040295</td>\n",
              "      <td>0.106663</td>\n",
              "      <td>-0.156239</td>\n",
              "      <td>2009</td>\n",
              "    </tr>\n",
              "    <tr>\n",
              "      <th>3</th>\n",
              "      <td>-1.712583</td>\n",
              "      <td>3.318841</td>\n",
              "      <td>-5.031425</td>\n",
              "      <td>0.510793</td>\n",
              "      <td>0.489207</td>\n",
              "      <td>0.461217</td>\n",
              "      <td>0.538783</td>\n",
              "      <td>0.510793</td>\n",
              "      <td>-0.049576</td>\n",
              "      <td>0.106663</td>\n",
              "      <td>-0.156239</td>\n",
              "      <td>2009</td>\n",
              "    </tr>\n",
              "    <tr>\n",
              "      <th>4</th>\n",
              "      <td>2.097796</td>\n",
              "      <td>0.000000</td>\n",
              "      <td>0.000000</td>\n",
              "      <td>0.461217</td>\n",
              "      <td>0.538783</td>\n",
              "      <td>0.558929</td>\n",
              "      <td>0.441071</td>\n",
              "      <td>0.461217</td>\n",
              "      <td>0.097712</td>\n",
              "      <td>0.000000</td>\n",
              "      <td>0.000000</td>\n",
              "      <td>2009</td>\n",
              "    </tr>\n",
              "  </tbody>\n",
              "</table>\n",
              "</div>\n",
              "      <button class=\"colab-df-convert\" onclick=\"convertToInteractive('df-15ce7187-d483-46b5-83d4-401d4c79a960')\"\n",
              "              title=\"Convert this dataframe to an interactive table.\"\n",
              "              style=\"display:none;\">\n",
              "        \n",
              "  <svg xmlns=\"http://www.w3.org/2000/svg\" height=\"24px\"viewBox=\"0 0 24 24\"\n",
              "       width=\"24px\">\n",
              "    <path d=\"M0 0h24v24H0V0z\" fill=\"none\"/>\n",
              "    <path d=\"M18.56 5.44l.94 2.06.94-2.06 2.06-.94-2.06-.94-.94-2.06-.94 2.06-2.06.94zm-11 1L8.5 8.5l.94-2.06 2.06-.94-2.06-.94L8.5 2.5l-.94 2.06-2.06.94zm10 10l.94 2.06.94-2.06 2.06-.94-2.06-.94-.94-2.06-.94 2.06-2.06.94z\"/><path d=\"M17.41 7.96l-1.37-1.37c-.4-.4-.92-.59-1.43-.59-.52 0-1.04.2-1.43.59L10.3 9.45l-7.72 7.72c-.78.78-.78 2.05 0 2.83L4 21.41c.39.39.9.59 1.41.59.51 0 1.02-.2 1.41-.59l7.78-7.78 2.81-2.81c.8-.78.8-2.07 0-2.86zM5.41 20L4 18.59l7.72-7.72 1.47 1.35L5.41 20z\"/>\n",
              "  </svg>\n",
              "      </button>\n",
              "      \n",
              "  <style>\n",
              "    .colab-df-container {\n",
              "      display:flex;\n",
              "      flex-wrap:wrap;\n",
              "      gap: 12px;\n",
              "    }\n",
              "\n",
              "    .colab-df-convert {\n",
              "      background-color: #E8F0FE;\n",
              "      border: none;\n",
              "      border-radius: 50%;\n",
              "      cursor: pointer;\n",
              "      display: none;\n",
              "      fill: #1967D2;\n",
              "      height: 32px;\n",
              "      padding: 0 0 0 0;\n",
              "      width: 32px;\n",
              "    }\n",
              "\n",
              "    .colab-df-convert:hover {\n",
              "      background-color: #E2EBFA;\n",
              "      box-shadow: 0px 1px 2px rgba(60, 64, 67, 0.3), 0px 1px 3px 1px rgba(60, 64, 67, 0.15);\n",
              "      fill: #174EA6;\n",
              "    }\n",
              "\n",
              "    [theme=dark] .colab-df-convert {\n",
              "      background-color: #3B4455;\n",
              "      fill: #D2E3FC;\n",
              "    }\n",
              "\n",
              "    [theme=dark] .colab-df-convert:hover {\n",
              "      background-color: #434B5C;\n",
              "      box-shadow: 0px 1px 3px 1px rgba(0, 0, 0, 0.15);\n",
              "      filter: drop-shadow(0px 1px 2px rgba(0, 0, 0, 0.3));\n",
              "      fill: #FFFFFF;\n",
              "    }\n",
              "  </style>\n",
              "\n",
              "      <script>\n",
              "        const buttonEl =\n",
              "          document.querySelector('#df-15ce7187-d483-46b5-83d4-401d4c79a960 button.colab-df-convert');\n",
              "        buttonEl.style.display =\n",
              "          google.colab.kernel.accessAllowed ? 'block' : 'none';\n",
              "\n",
              "        async function convertToInteractive(key) {\n",
              "          const element = document.querySelector('#df-15ce7187-d483-46b5-83d4-401d4c79a960');\n",
              "          const dataTable =\n",
              "            await google.colab.kernel.invokeFunction('convertToInteractive',\n",
              "                                                     [key], {});\n",
              "          if (!dataTable) return;\n",
              "\n",
              "          const docLinkHtml = 'Like what you see? Visit the ' +\n",
              "            '<a target=\"_blank\" href=https://colab.research.google.com/notebooks/data_table.ipynb>data table notebook</a>'\n",
              "            + ' to learn more about interactive tables.';\n",
              "          element.innerHTML = '';\n",
              "          dataTable['output_type'] = 'display_data';\n",
              "          await google.colab.output.renderOutput(dataTable, element);\n",
              "          const docLink = document.createElement('div');\n",
              "          docLink.innerHTML = docLinkHtml;\n",
              "          element.appendChild(docLink);\n",
              "        }\n",
              "      </script>\n",
              "    </div>\n",
              "  </div>\n",
              "  "
            ]
          },
          "metadata": {},
          "execution_count": 15
        }
      ]
    },
    {
      "cell_type": "markdown",
      "source": [
        "##Your Turn"
      ],
      "metadata": {
        "id": "uEOFUWwEkntA"
      }
    },
    {
      "cell_type": "code",
      "source": [
        "#Initial Setup\n",
        "import pandas as pd\n",
        "import numpy as np\n",
        "from google.colab import files\n",
        "uploaded = files.upload()"
      ],
      "metadata": {
        "colab": {
          "resources": {
            "http://localhost:8080/nbextensions/google.colab/files.js": {
              "data": "Ly8gQ29weXJpZ2h0IDIwMTcgR29vZ2xlIExMQwovLwovLyBMaWNlbnNlZCB1bmRlciB0aGUgQXBhY2hlIExpY2Vuc2UsIFZlcnNpb24gMi4wICh0aGUgIkxpY2Vuc2UiKTsKLy8geW91IG1heSBub3QgdXNlIHRoaXMgZmlsZSBleGNlcHQgaW4gY29tcGxpYW5jZSB3aXRoIHRoZSBMaWNlbnNlLgovLyBZb3UgbWF5IG9idGFpbiBhIGNvcHkgb2YgdGhlIExpY2Vuc2UgYXQKLy8KLy8gICAgICBodHRwOi8vd3d3LmFwYWNoZS5vcmcvbGljZW5zZXMvTElDRU5TRS0yLjAKLy8KLy8gVW5sZXNzIHJlcXVpcmVkIGJ5IGFwcGxpY2FibGUgbGF3IG9yIGFncmVlZCB0byBpbiB3cml0aW5nLCBzb2Z0d2FyZQovLyBkaXN0cmlidXRlZCB1bmRlciB0aGUgTGljZW5zZSBpcyBkaXN0cmlidXRlZCBvbiBhbiAiQVMgSVMiIEJBU0lTLAovLyBXSVRIT1VUIFdBUlJBTlRJRVMgT1IgQ09ORElUSU9OUyBPRiBBTlkgS0lORCwgZWl0aGVyIGV4cHJlc3Mgb3IgaW1wbGllZC4KLy8gU2VlIHRoZSBMaWNlbnNlIGZvciB0aGUgc3BlY2lmaWMgbGFuZ3VhZ2UgZ292ZXJuaW5nIHBlcm1pc3Npb25zIGFuZAovLyBsaW1pdGF0aW9ucyB1bmRlciB0aGUgTGljZW5zZS4KCi8qKgogKiBAZmlsZW92ZXJ2aWV3IEhlbHBlcnMgZm9yIGdvb2dsZS5jb2xhYiBQeXRob24gbW9kdWxlLgogKi8KKGZ1bmN0aW9uKHNjb3BlKSB7CmZ1bmN0aW9uIHNwYW4odGV4dCwgc3R5bGVBdHRyaWJ1dGVzID0ge30pIHsKICBjb25zdCBlbGVtZW50ID0gZG9jdW1lbnQuY3JlYXRlRWxlbWVudCgnc3BhbicpOwogIGVsZW1lbnQudGV4dENvbnRlbnQgPSB0ZXh0OwogIGZvciAoY29uc3Qga2V5IG9mIE9iamVjdC5rZXlzKHN0eWxlQXR0cmlidXRlcykpIHsKICAgIGVsZW1lbnQuc3R5bGVba2V5XSA9IHN0eWxlQXR0cmlidXRlc1trZXldOwogIH0KICByZXR1cm4gZWxlbWVudDsKfQoKLy8gTWF4IG51bWJlciBvZiBieXRlcyB3aGljaCB3aWxsIGJlIHVwbG9hZGVkIGF0IGEgdGltZS4KY29uc3QgTUFYX1BBWUxPQURfU0laRSA9IDEwMCAqIDEwMjQ7CgpmdW5jdGlvbiBfdXBsb2FkRmlsZXMoaW5wdXRJZCwgb3V0cHV0SWQpIHsKICBjb25zdCBzdGVwcyA9IHVwbG9hZEZpbGVzU3RlcChpbnB1dElkLCBvdXRwdXRJZCk7CiAgY29uc3Qgb3V0cHV0RWxlbWVudCA9IGRvY3VtZW50LmdldEVsZW1lbnRCeUlkKG91dHB1dElkKTsKICAvLyBDYWNoZSBzdGVwcyBvbiB0aGUgb3V0cHV0RWxlbWVudCB0byBtYWtlIGl0IGF2YWlsYWJsZSBmb3IgdGhlIG5leHQgY2FsbAogIC8vIHRvIHVwbG9hZEZpbGVzQ29udGludWUgZnJvbSBQeXRob24uCiAgb3V0cHV0RWxlbWVudC5zdGVwcyA9IHN0ZXBzOwoKICByZXR1cm4gX3VwbG9hZEZpbGVzQ29udGludWUob3V0cHV0SWQpOwp9CgovLyBUaGlzIGlzIHJvdWdobHkgYW4gYXN5bmMgZ2VuZXJhdG9yIChub3Qgc3VwcG9ydGVkIGluIHRoZSBicm93c2VyIHlldCksCi8vIHdoZXJlIHRoZXJlIGFyZSBtdWx0aXBsZSBhc3luY2hyb25vdXMgc3RlcHMgYW5kIHRoZSBQeXRob24gc2lkZSBpcyBnb2luZwovLyB0byBwb2xsIGZvciBjb21wbGV0aW9uIG9mIGVhY2ggc3RlcC4KLy8gVGhpcyB1c2VzIGEgUHJvbWlzZSB0byBibG9jayB0aGUgcHl0aG9uIHNpZGUgb24gY29tcGxldGlvbiBvZiBlYWNoIHN0ZXAsCi8vIHRoZW4gcGFzc2VzIHRoZSByZXN1bHQgb2YgdGhlIHByZXZpb3VzIHN0ZXAgYXMgdGhlIGlucHV0IHRvIHRoZSBuZXh0IHN0ZXAuCmZ1bmN0aW9uIF91cGxvYWRGaWxlc0NvbnRpbnVlKG91dHB1dElkKSB7CiAgY29uc3Qgb3V0cHV0RWxlbWVudCA9IGRvY3VtZW50LmdldEVsZW1lbnRCeUlkKG91dHB1dElkKTsKICBjb25zdCBzdGVwcyA9IG91dHB1dEVsZW1lbnQuc3RlcHM7CgogIGNvbnN0IG5leHQgPSBzdGVwcy5uZXh0KG91dHB1dEVsZW1lbnQubGFzdFByb21pc2VWYWx1ZSk7CiAgcmV0dXJuIFByb21pc2UucmVzb2x2ZShuZXh0LnZhbHVlLnByb21pc2UpLnRoZW4oKHZhbHVlKSA9PiB7CiAgICAvLyBDYWNoZSB0aGUgbGFzdCBwcm9taXNlIHZhbHVlIHRvIG1ha2UgaXQgYXZhaWxhYmxlIHRvIHRoZSBuZXh0CiAgICAvLyBzdGVwIG9mIHRoZSBnZW5lcmF0b3IuCiAgICBvdXRwdXRFbGVtZW50Lmxhc3RQcm9taXNlVmFsdWUgPSB2YWx1ZTsKICAgIHJldHVybiBuZXh0LnZhbHVlLnJlc3BvbnNlOwogIH0pOwp9CgovKioKICogR2VuZXJhdG9yIGZ1bmN0aW9uIHdoaWNoIGlzIGNhbGxlZCBiZXR3ZWVuIGVhY2ggYXN5bmMgc3RlcCBvZiB0aGUgdXBsb2FkCiAqIHByb2Nlc3MuCiAqIEBwYXJhbSB7c3RyaW5nfSBpbnB1dElkIEVsZW1lbnQgSUQgb2YgdGhlIGlucHV0IGZpbGUgcGlja2VyIGVsZW1lbnQuCiAqIEBwYXJhbSB7c3RyaW5nfSBvdXRwdXRJZCBFbGVtZW50IElEIG9mIHRoZSBvdXRwdXQgZGlzcGxheS4KICogQHJldHVybiB7IUl0ZXJhYmxlPCFPYmplY3Q+fSBJdGVyYWJsZSBvZiBuZXh0IHN0ZXBzLgogKi8KZnVuY3Rpb24qIHVwbG9hZEZpbGVzU3RlcChpbnB1dElkLCBvdXRwdXRJZCkgewogIGNvbnN0IGlucHV0RWxlbWVudCA9IGRvY3VtZW50LmdldEVsZW1lbnRCeUlkKGlucHV0SWQpOwogIGlucHV0RWxlbWVudC5kaXNhYmxlZCA9IGZhbHNlOwoKICBjb25zdCBvdXRwdXRFbGVtZW50ID0gZG9jdW1lbnQuZ2V0RWxlbWVudEJ5SWQob3V0cHV0SWQpOwogIG91dHB1dEVsZW1lbnQuaW5uZXJIVE1MID0gJyc7CgogIGNvbnN0IHBpY2tlZFByb21pc2UgPSBuZXcgUHJvbWlzZSgocmVzb2x2ZSkgPT4gewogICAgaW5wdXRFbGVtZW50LmFkZEV2ZW50TGlzdGVuZXIoJ2NoYW5nZScsIChlKSA9PiB7CiAgICAgIHJlc29sdmUoZS50YXJnZXQuZmlsZXMpOwogICAgfSk7CiAgfSk7CgogIGNvbnN0IGNhbmNlbCA9IGRvY3VtZW50LmNyZWF0ZUVsZW1lbnQoJ2J1dHRvbicpOwogIGlucHV0RWxlbWVudC5wYXJlbnRFbGVtZW50LmFwcGVuZENoaWxkKGNhbmNlbCk7CiAgY2FuY2VsLnRleHRDb250ZW50ID0gJ0NhbmNlbCB1cGxvYWQnOwogIGNvbnN0IGNhbmNlbFByb21pc2UgPSBuZXcgUHJvbWlzZSgocmVzb2x2ZSkgPT4gewogICAgY2FuY2VsLm9uY2xpY2sgPSAoKSA9PiB7CiAgICAgIHJlc29sdmUobnVsbCk7CiAgICB9OwogIH0pOwoKICAvLyBXYWl0IGZvciB0aGUgdXNlciB0byBwaWNrIHRoZSBmaWxlcy4KICBjb25zdCBmaWxlcyA9IHlpZWxkIHsKICAgIHByb21pc2U6IFByb21pc2UucmFjZShbcGlja2VkUHJvbWlzZSwgY2FuY2VsUHJvbWlzZV0pLAogICAgcmVzcG9uc2U6IHsKICAgICAgYWN0aW9uOiAnc3RhcnRpbmcnLAogICAgfQogIH07CgogIGNhbmNlbC5yZW1vdmUoKTsKCiAgLy8gRGlzYWJsZSB0aGUgaW5wdXQgZWxlbWVudCBzaW5jZSBmdXJ0aGVyIHBpY2tzIGFyZSBub3QgYWxsb3dlZC4KICBpbnB1dEVsZW1lbnQuZGlzYWJsZWQgPSB0cnVlOwoKICBpZiAoIWZpbGVzKSB7CiAgICByZXR1cm4gewogICAgICByZXNwb25zZTogewogICAgICAgIGFjdGlvbjogJ2NvbXBsZXRlJywKICAgICAgfQogICAgfTsKICB9CgogIGZvciAoY29uc3QgZmlsZSBvZiBmaWxlcykgewogICAgY29uc3QgbGkgPSBkb2N1bWVudC5jcmVhdGVFbGVtZW50KCdsaScpOwogICAgbGkuYXBwZW5kKHNwYW4oZmlsZS5uYW1lLCB7Zm9udFdlaWdodDogJ2JvbGQnfSkpOwogICAgbGkuYXBwZW5kKHNwYW4oCiAgICAgICAgYCgke2ZpbGUudHlwZSB8fCAnbi9hJ30pIC0gJHtmaWxlLnNpemV9IGJ5dGVzLCBgICsKICAgICAgICBgbGFzdCBtb2RpZmllZDogJHsKICAgICAgICAgICAgZmlsZS5sYXN0TW9kaWZpZWREYXRlID8gZmlsZS5sYXN0TW9kaWZpZWREYXRlLnRvTG9jYWxlRGF0ZVN0cmluZygpIDoKICAgICAgICAgICAgICAgICAgICAgICAgICAgICAgICAgICAgJ24vYSd9IC0gYCkpOwogICAgY29uc3QgcGVyY2VudCA9IHNwYW4oJzAlIGRvbmUnKTsKICAgIGxpLmFwcGVuZENoaWxkKHBlcmNlbnQpOwoKICAgIG91dHB1dEVsZW1lbnQuYXBwZW5kQ2hpbGQobGkpOwoKICAgIGNvbnN0IGZpbGVEYXRhUHJvbWlzZSA9IG5ldyBQcm9taXNlKChyZXNvbHZlKSA9PiB7CiAgICAgIGNvbnN0IHJlYWRlciA9IG5ldyBGaWxlUmVhZGVyKCk7CiAgICAgIHJlYWRlci5vbmxvYWQgPSAoZSkgPT4gewogICAgICAgIHJlc29sdmUoZS50YXJnZXQucmVzdWx0KTsKICAgICAgfTsKICAgICAgcmVhZGVyLnJlYWRBc0FycmF5QnVmZmVyKGZpbGUpOwogICAgfSk7CiAgICAvLyBXYWl0IGZvciB0aGUgZGF0YSB0byBiZSByZWFkeS4KICAgIGxldCBmaWxlRGF0YSA9IHlpZWxkIHsKICAgICAgcHJvbWlzZTogZmlsZURhdGFQcm9taXNlLAogICAgICByZXNwb25zZTogewogICAgICAgIGFjdGlvbjogJ2NvbnRpbnVlJywKICAgICAgfQogICAgfTsKCiAgICAvLyBVc2UgYSBjaHVua2VkIHNlbmRpbmcgdG8gYXZvaWQgbWVzc2FnZSBzaXplIGxpbWl0cy4gU2VlIGIvNjIxMTU2NjAuCiAgICBsZXQgcG9zaXRpb24gPSAwOwogICAgZG8gewogICAgICBjb25zdCBsZW5ndGggPSBNYXRoLm1pbihmaWxlRGF0YS5ieXRlTGVuZ3RoIC0gcG9zaXRpb24sIE1BWF9QQVlMT0FEX1NJWkUpOwogICAgICBjb25zdCBjaHVuayA9IG5ldyBVaW50OEFycmF5KGZpbGVEYXRhLCBwb3NpdGlvbiwgbGVuZ3RoKTsKICAgICAgcG9zaXRpb24gKz0gbGVuZ3RoOwoKICAgICAgY29uc3QgYmFzZTY0ID0gYnRvYShTdHJpbmcuZnJvbUNoYXJDb2RlLmFwcGx5KG51bGwsIGNodW5rKSk7CiAgICAgIHlpZWxkIHsKICAgICAgICByZXNwb25zZTogewogICAgICAgICAgYWN0aW9uOiAnYXBwZW5kJywKICAgICAgICAgIGZpbGU6IGZpbGUubmFtZSwKICAgICAgICAgIGRhdGE6IGJhc2U2NCwKICAgICAgICB9LAogICAgICB9OwoKICAgICAgbGV0IHBlcmNlbnREb25lID0gZmlsZURhdGEuYnl0ZUxlbmd0aCA9PT0gMCA/CiAgICAgICAgICAxMDAgOgogICAgICAgICAgTWF0aC5yb3VuZCgocG9zaXRpb24gLyBmaWxlRGF0YS5ieXRlTGVuZ3RoKSAqIDEwMCk7CiAgICAgIHBlcmNlbnQudGV4dENvbnRlbnQgPSBgJHtwZXJjZW50RG9uZX0lIGRvbmVgOwoKICAgIH0gd2hpbGUgKHBvc2l0aW9uIDwgZmlsZURhdGEuYnl0ZUxlbmd0aCk7CiAgfQoKICAvLyBBbGwgZG9uZS4KICB5aWVsZCB7CiAgICByZXNwb25zZTogewogICAgICBhY3Rpb246ICdjb21wbGV0ZScsCiAgICB9CiAgfTsKfQoKc2NvcGUuZ29vZ2xlID0gc2NvcGUuZ29vZ2xlIHx8IHt9OwpzY29wZS5nb29nbGUuY29sYWIgPSBzY29wZS5nb29nbGUuY29sYWIgfHwge307CnNjb3BlLmdvb2dsZS5jb2xhYi5fZmlsZXMgPSB7CiAgX3VwbG9hZEZpbGVzLAogIF91cGxvYWRGaWxlc0NvbnRpbnVlLAp9Owp9KShzZWxmKTsK",
              "ok": true,
              "headers": [
                [
                  "content-type",
                  "application/javascript"
                ]
              ],
              "status": 200,
              "status_text": ""
            }
          },
          "base_uri": "https://localhost:8080/",
          "height": 72
        },
        "id": "9rBmrdzOklOd",
        "outputId": "8709939f-ba44-4a8b-f61b-e01e5986c163"
      },
      "execution_count": null,
      "outputs": [
        {
          "output_type": "display_data",
          "data": {
            "text/plain": [
              "<IPython.core.display.HTML object>"
            ],
            "text/html": [
              "\n",
              "     <input type=\"file\" id=\"files-969ae29c-06bd-4908-b493-671f19039d60\" name=\"files[]\" multiple disabled\n",
              "        style=\"border:none\" />\n",
              "     <output id=\"result-969ae29c-06bd-4908-b493-671f19039d60\">\n",
              "      Upload widget is only available when the cell has been executed in the\n",
              "      current browser session. Please rerun this cell to enable.\n",
              "      </output>\n",
              "      <script src=\"/nbextensions/google.colab/files.js\"></script> "
            ]
          },
          "metadata": {}
        },
        {
          "output_type": "stream",
          "name": "stdout",
          "text": [
            "Saving Building_Permits.csv to Building_Permits.csv\n"
          ]
        }
      ]
    },
    {
      "cell_type": "code",
      "source": [
        "# Read in data\n",
        "sf_permits = pd.read_csv(\"Building_Permits.csv\")\n",
        "\n",
        "#Set seed for reproducibility\n",
        "np.random.seed(0)"
      ],
      "metadata": {
        "colab": {
          "base_uri": "https://localhost:8080/"
        },
        "id": "XbTbqNIsk0-F",
        "outputId": "fd4cba76-9feb-4fd6-bb7d-a194161fb88a"
      },
      "execution_count": null,
      "outputs": [
        {
          "output_type": "stream",
          "name": "stderr",
          "text": [
            "/usr/local/lib/python3.7/dist-packages/IPython/core/interactiveshell.py:2882: DtypeWarning: Columns (22,32) have mixed types.Specify dtype option on import or set low_memory=False.\n",
            "  exec(code_obj, self.user_global_ns, self.user_ns)\n"
          ]
        }
      ]
    },
    {
      "cell_type": "markdown",
      "source": [
        "Use the code cell below to print the first five rows of the sf_permits DataFrame."
      ],
      "metadata": {
        "id": "NsggsRDRn_Qs"
      }
    },
    {
      "cell_type": "code",
      "source": [
        "sf_permits.head()"
      ],
      "metadata": {
        "colab": {
          "base_uri": "https://localhost:8080/",
          "height": 473
        },
        "id": "Iuab6h7hn8xx",
        "outputId": "c07e8820-884a-4d46-cba6-542e32bfbee2"
      },
      "execution_count": null,
      "outputs": [
        {
          "output_type": "execute_result",
          "data": {
            "text/plain": [
              "  Permit Number  Permit Type            Permit Type Definition  \\\n",
              "0  201505065519            4                      sign - erect   \n",
              "1  201604195146            4                      sign - erect   \n",
              "2  201605278609            3  additions alterations or repairs   \n",
              "3  201611072166            8            otc alterations permit   \n",
              "4  201611283529            6                       demolitions   \n",
              "\n",
              "  Permit Creation Date Block  Lot  Street Number Street Number Suffix  \\\n",
              "0           05/06/2015  0326  023            140                  NaN   \n",
              "1           04/19/2016  0306  007            440                  NaN   \n",
              "2           05/27/2016  0595  203           1647                  NaN   \n",
              "3           11/07/2016  0156  011           1230                  NaN   \n",
              "4           11/28/2016  0342  001            950                  NaN   \n",
              "\n",
              "  Street Name Street Suffix  ...  Existing Construction Type  \\\n",
              "0       Ellis            St  ...                         3.0   \n",
              "1       Geary            St  ...                         3.0   \n",
              "2     Pacific            Av  ...                         1.0   \n",
              "3     Pacific            Av  ...                         5.0   \n",
              "4      Market            St  ...                         3.0   \n",
              "\n",
              "  Existing Construction Type Description Proposed Construction Type  \\\n",
              "0                          constr type 3                        NaN   \n",
              "1                          constr type 3                        NaN   \n",
              "2                          constr type 1                        1.0   \n",
              "3                         wood frame (5)                        5.0   \n",
              "4                          constr type 3                        NaN   \n",
              "\n",
              "  Proposed Construction Type Description Site Permit Supervisor District  \\\n",
              "0                                    NaN         NaN                 3.0   \n",
              "1                                    NaN         NaN                 3.0   \n",
              "2                          constr type 1         NaN                 3.0   \n",
              "3                         wood frame (5)         NaN                 3.0   \n",
              "4                                    NaN         NaN                 6.0   \n",
              "\n",
              "  Neighborhoods - Analysis Boundaries  Zipcode  \\\n",
              "0                          Tenderloin  94102.0   \n",
              "1                          Tenderloin  94102.0   \n",
              "2                        Russian Hill  94109.0   \n",
              "3                            Nob Hill  94109.0   \n",
              "4                          Tenderloin  94102.0   \n",
              "\n",
              "                                    Location      Record ID  \n",
              "0  (37.785719256680785, -122.40852313194863)  1380611233945  \n",
              "1   (37.78733980600732, -122.41063199757738)  1420164406718  \n",
              "2    (37.7946573324287, -122.42232562979227)  1424856504716  \n",
              "3   (37.79595867909168, -122.41557405519474)  1443574295566  \n",
              "4   (37.78315261897309, -122.40950883997789)   144548169992  \n",
              "\n",
              "[5 rows x 43 columns]"
            ],
            "text/html": [
              "\n",
              "  <div id=\"df-84052952-541d-4ccf-b77b-eef86ce19c4e\">\n",
              "    <div class=\"colab-df-container\">\n",
              "      <div>\n",
              "<style scoped>\n",
              "    .dataframe tbody tr th:only-of-type {\n",
              "        vertical-align: middle;\n",
              "    }\n",
              "\n",
              "    .dataframe tbody tr th {\n",
              "        vertical-align: top;\n",
              "    }\n",
              "\n",
              "    .dataframe thead th {\n",
              "        text-align: right;\n",
              "    }\n",
              "</style>\n",
              "<table border=\"1\" class=\"dataframe\">\n",
              "  <thead>\n",
              "    <tr style=\"text-align: right;\">\n",
              "      <th></th>\n",
              "      <th>Permit Number</th>\n",
              "      <th>Permit Type</th>\n",
              "      <th>Permit Type Definition</th>\n",
              "      <th>Permit Creation Date</th>\n",
              "      <th>Block</th>\n",
              "      <th>Lot</th>\n",
              "      <th>Street Number</th>\n",
              "      <th>Street Number Suffix</th>\n",
              "      <th>Street Name</th>\n",
              "      <th>Street Suffix</th>\n",
              "      <th>...</th>\n",
              "      <th>Existing Construction Type</th>\n",
              "      <th>Existing Construction Type Description</th>\n",
              "      <th>Proposed Construction Type</th>\n",
              "      <th>Proposed Construction Type Description</th>\n",
              "      <th>Site Permit</th>\n",
              "      <th>Supervisor District</th>\n",
              "      <th>Neighborhoods - Analysis Boundaries</th>\n",
              "      <th>Zipcode</th>\n",
              "      <th>Location</th>\n",
              "      <th>Record ID</th>\n",
              "    </tr>\n",
              "  </thead>\n",
              "  <tbody>\n",
              "    <tr>\n",
              "      <th>0</th>\n",
              "      <td>201505065519</td>\n",
              "      <td>4</td>\n",
              "      <td>sign - erect</td>\n",
              "      <td>05/06/2015</td>\n",
              "      <td>0326</td>\n",
              "      <td>023</td>\n",
              "      <td>140</td>\n",
              "      <td>NaN</td>\n",
              "      <td>Ellis</td>\n",
              "      <td>St</td>\n",
              "      <td>...</td>\n",
              "      <td>3.0</td>\n",
              "      <td>constr type 3</td>\n",
              "      <td>NaN</td>\n",
              "      <td>NaN</td>\n",
              "      <td>NaN</td>\n",
              "      <td>3.0</td>\n",
              "      <td>Tenderloin</td>\n",
              "      <td>94102.0</td>\n",
              "      <td>(37.785719256680785, -122.40852313194863)</td>\n",
              "      <td>1380611233945</td>\n",
              "    </tr>\n",
              "    <tr>\n",
              "      <th>1</th>\n",
              "      <td>201604195146</td>\n",
              "      <td>4</td>\n",
              "      <td>sign - erect</td>\n",
              "      <td>04/19/2016</td>\n",
              "      <td>0306</td>\n",
              "      <td>007</td>\n",
              "      <td>440</td>\n",
              "      <td>NaN</td>\n",
              "      <td>Geary</td>\n",
              "      <td>St</td>\n",
              "      <td>...</td>\n",
              "      <td>3.0</td>\n",
              "      <td>constr type 3</td>\n",
              "      <td>NaN</td>\n",
              "      <td>NaN</td>\n",
              "      <td>NaN</td>\n",
              "      <td>3.0</td>\n",
              "      <td>Tenderloin</td>\n",
              "      <td>94102.0</td>\n",
              "      <td>(37.78733980600732, -122.41063199757738)</td>\n",
              "      <td>1420164406718</td>\n",
              "    </tr>\n",
              "    <tr>\n",
              "      <th>2</th>\n",
              "      <td>201605278609</td>\n",
              "      <td>3</td>\n",
              "      <td>additions alterations or repairs</td>\n",
              "      <td>05/27/2016</td>\n",
              "      <td>0595</td>\n",
              "      <td>203</td>\n",
              "      <td>1647</td>\n",
              "      <td>NaN</td>\n",
              "      <td>Pacific</td>\n",
              "      <td>Av</td>\n",
              "      <td>...</td>\n",
              "      <td>1.0</td>\n",
              "      <td>constr type 1</td>\n",
              "      <td>1.0</td>\n",
              "      <td>constr type 1</td>\n",
              "      <td>NaN</td>\n",
              "      <td>3.0</td>\n",
              "      <td>Russian Hill</td>\n",
              "      <td>94109.0</td>\n",
              "      <td>(37.7946573324287, -122.42232562979227)</td>\n",
              "      <td>1424856504716</td>\n",
              "    </tr>\n",
              "    <tr>\n",
              "      <th>3</th>\n",
              "      <td>201611072166</td>\n",
              "      <td>8</td>\n",
              "      <td>otc alterations permit</td>\n",
              "      <td>11/07/2016</td>\n",
              "      <td>0156</td>\n",
              "      <td>011</td>\n",
              "      <td>1230</td>\n",
              "      <td>NaN</td>\n",
              "      <td>Pacific</td>\n",
              "      <td>Av</td>\n",
              "      <td>...</td>\n",
              "      <td>5.0</td>\n",
              "      <td>wood frame (5)</td>\n",
              "      <td>5.0</td>\n",
              "      <td>wood frame (5)</td>\n",
              "      <td>NaN</td>\n",
              "      <td>3.0</td>\n",
              "      <td>Nob Hill</td>\n",
              "      <td>94109.0</td>\n",
              "      <td>(37.79595867909168, -122.41557405519474)</td>\n",
              "      <td>1443574295566</td>\n",
              "    </tr>\n",
              "    <tr>\n",
              "      <th>4</th>\n",
              "      <td>201611283529</td>\n",
              "      <td>6</td>\n",
              "      <td>demolitions</td>\n",
              "      <td>11/28/2016</td>\n",
              "      <td>0342</td>\n",
              "      <td>001</td>\n",
              "      <td>950</td>\n",
              "      <td>NaN</td>\n",
              "      <td>Market</td>\n",
              "      <td>St</td>\n",
              "      <td>...</td>\n",
              "      <td>3.0</td>\n",
              "      <td>constr type 3</td>\n",
              "      <td>NaN</td>\n",
              "      <td>NaN</td>\n",
              "      <td>NaN</td>\n",
              "      <td>6.0</td>\n",
              "      <td>Tenderloin</td>\n",
              "      <td>94102.0</td>\n",
              "      <td>(37.78315261897309, -122.40950883997789)</td>\n",
              "      <td>144548169992</td>\n",
              "    </tr>\n",
              "  </tbody>\n",
              "</table>\n",
              "<p>5 rows × 43 columns</p>\n",
              "</div>\n",
              "      <button class=\"colab-df-convert\" onclick=\"convertToInteractive('df-84052952-541d-4ccf-b77b-eef86ce19c4e')\"\n",
              "              title=\"Convert this dataframe to an interactive table.\"\n",
              "              style=\"display:none;\">\n",
              "        \n",
              "  <svg xmlns=\"http://www.w3.org/2000/svg\" height=\"24px\"viewBox=\"0 0 24 24\"\n",
              "       width=\"24px\">\n",
              "    <path d=\"M0 0h24v24H0V0z\" fill=\"none\"/>\n",
              "    <path d=\"M18.56 5.44l.94 2.06.94-2.06 2.06-.94-2.06-.94-.94-2.06-.94 2.06-2.06.94zm-11 1L8.5 8.5l.94-2.06 2.06-.94-2.06-.94L8.5 2.5l-.94 2.06-2.06.94zm10 10l.94 2.06.94-2.06 2.06-.94-2.06-.94-.94-2.06-.94 2.06-2.06.94z\"/><path d=\"M17.41 7.96l-1.37-1.37c-.4-.4-.92-.59-1.43-.59-.52 0-1.04.2-1.43.59L10.3 9.45l-7.72 7.72c-.78.78-.78 2.05 0 2.83L4 21.41c.39.39.9.59 1.41.59.51 0 1.02-.2 1.41-.59l7.78-7.78 2.81-2.81c.8-.78.8-2.07 0-2.86zM5.41 20L4 18.59l7.72-7.72 1.47 1.35L5.41 20z\"/>\n",
              "  </svg>\n",
              "      </button>\n",
              "      \n",
              "  <style>\n",
              "    .colab-df-container {\n",
              "      display:flex;\n",
              "      flex-wrap:wrap;\n",
              "      gap: 12px;\n",
              "    }\n",
              "\n",
              "    .colab-df-convert {\n",
              "      background-color: #E8F0FE;\n",
              "      border: none;\n",
              "      border-radius: 50%;\n",
              "      cursor: pointer;\n",
              "      display: none;\n",
              "      fill: #1967D2;\n",
              "      height: 32px;\n",
              "      padding: 0 0 0 0;\n",
              "      width: 32px;\n",
              "    }\n",
              "\n",
              "    .colab-df-convert:hover {\n",
              "      background-color: #E2EBFA;\n",
              "      box-shadow: 0px 1px 2px rgba(60, 64, 67, 0.3), 0px 1px 3px 1px rgba(60, 64, 67, 0.15);\n",
              "      fill: #174EA6;\n",
              "    }\n",
              "\n",
              "    [theme=dark] .colab-df-convert {\n",
              "      background-color: #3B4455;\n",
              "      fill: #D2E3FC;\n",
              "    }\n",
              "\n",
              "    [theme=dark] .colab-df-convert:hover {\n",
              "      background-color: #434B5C;\n",
              "      box-shadow: 0px 1px 3px 1px rgba(0, 0, 0, 0.15);\n",
              "      filter: drop-shadow(0px 1px 2px rgba(0, 0, 0, 0.3));\n",
              "      fill: #FFFFFF;\n",
              "    }\n",
              "  </style>\n",
              "\n",
              "      <script>\n",
              "        const buttonEl =\n",
              "          document.querySelector('#df-84052952-541d-4ccf-b77b-eef86ce19c4e button.colab-df-convert');\n",
              "        buttonEl.style.display =\n",
              "          google.colab.kernel.accessAllowed ? 'block' : 'none';\n",
              "\n",
              "        async function convertToInteractive(key) {\n",
              "          const element = document.querySelector('#df-84052952-541d-4ccf-b77b-eef86ce19c4e');\n",
              "          const dataTable =\n",
              "            await google.colab.kernel.invokeFunction('convertToInteractive',\n",
              "                                                     [key], {});\n",
              "          if (!dataTable) return;\n",
              "\n",
              "          const docLinkHtml = 'Like what you see? Visit the ' +\n",
              "            '<a target=\"_blank\" href=https://colab.research.google.com/notebooks/data_table.ipynb>data table notebook</a>'\n",
              "            + ' to learn more about interactive tables.';\n",
              "          element.innerHTML = '';\n",
              "          dataTable['output_type'] = 'display_data';\n",
              "          await google.colab.output.renderOutput(dataTable, element);\n",
              "          const docLink = document.createElement('div');\n",
              "          docLink.innerHTML = docLinkHtml;\n",
              "          element.appendChild(docLink);\n",
              "        }\n",
              "      </script>\n",
              "    </div>\n",
              "  </div>\n",
              "  "
            ]
          },
          "metadata": {},
          "execution_count": 19
        }
      ]
    },
    {
      "cell_type": "markdown",
      "source": [
        "Does the dataset have any missing values? Once you have an answer, run the code cell below to get credit for your work"
      ],
      "metadata": {
        "id": "MGoq_JseoJ-2"
      }
    },
    {
      "cell_type": "markdown",
      "source": [
        "What percentage of the values in the dataset are missing? Your answer should be a number between 0 and 100. (If 1/4 of the values in the dataset are missing, the answer is 25.)"
      ],
      "metadata": {
        "id": "K11g7eVLoOj1"
      }
    },
    {
      "cell_type": "code",
      "source": [
        "sf_permits.shape"
      ],
      "metadata": {
        "colab": {
          "base_uri": "https://localhost:8080/"
        },
        "id": "MnixtkkToBgw",
        "outputId": "d90fbe68-a00e-40b4-e380-abda38010f1b"
      },
      "execution_count": null,
      "outputs": [
        {
          "output_type": "execute_result",
          "data": {
            "text/plain": [
              "(198900, 43)"
            ]
          },
          "metadata": {},
          "execution_count": 22
        }
      ]
    },
    {
      "cell_type": "code",
      "source": [
        "total_cells = np.product(sf_permits.shape)\n",
        "total_cells"
      ],
      "metadata": {
        "colab": {
          "base_uri": "https://localhost:8080/"
        },
        "id": "K8yRYCEKoY8G",
        "outputId": "7e39a979-9174-46d8-8811-d3510697ac65"
      },
      "execution_count": null,
      "outputs": [
        {
          "output_type": "execute_result",
          "data": {
            "text/plain": [
              "8552700"
            ]
          },
          "metadata": {},
          "execution_count": 24
        }
      ]
    },
    {
      "cell_type": "code",
      "source": [
        "sf_permits.shape[0] * sf_permits.shape[1]"
      ],
      "metadata": {
        "colab": {
          "base_uri": "https://localhost:8080/"
        },
        "id": "10WQXrm6ohSA",
        "outputId": "347c0197-85ad-4ef0-bd23-7ff44591ec0a"
      },
      "execution_count": null,
      "outputs": [
        {
          "output_type": "execute_result",
          "data": {
            "text/plain": [
              "8552700"
            ]
          },
          "metadata": {},
          "execution_count": 25
        }
      ]
    },
    {
      "cell_type": "code",
      "source": [
        "total_nan = sf_permits.isnull().sum().sum()\n",
        "total_nan"
      ],
      "metadata": {
        "colab": {
          "base_uri": "https://localhost:8080/"
        },
        "id": "bkiz89Y2omRG",
        "outputId": "84cb6be8-2546-4d6b-bcc7-9253b947fffa"
      },
      "execution_count": null,
      "outputs": [
        {
          "output_type": "execute_result",
          "data": {
            "text/plain": [
              "2245941"
            ]
          },
          "metadata": {},
          "execution_count": 27
        }
      ]
    },
    {
      "cell_type": "code",
      "source": [
        "percent_missing = (total_nan / total_cells) * 100\n",
        "percent_missing"
      ],
      "metadata": {
        "colab": {
          "base_uri": "https://localhost:8080/"
        },
        "id": "PJfSstHbosaI",
        "outputId": "37f71fea-337b-4db2-971d-6ad0cc66cb6e"
      },
      "execution_count": null,
      "outputs": [
        {
          "output_type": "execute_result",
          "data": {
            "text/plain": [
              "26.26002315058403"
            ]
          },
          "metadata": {},
          "execution_count": 28
        }
      ]
    },
    {
      "cell_type": "markdown",
      "source": [
        "Look at the columns \"Street Number Suffix\" and \"Zipcode\" from the San Francisco Building Permits dataset. Both of these contain missing values.\n",
        "\n",
        "Which, if either, are missing because they don't exist?\n",
        "Which, if either, are missing because they weren't recorded?"
      ],
      "metadata": {
        "id": "zj_eLHthpfBZ"
      }
    },
    {
      "cell_type": "code",
      "source": [
        "sf_permits[\"Street Number Suffix\"].value_counts(dropna=False)"
      ],
      "metadata": {
        "colab": {
          "base_uri": "https://localhost:8080/"
        },
        "id": "rqIE8eFeo_EX",
        "outputId": "e77ec73b-b305-4264-d9cb-f68e1264a70a"
      },
      "execution_count": null,
      "outputs": [
        {
          "output_type": "execute_result",
          "data": {
            "text/plain": [
              "NaN    196684\n",
              "A        1501\n",
              "B         291\n",
              "V         228\n",
              "C          56\n",
              "E          28\n",
              "F          24\n",
              "G          12\n",
              "D          11\n",
              "K          11\n",
              "H          11\n",
              "R          10\n",
              "L          10\n",
              "J           9\n",
              "I           7\n",
              "P           3\n",
              "N           2\n",
              "0           1\n",
              "½           1\n",
              "Name: Street Number Suffix, dtype: int64"
            ]
          },
          "metadata": {},
          "execution_count": 32
        }
      ]
    },
    {
      "cell_type": "code",
      "source": [
        "sf_permits[\"Zipcode\"].value_counts(dropna=False)"
      ],
      "metadata": {
        "colab": {
          "base_uri": "https://localhost:8080/"
        },
        "id": "o2MrKn_Rpich",
        "outputId": "e8f81280-9bba-4c4a-815d-af8676c8e91d"
      },
      "execution_count": null,
      "outputs": [
        {
          "output_type": "execute_result",
          "data": {
            "text/plain": [
              "94110.0    17837\n",
              "94114.0    13404\n",
              "94117.0    11780\n",
              "94109.0    11348\n",
              "94103.0    10986\n",
              "94115.0    10095\n",
              "94118.0     9812\n",
              "94123.0     9515\n",
              "94122.0     8886\n",
              "94105.0     8628\n",
              "94112.0     7897\n",
              "94121.0     7773\n",
              "94107.0     7706\n",
              "94131.0     7664\n",
              "94133.0     7424\n",
              "94102.0     7164\n",
              "94116.0     6421\n",
              "94111.0     5385\n",
              "94108.0     5320\n",
              "94124.0     5265\n",
              "94127.0     4993\n",
              "94104.0     4229\n",
              "94132.0     3507\n",
              "94134.0     2983\n",
              "NaN         1716\n",
              "94158.0     1058\n",
              "94130.0       81\n",
              "94129.0       23\n",
              "Name: Zipcode, dtype: int64"
            ]
          },
          "metadata": {},
          "execution_count": 33
        }
      ]
    },
    {
      "cell_type": "markdown",
      "source": [
        "Looking at the information that we have, it is likely that any NaN values that appear in the \"Street Number Suffix\" column are there because they do not exist, and any NaN values that appear in the \"Zipcode\" column are there because they were forgotten or not recorded."
      ],
      "metadata": {
        "id": "6S-mH2_4p23h"
      }
    },
    {
      "cell_type": "markdown",
      "source": [
        "If you removed all of the rows of sf_permits with missing values, how many rows are left?\n",
        "\n",
        "Note: Do not change the value of sf_permits when checking this"
      ],
      "metadata": {
        "id": "dqyxXaLDqJFD"
      }
    },
    {
      "cell_type": "code",
      "source": [
        "sf_permits.dropna()"
      ],
      "metadata": {
        "colab": {
          "base_uri": "https://localhost:8080/",
          "height": 175
        },
        "id": "-rprlz13pyJh",
        "outputId": "6a7131ce-340f-4dd2-c82a-165519229f05"
      },
      "execution_count": null,
      "outputs": [
        {
          "output_type": "execute_result",
          "data": {
            "text/plain": [
              "Empty DataFrame\n",
              "Columns: [Permit Number, Permit Type, Permit Type Definition, Permit Creation Date, Block, Lot, Street Number, Street Number Suffix, Street Name, Street Suffix, Unit, Unit Suffix, Description, Current Status, Current Status Date, Filed Date, Issued Date, Completed Date, First Construction Document Date, Structural Notification, Number of Existing Stories, Number of Proposed Stories, Voluntary Soft-Story Retrofit, Fire Only Permit, Permit Expiration Date, Estimated Cost, Revised Cost, Existing Use, Existing Units, Proposed Use, Proposed Units, Plansets, TIDF Compliance, Existing Construction Type, Existing Construction Type Description, Proposed Construction Type, Proposed Construction Type Description, Site Permit, Supervisor District, Neighborhoods - Analysis Boundaries, Zipcode, Location, Record ID]\n",
              "Index: []\n",
              "\n",
              "[0 rows x 43 columns]"
            ],
            "text/html": [
              "\n",
              "  <div id=\"df-c5eeb1b0-90fa-4dcd-97a2-057bbf9ed659\">\n",
              "    <div class=\"colab-df-container\">\n",
              "      <div>\n",
              "<style scoped>\n",
              "    .dataframe tbody tr th:only-of-type {\n",
              "        vertical-align: middle;\n",
              "    }\n",
              "\n",
              "    .dataframe tbody tr th {\n",
              "        vertical-align: top;\n",
              "    }\n",
              "\n",
              "    .dataframe thead th {\n",
              "        text-align: right;\n",
              "    }\n",
              "</style>\n",
              "<table border=\"1\" class=\"dataframe\">\n",
              "  <thead>\n",
              "    <tr style=\"text-align: right;\">\n",
              "      <th></th>\n",
              "      <th>Permit Number</th>\n",
              "      <th>Permit Type</th>\n",
              "      <th>Permit Type Definition</th>\n",
              "      <th>Permit Creation Date</th>\n",
              "      <th>Block</th>\n",
              "      <th>Lot</th>\n",
              "      <th>Street Number</th>\n",
              "      <th>Street Number Suffix</th>\n",
              "      <th>Street Name</th>\n",
              "      <th>Street Suffix</th>\n",
              "      <th>...</th>\n",
              "      <th>Existing Construction Type</th>\n",
              "      <th>Existing Construction Type Description</th>\n",
              "      <th>Proposed Construction Type</th>\n",
              "      <th>Proposed Construction Type Description</th>\n",
              "      <th>Site Permit</th>\n",
              "      <th>Supervisor District</th>\n",
              "      <th>Neighborhoods - Analysis Boundaries</th>\n",
              "      <th>Zipcode</th>\n",
              "      <th>Location</th>\n",
              "      <th>Record ID</th>\n",
              "    </tr>\n",
              "  </thead>\n",
              "  <tbody>\n",
              "  </tbody>\n",
              "</table>\n",
              "<p>0 rows × 43 columns</p>\n",
              "</div>\n",
              "      <button class=\"colab-df-convert\" onclick=\"convertToInteractive('df-c5eeb1b0-90fa-4dcd-97a2-057bbf9ed659')\"\n",
              "              title=\"Convert this dataframe to an interactive table.\"\n",
              "              style=\"display:none;\">\n",
              "        \n",
              "  <svg xmlns=\"http://www.w3.org/2000/svg\" height=\"24px\"viewBox=\"0 0 24 24\"\n",
              "       width=\"24px\">\n",
              "    <path d=\"M0 0h24v24H0V0z\" fill=\"none\"/>\n",
              "    <path d=\"M18.56 5.44l.94 2.06.94-2.06 2.06-.94-2.06-.94-.94-2.06-.94 2.06-2.06.94zm-11 1L8.5 8.5l.94-2.06 2.06-.94-2.06-.94L8.5 2.5l-.94 2.06-2.06.94zm10 10l.94 2.06.94-2.06 2.06-.94-2.06-.94-.94-2.06-.94 2.06-2.06.94z\"/><path d=\"M17.41 7.96l-1.37-1.37c-.4-.4-.92-.59-1.43-.59-.52 0-1.04.2-1.43.59L10.3 9.45l-7.72 7.72c-.78.78-.78 2.05 0 2.83L4 21.41c.39.39.9.59 1.41.59.51 0 1.02-.2 1.41-.59l7.78-7.78 2.81-2.81c.8-.78.8-2.07 0-2.86zM5.41 20L4 18.59l7.72-7.72 1.47 1.35L5.41 20z\"/>\n",
              "  </svg>\n",
              "      </button>\n",
              "      \n",
              "  <style>\n",
              "    .colab-df-container {\n",
              "      display:flex;\n",
              "      flex-wrap:wrap;\n",
              "      gap: 12px;\n",
              "    }\n",
              "\n",
              "    .colab-df-convert {\n",
              "      background-color: #E8F0FE;\n",
              "      border: none;\n",
              "      border-radius: 50%;\n",
              "      cursor: pointer;\n",
              "      display: none;\n",
              "      fill: #1967D2;\n",
              "      height: 32px;\n",
              "      padding: 0 0 0 0;\n",
              "      width: 32px;\n",
              "    }\n",
              "\n",
              "    .colab-df-convert:hover {\n",
              "      background-color: #E2EBFA;\n",
              "      box-shadow: 0px 1px 2px rgba(60, 64, 67, 0.3), 0px 1px 3px 1px rgba(60, 64, 67, 0.15);\n",
              "      fill: #174EA6;\n",
              "    }\n",
              "\n",
              "    [theme=dark] .colab-df-convert {\n",
              "      background-color: #3B4455;\n",
              "      fill: #D2E3FC;\n",
              "    }\n",
              "\n",
              "    [theme=dark] .colab-df-convert:hover {\n",
              "      background-color: #434B5C;\n",
              "      box-shadow: 0px 1px 3px 1px rgba(0, 0, 0, 0.15);\n",
              "      filter: drop-shadow(0px 1px 2px rgba(0, 0, 0, 0.3));\n",
              "      fill: #FFFFFF;\n",
              "    }\n",
              "  </style>\n",
              "\n",
              "      <script>\n",
              "        const buttonEl =\n",
              "          document.querySelector('#df-c5eeb1b0-90fa-4dcd-97a2-057bbf9ed659 button.colab-df-convert');\n",
              "        buttonEl.style.display =\n",
              "          google.colab.kernel.accessAllowed ? 'block' : 'none';\n",
              "\n",
              "        async function convertToInteractive(key) {\n",
              "          const element = document.querySelector('#df-c5eeb1b0-90fa-4dcd-97a2-057bbf9ed659');\n",
              "          const dataTable =\n",
              "            await google.colab.kernel.invokeFunction('convertToInteractive',\n",
              "                                                     [key], {});\n",
              "          if (!dataTable) return;\n",
              "\n",
              "          const docLinkHtml = 'Like what you see? Visit the ' +\n",
              "            '<a target=\"_blank\" href=https://colab.research.google.com/notebooks/data_table.ipynb>data table notebook</a>'\n",
              "            + ' to learn more about interactive tables.';\n",
              "          element.innerHTML = '';\n",
              "          dataTable['output_type'] = 'display_data';\n",
              "          await google.colab.output.renderOutput(dataTable, element);\n",
              "          const docLink = document.createElement('div');\n",
              "          docLink.innerHTML = docLinkHtml;\n",
              "          element.appendChild(docLink);\n",
              "        }\n",
              "      </script>\n",
              "    </div>\n",
              "  </div>\n",
              "  "
            ]
          },
          "metadata": {},
          "execution_count": 34
        }
      ]
    },
    {
      "cell_type": "markdown",
      "source": [
        "Removing all rows that have missing values removes all rows that we have, leaving us with an empty Dataset. This is because there is an NaN value in every row of the dataset. Obviously dropping NaN values by row isn't an option."
      ],
      "metadata": {
        "id": "dWeS2s_uqPfd"
      }
    },
    {
      "cell_type": "markdown",
      "source": [
        "Now try removing all the columns with empty values.\n",
        "\n",
        "Create a new DataFrame called sf_permits_with_na_dropped that has all of the columns with empty values removed.\n",
        "How many columns were removed from the original sf_permits DataFrame? Use this number to set the value of the dropped_columns variable below."
      ],
      "metadata": {
        "id": "ChVlhYZAqfjY"
      }
    },
    {
      "cell_type": "code",
      "source": [
        "sf_permits_with_na_dropped = sf_permits.dropna(axis=1)\n",
        "sf_permits_with_na_dropped.shape"
      ],
      "metadata": {
        "colab": {
          "base_uri": "https://localhost:8080/"
        },
        "id": "rDuzzz7LqOiC",
        "outputId": "4a9bdf81-ffb9-4d60-f2bf-461ec05b046a"
      },
      "execution_count": null,
      "outputs": [
        {
          "output_type": "execute_result",
          "data": {
            "text/plain": [
              "(198900, 12)"
            ]
          },
          "metadata": {},
          "execution_count": 36
        }
      ]
    },
    {
      "cell_type": "code",
      "source": [
        "sf_permits.shape"
      ],
      "metadata": {
        "colab": {
          "base_uri": "https://localhost:8080/"
        },
        "id": "Dxkrq2JBq69c",
        "outputId": "5b901ee0-84aa-4747-adb5-2791e542bde9"
      },
      "execution_count": null,
      "outputs": [
        {
          "output_type": "execute_result",
          "data": {
            "text/plain": [
              "(198900, 43)"
            ]
          },
          "metadata": {},
          "execution_count": 38
        }
      ]
    },
    {
      "cell_type": "code",
      "source": [
        "dropped_columns = sf_permits.shape[1] - sf_permits_with_na_dropped.shape[1]\n",
        "dropped_columns"
      ],
      "metadata": {
        "colab": {
          "base_uri": "https://localhost:8080/"
        },
        "id": "EWbEMJxcqrmE",
        "outputId": "eeae4ba9-090e-4f47-b7a7-d7a1f1114cd2"
      },
      "execution_count": null,
      "outputs": [
        {
          "output_type": "execute_result",
          "data": {
            "text/plain": [
              "31"
            ]
          },
          "metadata": {},
          "execution_count": 39
        }
      ]
    },
    {
      "cell_type": "markdown",
      "source": [
        "Try replacing all the NaN's in the sf_permits data with the one that comes directly after it and then replacing any remaining NaN's with 0. Set the result to a new DataFrame sf_permits_with_na_imputed."
      ],
      "metadata": {
        "id": "iAnjazWprRir"
      }
    },
    {
      "cell_type": "code",
      "source": [
        "sf_permits_with_na_imputed = sf_permits.fillna(method=\"bfill\", axis=0).fillna(0)\n",
        "sf_permits_with_na_imputed"
      ],
      "metadata": {
        "colab": {
          "base_uri": "https://localhost:8080/",
          "height": 835
        },
        "id": "b7LRxkplq0pJ",
        "outputId": "8df00a39-c4d0-4913-8158-15437494b6d1"
      },
      "execution_count": null,
      "outputs": [
        {
          "output_type": "execute_result",
          "data": {
            "text/plain": [
              "       Permit Number  Permit Type            Permit Type Definition  \\\n",
              "0       201505065519            4                      sign - erect   \n",
              "1       201604195146            4                      sign - erect   \n",
              "2       201605278609            3  additions alterations or repairs   \n",
              "3       201611072166            8            otc alterations permit   \n",
              "4       201611283529            6                       demolitions   \n",
              "...              ...          ...                               ...   \n",
              "198895       M862628            8            otc alterations permit   \n",
              "198896  201712055595            8            otc alterations permit   \n",
              "198897       M863507            8            otc alterations permit   \n",
              "198898       M863747            8            otc alterations permit   \n",
              "198899       M864287            8            otc alterations permit   \n",
              "\n",
              "       Permit Creation Date Block   Lot  Street Number Street Number Suffix  \\\n",
              "0                05/06/2015  0326   023            140                    A   \n",
              "1                04/19/2016  0306   007            440                    A   \n",
              "2                05/27/2016  0595   203           1647                    A   \n",
              "3                11/07/2016  0156   011           1230                    A   \n",
              "4                11/28/2016  0342   001            950                    A   \n",
              "...                     ...   ...   ...            ...                  ...   \n",
              "198895           12/05/2017  0113  017A           1228                    0   \n",
              "198896           12/05/2017  0271   014            580                    0   \n",
              "198897           12/06/2017  4318   019           1568                    0   \n",
              "198898           12/06/2017  0298   029            795                    0   \n",
              "198899           12/07/2017  0160   006            838                    0   \n",
              "\n",
              "       Street Name Street Suffix  ...  Existing Construction Type  \\\n",
              "0            Ellis            St  ...                         3.0   \n",
              "1            Geary            St  ...                         3.0   \n",
              "2          Pacific            Av  ...                         1.0   \n",
              "3          Pacific            Av  ...                         5.0   \n",
              "4           Market            St  ...                         3.0   \n",
              "...            ...           ...  ...                         ...   \n",
              "198895  Montgomery            St  ...                         5.0   \n",
              "198896        Bush            St  ...                         5.0   \n",
              "198897     Indiana            St  ...                         0.0   \n",
              "198898      Sutter            St  ...                         0.0   \n",
              "198899     Pacific            Av  ...                         0.0   \n",
              "\n",
              "       Existing Construction Type Description Proposed Construction Type  \\\n",
              "0                               constr type 3                        1.0   \n",
              "1                               constr type 3                        1.0   \n",
              "2                               constr type 1                        1.0   \n",
              "3                              wood frame (5)                        5.0   \n",
              "4                               constr type 3                        1.0   \n",
              "...                                       ...                        ...   \n",
              "198895                         wood frame (5)                        5.0   \n",
              "198896                         wood frame (5)                        5.0   \n",
              "198897                                      0                        0.0   \n",
              "198898                                      0                        0.0   \n",
              "198899                                      0                        0.0   \n",
              "\n",
              "       Proposed Construction Type Description Site Permit Supervisor District  \\\n",
              "0                               constr type 1           Y                 3.0   \n",
              "1                               constr type 1           Y                 3.0   \n",
              "2                               constr type 1           Y                 3.0   \n",
              "3                              wood frame (5)           Y                 3.0   \n",
              "4                               constr type 1           Y                 6.0   \n",
              "...                                       ...         ...                 ...   \n",
              "198895                         wood frame (5)           0                 0.0   \n",
              "198896                         wood frame (5)           0                 0.0   \n",
              "198897                                      0           0                 0.0   \n",
              "198898                                      0           0                 0.0   \n",
              "198899                                      0           0                 0.0   \n",
              "\n",
              "       Neighborhoods - Analysis Boundaries  Zipcode  \\\n",
              "0                               Tenderloin  94102.0   \n",
              "1                               Tenderloin  94102.0   \n",
              "2                             Russian Hill  94109.0   \n",
              "3                                 Nob Hill  94109.0   \n",
              "4                               Tenderloin  94102.0   \n",
              "...                                    ...      ...   \n",
              "198895                                   0      0.0   \n",
              "198896                                   0      0.0   \n",
              "198897                                   0      0.0   \n",
              "198898                                   0      0.0   \n",
              "198899                                   0      0.0   \n",
              "\n",
              "                                         Location      Record ID  \n",
              "0       (37.785719256680785, -122.40852313194863)  1380611233945  \n",
              "1        (37.78733980600732, -122.41063199757738)  1420164406718  \n",
              "2         (37.7946573324287, -122.42232562979227)  1424856504716  \n",
              "3        (37.79595867909168, -122.41557405519474)  1443574295566  \n",
              "4        (37.78315261897309, -122.40950883997789)   144548169992  \n",
              "...                                           ...            ...  \n",
              "198895                                          0  1489337276729  \n",
              "198896                                          0  1489462354993  \n",
              "198897                                          0  1489539379952  \n",
              "198898                                          0  1489608233656  \n",
              "198899                                          0  1489796283803  \n",
              "\n",
              "[198900 rows x 43 columns]"
            ],
            "text/html": [
              "\n",
              "  <div id=\"df-5c32807a-844c-4e1f-af3b-22dc813e6f61\">\n",
              "    <div class=\"colab-df-container\">\n",
              "      <div>\n",
              "<style scoped>\n",
              "    .dataframe tbody tr th:only-of-type {\n",
              "        vertical-align: middle;\n",
              "    }\n",
              "\n",
              "    .dataframe tbody tr th {\n",
              "        vertical-align: top;\n",
              "    }\n",
              "\n",
              "    .dataframe thead th {\n",
              "        text-align: right;\n",
              "    }\n",
              "</style>\n",
              "<table border=\"1\" class=\"dataframe\">\n",
              "  <thead>\n",
              "    <tr style=\"text-align: right;\">\n",
              "      <th></th>\n",
              "      <th>Permit Number</th>\n",
              "      <th>Permit Type</th>\n",
              "      <th>Permit Type Definition</th>\n",
              "      <th>Permit Creation Date</th>\n",
              "      <th>Block</th>\n",
              "      <th>Lot</th>\n",
              "      <th>Street Number</th>\n",
              "      <th>Street Number Suffix</th>\n",
              "      <th>Street Name</th>\n",
              "      <th>Street Suffix</th>\n",
              "      <th>...</th>\n",
              "      <th>Existing Construction Type</th>\n",
              "      <th>Existing Construction Type Description</th>\n",
              "      <th>Proposed Construction Type</th>\n",
              "      <th>Proposed Construction Type Description</th>\n",
              "      <th>Site Permit</th>\n",
              "      <th>Supervisor District</th>\n",
              "      <th>Neighborhoods - Analysis Boundaries</th>\n",
              "      <th>Zipcode</th>\n",
              "      <th>Location</th>\n",
              "      <th>Record ID</th>\n",
              "    </tr>\n",
              "  </thead>\n",
              "  <tbody>\n",
              "    <tr>\n",
              "      <th>0</th>\n",
              "      <td>201505065519</td>\n",
              "      <td>4</td>\n",
              "      <td>sign - erect</td>\n",
              "      <td>05/06/2015</td>\n",
              "      <td>0326</td>\n",
              "      <td>023</td>\n",
              "      <td>140</td>\n",
              "      <td>A</td>\n",
              "      <td>Ellis</td>\n",
              "      <td>St</td>\n",
              "      <td>...</td>\n",
              "      <td>3.0</td>\n",
              "      <td>constr type 3</td>\n",
              "      <td>1.0</td>\n",
              "      <td>constr type 1</td>\n",
              "      <td>Y</td>\n",
              "      <td>3.0</td>\n",
              "      <td>Tenderloin</td>\n",
              "      <td>94102.0</td>\n",
              "      <td>(37.785719256680785, -122.40852313194863)</td>\n",
              "      <td>1380611233945</td>\n",
              "    </tr>\n",
              "    <tr>\n",
              "      <th>1</th>\n",
              "      <td>201604195146</td>\n",
              "      <td>4</td>\n",
              "      <td>sign - erect</td>\n",
              "      <td>04/19/2016</td>\n",
              "      <td>0306</td>\n",
              "      <td>007</td>\n",
              "      <td>440</td>\n",
              "      <td>A</td>\n",
              "      <td>Geary</td>\n",
              "      <td>St</td>\n",
              "      <td>...</td>\n",
              "      <td>3.0</td>\n",
              "      <td>constr type 3</td>\n",
              "      <td>1.0</td>\n",
              "      <td>constr type 1</td>\n",
              "      <td>Y</td>\n",
              "      <td>3.0</td>\n",
              "      <td>Tenderloin</td>\n",
              "      <td>94102.0</td>\n",
              "      <td>(37.78733980600732, -122.41063199757738)</td>\n",
              "      <td>1420164406718</td>\n",
              "    </tr>\n",
              "    <tr>\n",
              "      <th>2</th>\n",
              "      <td>201605278609</td>\n",
              "      <td>3</td>\n",
              "      <td>additions alterations or repairs</td>\n",
              "      <td>05/27/2016</td>\n",
              "      <td>0595</td>\n",
              "      <td>203</td>\n",
              "      <td>1647</td>\n",
              "      <td>A</td>\n",
              "      <td>Pacific</td>\n",
              "      <td>Av</td>\n",
              "      <td>...</td>\n",
              "      <td>1.0</td>\n",
              "      <td>constr type 1</td>\n",
              "      <td>1.0</td>\n",
              "      <td>constr type 1</td>\n",
              "      <td>Y</td>\n",
              "      <td>3.0</td>\n",
              "      <td>Russian Hill</td>\n",
              "      <td>94109.0</td>\n",
              "      <td>(37.7946573324287, -122.42232562979227)</td>\n",
              "      <td>1424856504716</td>\n",
              "    </tr>\n",
              "    <tr>\n",
              "      <th>3</th>\n",
              "      <td>201611072166</td>\n",
              "      <td>8</td>\n",
              "      <td>otc alterations permit</td>\n",
              "      <td>11/07/2016</td>\n",
              "      <td>0156</td>\n",
              "      <td>011</td>\n",
              "      <td>1230</td>\n",
              "      <td>A</td>\n",
              "      <td>Pacific</td>\n",
              "      <td>Av</td>\n",
              "      <td>...</td>\n",
              "      <td>5.0</td>\n",
              "      <td>wood frame (5)</td>\n",
              "      <td>5.0</td>\n",
              "      <td>wood frame (5)</td>\n",
              "      <td>Y</td>\n",
              "      <td>3.0</td>\n",
              "      <td>Nob Hill</td>\n",
              "      <td>94109.0</td>\n",
              "      <td>(37.79595867909168, -122.41557405519474)</td>\n",
              "      <td>1443574295566</td>\n",
              "    </tr>\n",
              "    <tr>\n",
              "      <th>4</th>\n",
              "      <td>201611283529</td>\n",
              "      <td>6</td>\n",
              "      <td>demolitions</td>\n",
              "      <td>11/28/2016</td>\n",
              "      <td>0342</td>\n",
              "      <td>001</td>\n",
              "      <td>950</td>\n",
              "      <td>A</td>\n",
              "      <td>Market</td>\n",
              "      <td>St</td>\n",
              "      <td>...</td>\n",
              "      <td>3.0</td>\n",
              "      <td>constr type 3</td>\n",
              "      <td>1.0</td>\n",
              "      <td>constr type 1</td>\n",
              "      <td>Y</td>\n",
              "      <td>6.0</td>\n",
              "      <td>Tenderloin</td>\n",
              "      <td>94102.0</td>\n",
              "      <td>(37.78315261897309, -122.40950883997789)</td>\n",
              "      <td>144548169992</td>\n",
              "    </tr>\n",
              "    <tr>\n",
              "      <th>...</th>\n",
              "      <td>...</td>\n",
              "      <td>...</td>\n",
              "      <td>...</td>\n",
              "      <td>...</td>\n",
              "      <td>...</td>\n",
              "      <td>...</td>\n",
              "      <td>...</td>\n",
              "      <td>...</td>\n",
              "      <td>...</td>\n",
              "      <td>...</td>\n",
              "      <td>...</td>\n",
              "      <td>...</td>\n",
              "      <td>...</td>\n",
              "      <td>...</td>\n",
              "      <td>...</td>\n",
              "      <td>...</td>\n",
              "      <td>...</td>\n",
              "      <td>...</td>\n",
              "      <td>...</td>\n",
              "      <td>...</td>\n",
              "      <td>...</td>\n",
              "    </tr>\n",
              "    <tr>\n",
              "      <th>198895</th>\n",
              "      <td>M862628</td>\n",
              "      <td>8</td>\n",
              "      <td>otc alterations permit</td>\n",
              "      <td>12/05/2017</td>\n",
              "      <td>0113</td>\n",
              "      <td>017A</td>\n",
              "      <td>1228</td>\n",
              "      <td>0</td>\n",
              "      <td>Montgomery</td>\n",
              "      <td>St</td>\n",
              "      <td>...</td>\n",
              "      <td>5.0</td>\n",
              "      <td>wood frame (5)</td>\n",
              "      <td>5.0</td>\n",
              "      <td>wood frame (5)</td>\n",
              "      <td>0</td>\n",
              "      <td>0.0</td>\n",
              "      <td>0</td>\n",
              "      <td>0.0</td>\n",
              "      <td>0</td>\n",
              "      <td>1489337276729</td>\n",
              "    </tr>\n",
              "    <tr>\n",
              "      <th>198896</th>\n",
              "      <td>201712055595</td>\n",
              "      <td>8</td>\n",
              "      <td>otc alterations permit</td>\n",
              "      <td>12/05/2017</td>\n",
              "      <td>0271</td>\n",
              "      <td>014</td>\n",
              "      <td>580</td>\n",
              "      <td>0</td>\n",
              "      <td>Bush</td>\n",
              "      <td>St</td>\n",
              "      <td>...</td>\n",
              "      <td>5.0</td>\n",
              "      <td>wood frame (5)</td>\n",
              "      <td>5.0</td>\n",
              "      <td>wood frame (5)</td>\n",
              "      <td>0</td>\n",
              "      <td>0.0</td>\n",
              "      <td>0</td>\n",
              "      <td>0.0</td>\n",
              "      <td>0</td>\n",
              "      <td>1489462354993</td>\n",
              "    </tr>\n",
              "    <tr>\n",
              "      <th>198897</th>\n",
              "      <td>M863507</td>\n",
              "      <td>8</td>\n",
              "      <td>otc alterations permit</td>\n",
              "      <td>12/06/2017</td>\n",
              "      <td>4318</td>\n",
              "      <td>019</td>\n",
              "      <td>1568</td>\n",
              "      <td>0</td>\n",
              "      <td>Indiana</td>\n",
              "      <td>St</td>\n",
              "      <td>...</td>\n",
              "      <td>0.0</td>\n",
              "      <td>0</td>\n",
              "      <td>0.0</td>\n",
              "      <td>0</td>\n",
              "      <td>0</td>\n",
              "      <td>0.0</td>\n",
              "      <td>0</td>\n",
              "      <td>0.0</td>\n",
              "      <td>0</td>\n",
              "      <td>1489539379952</td>\n",
              "    </tr>\n",
              "    <tr>\n",
              "      <th>198898</th>\n",
              "      <td>M863747</td>\n",
              "      <td>8</td>\n",
              "      <td>otc alterations permit</td>\n",
              "      <td>12/06/2017</td>\n",
              "      <td>0298</td>\n",
              "      <td>029</td>\n",
              "      <td>795</td>\n",
              "      <td>0</td>\n",
              "      <td>Sutter</td>\n",
              "      <td>St</td>\n",
              "      <td>...</td>\n",
              "      <td>0.0</td>\n",
              "      <td>0</td>\n",
              "      <td>0.0</td>\n",
              "      <td>0</td>\n",
              "      <td>0</td>\n",
              "      <td>0.0</td>\n",
              "      <td>0</td>\n",
              "      <td>0.0</td>\n",
              "      <td>0</td>\n",
              "      <td>1489608233656</td>\n",
              "    </tr>\n",
              "    <tr>\n",
              "      <th>198899</th>\n",
              "      <td>M864287</td>\n",
              "      <td>8</td>\n",
              "      <td>otc alterations permit</td>\n",
              "      <td>12/07/2017</td>\n",
              "      <td>0160</td>\n",
              "      <td>006</td>\n",
              "      <td>838</td>\n",
              "      <td>0</td>\n",
              "      <td>Pacific</td>\n",
              "      <td>Av</td>\n",
              "      <td>...</td>\n",
              "      <td>0.0</td>\n",
              "      <td>0</td>\n",
              "      <td>0.0</td>\n",
              "      <td>0</td>\n",
              "      <td>0</td>\n",
              "      <td>0.0</td>\n",
              "      <td>0</td>\n",
              "      <td>0.0</td>\n",
              "      <td>0</td>\n",
              "      <td>1489796283803</td>\n",
              "    </tr>\n",
              "  </tbody>\n",
              "</table>\n",
              "<p>198900 rows × 43 columns</p>\n",
              "</div>\n",
              "      <button class=\"colab-df-convert\" onclick=\"convertToInteractive('df-5c32807a-844c-4e1f-af3b-22dc813e6f61')\"\n",
              "              title=\"Convert this dataframe to an interactive table.\"\n",
              "              style=\"display:none;\">\n",
              "        \n",
              "  <svg xmlns=\"http://www.w3.org/2000/svg\" height=\"24px\"viewBox=\"0 0 24 24\"\n",
              "       width=\"24px\">\n",
              "    <path d=\"M0 0h24v24H0V0z\" fill=\"none\"/>\n",
              "    <path d=\"M18.56 5.44l.94 2.06.94-2.06 2.06-.94-2.06-.94-.94-2.06-.94 2.06-2.06.94zm-11 1L8.5 8.5l.94-2.06 2.06-.94-2.06-.94L8.5 2.5l-.94 2.06-2.06.94zm10 10l.94 2.06.94-2.06 2.06-.94-2.06-.94-.94-2.06-.94 2.06-2.06.94z\"/><path d=\"M17.41 7.96l-1.37-1.37c-.4-.4-.92-.59-1.43-.59-.52 0-1.04.2-1.43.59L10.3 9.45l-7.72 7.72c-.78.78-.78 2.05 0 2.83L4 21.41c.39.39.9.59 1.41.59.51 0 1.02-.2 1.41-.59l7.78-7.78 2.81-2.81c.8-.78.8-2.07 0-2.86zM5.41 20L4 18.59l7.72-7.72 1.47 1.35L5.41 20z\"/>\n",
              "  </svg>\n",
              "      </button>\n",
              "      \n",
              "  <style>\n",
              "    .colab-df-container {\n",
              "      display:flex;\n",
              "      flex-wrap:wrap;\n",
              "      gap: 12px;\n",
              "    }\n",
              "\n",
              "    .colab-df-convert {\n",
              "      background-color: #E8F0FE;\n",
              "      border: none;\n",
              "      border-radius: 50%;\n",
              "      cursor: pointer;\n",
              "      display: none;\n",
              "      fill: #1967D2;\n",
              "      height: 32px;\n",
              "      padding: 0 0 0 0;\n",
              "      width: 32px;\n",
              "    }\n",
              "\n",
              "    .colab-df-convert:hover {\n",
              "      background-color: #E2EBFA;\n",
              "      box-shadow: 0px 1px 2px rgba(60, 64, 67, 0.3), 0px 1px 3px 1px rgba(60, 64, 67, 0.15);\n",
              "      fill: #174EA6;\n",
              "    }\n",
              "\n",
              "    [theme=dark] .colab-df-convert {\n",
              "      background-color: #3B4455;\n",
              "      fill: #D2E3FC;\n",
              "    }\n",
              "\n",
              "    [theme=dark] .colab-df-convert:hover {\n",
              "      background-color: #434B5C;\n",
              "      box-shadow: 0px 1px 3px 1px rgba(0, 0, 0, 0.15);\n",
              "      filter: drop-shadow(0px 1px 2px rgba(0, 0, 0, 0.3));\n",
              "      fill: #FFFFFF;\n",
              "    }\n",
              "  </style>\n",
              "\n",
              "      <script>\n",
              "        const buttonEl =\n",
              "          document.querySelector('#df-5c32807a-844c-4e1f-af3b-22dc813e6f61 button.colab-df-convert');\n",
              "        buttonEl.style.display =\n",
              "          google.colab.kernel.accessAllowed ? 'block' : 'none';\n",
              "\n",
              "        async function convertToInteractive(key) {\n",
              "          const element = document.querySelector('#df-5c32807a-844c-4e1f-af3b-22dc813e6f61');\n",
              "          const dataTable =\n",
              "            await google.colab.kernel.invokeFunction('convertToInteractive',\n",
              "                                                     [key], {});\n",
              "          if (!dataTable) return;\n",
              "\n",
              "          const docLinkHtml = 'Like what you see? Visit the ' +\n",
              "            '<a target=\"_blank\" href=https://colab.research.google.com/notebooks/data_table.ipynb>data table notebook</a>'\n",
              "            + ' to learn more about interactive tables.';\n",
              "          element.innerHTML = '';\n",
              "          dataTable['output_type'] = 'display_data';\n",
              "          await google.colab.output.renderOutput(dataTable, element);\n",
              "          const docLink = document.createElement('div');\n",
              "          docLink.innerHTML = docLinkHtml;\n",
              "          element.appendChild(docLink);\n",
              "        }\n",
              "      </script>\n",
              "    </div>\n",
              "  </div>\n",
              "  "
            ]
          },
          "metadata": {},
          "execution_count": 40
        }
      ]
    },
    {
      "cell_type": "markdown",
      "source": [
        "#Scaling and Normalization"
      ],
      "metadata": {
        "id": "aNJ8TRfQa7F3"
      }
    },
    {
      "cell_type": "code",
      "source": [
        "#Initial Setup\n",
        "import pandas as pd\n",
        "import numpy as np\n",
        "\n",
        "# For Box-Cox Transformation\n",
        "from scipy import stats\n",
        "\n",
        "# for min_max scaling\n",
        "from mlxtend.preprocessing import minmax_scaling\n",
        "\n",
        "#Plotting modules\n",
        "import seaborn as sns\n",
        "import matplotlib.pyplot as plt\n",
        "\n",
        "# set seed for reproducibility\n",
        "np.random.seed(0)"
      ],
      "metadata": {
        "id": "0lr_iZ32sSrA"
      },
      "execution_count": null,
      "outputs": []
    },
    {
      "cell_type": "markdown",
      "source": [
        "Scaling: Changes the range of data\n",
        "\n",
        "Normalization: Changing the shape of the distribution of data"
      ],
      "metadata": {
        "id": "T5bk8wwDbfnD"
      }
    },
    {
      "cell_type": "markdown",
      "source": [
        "###Scaling\n",
        "\n",
        "Data transformed to fit within a specific scale (0-100 or 0-1 for instance). "
      ],
      "metadata": {
        "id": "3T_99_nwbnLt"
      }
    },
    {
      "cell_type": "code",
      "source": [
        "# generate 1000 data points randomly drawn from an exponential distribution\n",
        "original_data = np.random.exponential(size=1000)\n",
        "\n",
        "# mix-max scale the data between 0 and 1\n",
        "scaled_data = minmax_scaling(original_data, columns=[0])\n",
        "\n",
        "# plot both together to compare\n",
        "fig, ax = plt.subplots(1, 2, figsize=(15, 3))\n",
        "sns.histplot(original_data, ax=ax[0], kde=True, legend=False)\n",
        "ax[0].set_title(\"Original Data\")\n",
        "sns.histplot(scaled_data, ax=ax[1], kde=True, legend=False)\n",
        "ax[1].set_title(\"Scaled data\")\n",
        "plt.show()"
      ],
      "metadata": {
        "colab": {
          "base_uri": "https://localhost:8080/",
          "height": 227
        },
        "id": "KzTcSHpMbTUx",
        "outputId": "fc79eca6-8772-4372-b02c-c2bc15799069"
      },
      "execution_count": null,
      "outputs": [
        {
          "output_type": "display_data",
          "data": {
            "text/plain": [
              "<Figure size 1080x216 with 2 Axes>"
            ],
            "image/png": "[encoded data removed]"
          },
          "metadata": {
            "needs_background": "light"
          }
        }
      ]
    },
    {
      "cell_type": "markdown",
      "source": [
        "The shape of the data doesn't change, simply the range"
      ],
      "metadata": {
        "id": "_Te9i-lhf5Lc"
      }
    },
    {
      "cell_type": "markdown",
      "source": [
        "###Normalization\n",
        "\n",
        "Normalization changes the observations so they can be described as normal distribution. This is important when using machine learning or statstics that assumes the data is normally distributed. "
      ],
      "metadata": {
        "id": "_7bYr4kjf-cb"
      }
    },
    {
      "cell_type": "code",
      "source": [
        "# Normalize the exponential data with boxcox\n",
        "normalized_data = stats.boxcox(original_data)\n",
        "\n",
        "#plot both together to compare\n",
        "fig, ax=plt.subplots(1, 2, figsize=(15, 3))\n",
        "sns.histplot(original_data, ax=ax[0], kde=True, legend=False)\n",
        "ax[0].set_title(\"Original Data\")\n",
        "sns.histplot(normalized_data[0], ax=ax[1], kde=True, legend=False)\n",
        "ax[1].set_title(\"Normalized data\")\n",
        "plt.show()"
      ],
      "metadata": {
        "colab": {
          "base_uri": "https://localhost:8080/",
          "height": 227
        },
        "id": "daWzrWhLcbSk",
        "outputId": "345a4bc5-ce4c-44a9-c43d-483096a94480"
      },
      "execution_count": null,
      "outputs": [
        {
          "output_type": "display_data",
          "data": {
            "text/plain": [
              "<Figure size 1080x216 with 2 Axes>"
            ],
            "image/png": "[encoded data removed]"
          },
          "metadata": {
            "needs_background": "light"
          }
        }
      ]
    },
    {
      "cell_type": "markdown",
      "source": [
        "#Parsing Dates"
      ],
      "metadata": {
        "id": "dnZac6tOPiWN"
      }
    },
    {
      "cell_type": "code",
      "source": [
        "#Initial Setup\n",
        "import pandas as pd\n",
        "import numpy as np\n",
        "import seaborn as sns\n",
        "import datetime\n",
        "\n",
        "from google.colab import files\n",
        "file = files.upload()"
      ],
      "metadata": {
        "id": "uqC5CmGohO4f",
        "colab": {
          "resources": {
            "http://localhost:8080/nbextensions/google.colab/files.js": {
              "data": "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",
              "ok": true,
              "headers": [
                [
                  "content-type",
                  "application/javascript"
                ]
              ],
              "status": 200,
              "status_text": ""
            }
          },
          "base_uri": "https://localhost:8080/",
          "height": 72
        },
        "outputId": "962b2fb1-65a2-4356-c93d-6db9bd66755a"
      },
      "execution_count": 1,
      "outputs": [
        {
          "output_type": "display_data",
          "data": {
            "text/plain": [
              "<IPython.core.display.HTML object>"
            ],
            "text/html": [
              "\n",
              "     <input type=\"file\" id=\"files-8dd0b3f9-69ec-4f08-94d9-8166e0091eba\" name=\"files[]\" multiple disabled\n",
              "        style=\"border:none\" />\n",
              "     <output id=\"result-8dd0b3f9-69ec-4f08-94d9-8166e0091eba\">\n",
              "      Upload widget is only available when the cell has been executed in the\n",
              "      current browser session. Please rerun this cell to enable.\n",
              "      </output>\n",
              "      <script src=\"/nbextensions/google.colab/files.js\"></script> "
            ]
          },
          "metadata": {}
        },
        {
          "output_type": "stream",
          "name": "stdout",
          "text": [
            "Saving catalog.csv to catalog.csv\n"
          ]
        }
      ]
    },
    {
      "cell_type": "code",
      "source": [
        "# read in data\n",
        "landslides = pd.read_csv(\"catalog.csv\")\n",
        "\n",
        "# Set seed for reproducibility\n",
        "np.random.seed(0)"
      ],
      "metadata": {
        "id": "iHzwGt3eQK-P"
      },
      "execution_count": 2,
      "outputs": []
    },
    {
      "cell_type": "code",
      "source": [
        "landslides.head()"
      ],
      "metadata": {
        "colab": {
          "base_uri": "https://localhost:8080/",
          "height": 404
        },
        "id": "-lg3Vcs2QZEf",
        "outputId": "d44fb879-3051-4376-9c9a-9bf50bdd3ac0"
      },
      "execution_count": 3,
      "outputs": [
        {
          "output_type": "execute_result",
          "data": {
            "text/plain": [
              "   id     date   time continent_code   country_name country_code  \\\n",
              "0  34   3/2/07  Night            NaN  United States           US   \n",
              "1  42  3/22/07    NaN            NaN  United States           US   \n",
              "2  56   4/6/07    NaN            NaN  United States           US   \n",
              "3  59  4/14/07    NaN            NaN         Canada           CA   \n",
              "4  61  4/15/07    NaN            NaN  United States           US   \n",
              "\n",
              "  state/province  population         city/town  distance  ...  \\\n",
              "0       Virginia       16000       Cherry Hill   3.40765  ...   \n",
              "1           Ohio       17288  New Philadelphia   3.33522  ...   \n",
              "2   Pennsylvania       15930       Wilkinsburg   2.91977  ...   \n",
              "3         Quebec       42786       Châteauguay   2.98682  ...   \n",
              "4       Kentucky        6903         Pikeville   5.66542  ...   \n",
              "\n",
              "                                 geolocation  hazard_type      landslide_type  \\\n",
              "0  (38.600900000000003, -77.268199999999993)    Landslide           Landslide   \n",
              "1  (40.517499999999998, -81.430499999999995)    Landslide           Landslide   \n",
              "2             (40.4377, -79.915999999999997)    Landslide           Landslide   \n",
              "3  (45.322600000000001, -73.777100000000004)    Landslide  Riverbank collapse   \n",
              "4  (37.432499999999997, -82.493099999999998)    Landslide           Landslide   \n",
              "\n",
              "  landslide_size   trigger storm_name injuries fatalities  \\\n",
              "0          Small      Rain        NaN      NaN        NaN   \n",
              "1          Small      Rain        NaN      NaN        NaN   \n",
              "2          Small      Rain        NaN      NaN        NaN   \n",
              "3          Small      Rain        NaN      NaN        NaN   \n",
              "4          Small  Downpour        NaN      NaN        0.0   \n",
              "\n",
              "                  source_name  \\\n",
              "0                  NBC 4 news   \n",
              "1              Canton Rep.com   \n",
              "2  The Pittsburgh Channel.com   \n",
              "3                   Le Soleil   \n",
              "4      Matthew Crawford (KGS)   \n",
              "\n",
              "                                         source_link  \n",
              "0      http://www.nbc4.com/news/11186871/detail.html  \n",
              "1  http://www.cantonrep.com/index.php?ID=345054&C...  \n",
              "2  https://web.archive.org/web/20080423132842/htt...  \n",
              "3  http://www.hebdos.net/lsc/edition162007/articl...  \n",
              "4                                                NaN  \n",
              "\n",
              "[5 rows x 23 columns]"
            ],
            "text/html": [
              "\n",
              "  <div id=\"df-0bbe6b69-d594-45aa-9e9c-c8d6ee327b4e\">\n",
              "    <div class=\"colab-df-container\">\n",
              "      <div>\n",
              "<style scoped>\n",
              "    .dataframe tbody tr th:only-of-type {\n",
              "        vertical-align: middle;\n",
              "    }\n",
              "\n",
              "    .dataframe tbody tr th {\n",
              "        vertical-align: top;\n",
              "    }\n",
              "\n",
              "    .dataframe thead th {\n",
              "        text-align: right;\n",
              "    }\n",
              "</style>\n",
              "<table border=\"1\" class=\"dataframe\">\n",
              "  <thead>\n",
              "    <tr style=\"text-align: right;\">\n",
              "      <th></th>\n",
              "      <th>id</th>\n",
              "      <th>date</th>\n",
              "      <th>time</th>\n",
              "      <th>continent_code</th>\n",
              "      <th>country_name</th>\n",
              "      <th>country_code</th>\n",
              "      <th>state/province</th>\n",
              "      <th>population</th>\n",
              "      <th>city/town</th>\n",
              "      <th>distance</th>\n",
              "      <th>...</th>\n",
              "      <th>geolocation</th>\n",
              "      <th>hazard_type</th>\n",
              "      <th>landslide_type</th>\n",
              "      <th>landslide_size</th>\n",
              "      <th>trigger</th>\n",
              "      <th>storm_name</th>\n",
              "      <th>injuries</th>\n",
              "      <th>fatalities</th>\n",
              "      <th>source_name</th>\n",
              "      <th>source_link</th>\n",
              "    </tr>\n",
              "  </thead>\n",
              "  <tbody>\n",
              "    <tr>\n",
              "      <th>0</th>\n",
              "      <td>34</td>\n",
              "      <td>3/2/07</td>\n",
              "      <td>Night</td>\n",
              "      <td>NaN</td>\n",
              "      <td>United States</td>\n",
              "      <td>US</td>\n",
              "      <td>Virginia</td>\n",
              "      <td>16000</td>\n",
              "      <td>Cherry Hill</td>\n",
              "      <td>3.40765</td>\n",
              "      <td>...</td>\n",
              "      <td>(38.600900000000003, -77.268199999999993)</td>\n",
              "      <td>Landslide</td>\n",
              "      <td>Landslide</td>\n",
              "      <td>Small</td>\n",
              "      <td>Rain</td>\n",
              "      <td>NaN</td>\n",
              "      <td>NaN</td>\n",
              "      <td>NaN</td>\n",
              "      <td>NBC 4 news</td>\n",
              "      <td>http://www.nbc4.com/news/11186871/detail.html</td>\n",
              "    </tr>\n",
              "    <tr>\n",
              "      <th>1</th>\n",
              "      <td>42</td>\n",
              "      <td>3/22/07</td>\n",
              "      <td>NaN</td>\n",
              "      <td>NaN</td>\n",
              "      <td>United States</td>\n",
              "      <td>US</td>\n",
              "      <td>Ohio</td>\n",
              "      <td>17288</td>\n",
              "      <td>New Philadelphia</td>\n",
              "      <td>3.33522</td>\n",
              "      <td>...</td>\n",
              "      <td>(40.517499999999998, -81.430499999999995)</td>\n",
              "      <td>Landslide</td>\n",
              "      <td>Landslide</td>\n",
              "      <td>Small</td>\n",
              "      <td>Rain</td>\n",
              "      <td>NaN</td>\n",
              "      <td>NaN</td>\n",
              "      <td>NaN</td>\n",
              "      <td>Canton Rep.com</td>\n",
              "      <td>http://www.cantonrep.com/index.php?ID=345054&amp;C...</td>\n",
              "    </tr>\n",
              "    <tr>\n",
              "      <th>2</th>\n",
              "      <td>56</td>\n",
              "      <td>4/6/07</td>\n",
              "      <td>NaN</td>\n",
              "      <td>NaN</td>\n",
              "      <td>United States</td>\n",
              "      <td>US</td>\n",
              "      <td>Pennsylvania</td>\n",
              "      <td>15930</td>\n",
              "      <td>Wilkinsburg</td>\n",
              "      <td>2.91977</td>\n",
              "      <td>...</td>\n",
              "      <td>(40.4377, -79.915999999999997)</td>\n",
              "      <td>Landslide</td>\n",
              "      <td>Landslide</td>\n",
              "      <td>Small</td>\n",
              "      <td>Rain</td>\n",
              "      <td>NaN</td>\n",
              "      <td>NaN</td>\n",
              "      <td>NaN</td>\n",
              "      <td>The Pittsburgh Channel.com</td>\n",
              "      <td>https://web.archive.org/web/20080423132842/htt...</td>\n",
              "    </tr>\n",
              "    <tr>\n",
              "      <th>3</th>\n",
              "      <td>59</td>\n",
              "      <td>4/14/07</td>\n",
              "      <td>NaN</td>\n",
              "      <td>NaN</td>\n",
              "      <td>Canada</td>\n",
              "      <td>CA</td>\n",
              "      <td>Quebec</td>\n",
              "      <td>42786</td>\n",
              "      <td>Châteauguay</td>\n",
              "      <td>2.98682</td>\n",
              "      <td>...</td>\n",
              "      <td>(45.322600000000001, -73.777100000000004)</td>\n",
              "      <td>Landslide</td>\n",
              "      <td>Riverbank collapse</td>\n",
              "      <td>Small</td>\n",
              "      <td>Rain</td>\n",
              "      <td>NaN</td>\n",
              "      <td>NaN</td>\n",
              "      <td>NaN</td>\n",
              "      <td>Le Soleil</td>\n",
              "      <td>http://www.hebdos.net/lsc/edition162007/articl...</td>\n",
              "    </tr>\n",
              "    <tr>\n",
              "      <th>4</th>\n",
              "      <td>61</td>\n",
              "      <td>4/15/07</td>\n",
              "      <td>NaN</td>\n",
              "      <td>NaN</td>\n",
              "      <td>United States</td>\n",
              "      <td>US</td>\n",
              "      <td>Kentucky</td>\n",
              "      <td>6903</td>\n",
              "      <td>Pikeville</td>\n",
              "      <td>5.66542</td>\n",
              "      <td>...</td>\n",
              "      <td>(37.432499999999997, -82.493099999999998)</td>\n",
              "      <td>Landslide</td>\n",
              "      <td>Landslide</td>\n",
              "      <td>Small</td>\n",
              "      <td>Downpour</td>\n",
              "      <td>NaN</td>\n",
              "      <td>NaN</td>\n",
              "      <td>0.0</td>\n",
              "      <td>Matthew Crawford (KGS)</td>\n",
              "      <td>NaN</td>\n",
              "    </tr>\n",
              "  </tbody>\n",
              "</table>\n",
              "<p>5 rows × 23 columns</p>\n",
              "</div>\n",
              "      <button class=\"colab-df-convert\" onclick=\"convertToInteractive('df-0bbe6b69-d594-45aa-9e9c-c8d6ee327b4e')\"\n",
              "              title=\"Convert this dataframe to an interactive table.\"\n",
              "              style=\"display:none;\">\n",
              "        \n",
              "  <svg xmlns=\"http://www.w3.org/2000/svg\" height=\"24px\"viewBox=\"0 0 24 24\"\n",
              "       width=\"24px\">\n",
              "    <path d=\"M0 0h24v24H0V0z\" fill=\"none\"/>\n",
              "    <path d=\"M18.56 5.44l.94 2.06.94-2.06 2.06-.94-2.06-.94-.94-2.06-.94 2.06-2.06.94zm-11 1L8.5 8.5l.94-2.06 2.06-.94-2.06-.94L8.5 2.5l-.94 2.06-2.06.94zm10 10l.94 2.06.94-2.06 2.06-.94-2.06-.94-.94-2.06-.94 2.06-2.06.94z\"/><path d=\"M17.41 7.96l-1.37-1.37c-.4-.4-.92-.59-1.43-.59-.52 0-1.04.2-1.43.59L10.3 9.45l-7.72 7.72c-.78.78-.78 2.05 0 2.83L4 21.41c.39.39.9.59 1.41.59.51 0 1.02-.2 1.41-.59l7.78-7.78 2.81-2.81c.8-.78.8-2.07 0-2.86zM5.41 20L4 18.59l7.72-7.72 1.47 1.35L5.41 20z\"/>\n",
              "  </svg>\n",
              "      </button>\n",
              "      \n",
              "  <style>\n",
              "    .colab-df-container {\n",
              "      display:flex;\n",
              "      flex-wrap:wrap;\n",
              "      gap: 12px;\n",
              "    }\n",
              "\n",
              "    .colab-df-convert {\n",
              "      background-color: #E8F0FE;\n",
              "      border: none;\n",
              "      border-radius: 50%;\n",
              "      cursor: pointer;\n",
              "      display: none;\n",
              "      fill: #1967D2;\n",
              "      height: 32px;\n",
              "      padding: 0 0 0 0;\n",
              "      width: 32px;\n",
              "    }\n",
              "\n",
              "    .colab-df-convert:hover {\n",
              "      background-color: #E2EBFA;\n",
              "      box-shadow: 0px 1px 2px rgba(60, 64, 67, 0.3), 0px 1px 3px 1px rgba(60, 64, 67, 0.15);\n",
              "      fill: #174EA6;\n",
              "    }\n",
              "\n",
              "    [theme=dark] .colab-df-convert {\n",
              "      background-color: #3B4455;\n",
              "      fill: #D2E3FC;\n",
              "    }\n",
              "\n",
              "    [theme=dark] .colab-df-convert:hover {\n",
              "      background-color: #434B5C;\n",
              "      box-shadow: 0px 1px 3px 1px rgba(0, 0, 0, 0.15);\n",
              "      filter: drop-shadow(0px 1px 2px rgba(0, 0, 0, 0.3));\n",
              "      fill: #FFFFFF;\n",
              "    }\n",
              "  </style>\n",
              "\n",
              "      <script>\n",
              "        const buttonEl =\n",
              "          document.querySelector('#df-0bbe6b69-d594-45aa-9e9c-c8d6ee327b4e button.colab-df-convert');\n",
              "        buttonEl.style.display =\n",
              "          google.colab.kernel.accessAllowed ? 'block' : 'none';\n",
              "\n",
              "        async function convertToInteractive(key) {\n",
              "          const element = document.querySelector('#df-0bbe6b69-d594-45aa-9e9c-c8d6ee327b4e');\n",
              "          const dataTable =\n",
              "            await google.colab.kernel.invokeFunction('convertToInteractive',\n",
              "                                                     [key], {});\n",
              "          if (!dataTable) return;\n",
              "\n",
              "          const docLinkHtml = 'Like what you see? Visit the ' +\n",
              "            '<a target=\"_blank\" href=https://colab.research.google.com/notebooks/data_table.ipynb>data table notebook</a>'\n",
              "            + ' to learn more about interactive tables.';\n",
              "          element.innerHTML = '';\n",
              "          dataTable['output_type'] = 'display_data';\n",
              "          await google.colab.output.renderOutput(dataTable, element);\n",
              "          const docLink = document.createElement('div');\n",
              "          docLink.innerHTML = docLinkHtml;\n",
              "          element.appendChild(docLink);\n",
              "        }\n",
              "      </script>\n",
              "    </div>\n",
              "  </div>\n",
              "  "
            ]
          },
          "metadata": {},
          "execution_count": 3
        }
      ]
    },
    {
      "cell_type": "code",
      "source": [
        "#Print first few rows of date column\n",
        "print(landslides['date'].head())"
      ],
      "metadata": {
        "colab": {
          "base_uri": "https://localhost:8080/"
        },
        "id": "Dl4nWm4sQXfM",
        "outputId": "97a554b7-e33f-4f30-972c-8780d5d38bbd"
      },
      "execution_count": 4,
      "outputs": [
        {
          "output_type": "stream",
          "name": "stdout",
          "text": [
            "0     3/2/07\n",
            "1    3/22/07\n",
            "2     4/6/07\n",
            "3    4/14/07\n",
            "4    4/15/07\n",
            "Name: date, dtype: object\n"
          ]
        }
      ]
    },
    {
      "cell_type": "markdown",
      "source": [
        "We know this column contains dates but Python doesn't know that. The documentation states that there is a dtype specifically for datetime64, and here we can see the the dtyupe is object, which usually tends to mean strings."
      ],
      "metadata": {
        "id": "kWZG85aKQ3-8"
      }
    },
    {
      "cell_type": "code",
      "source": [
        "#check date type of date column\n",
        "landslides['date'].dtype"
      ],
      "metadata": {
        "colab": {
          "base_uri": "https://localhost:8080/"
        },
        "id": "lI_obOx4Qqu_",
        "outputId": "62ee5c27-9e52-4073-9173-6f931c92ff86"
      },
      "execution_count": 5,
      "outputs": [
        {
          "output_type": "execute_result",
          "data": {
            "text/plain": [
              "dtype('O')"
            ]
          },
          "metadata": {},
          "execution_count": 5
        }
      ]
    },
    {
      "cell_type": "markdown",
      "source": [
        "We need to parse the dates (taking in a string and identifying its component parts)"
      ],
      "metadata": {
        "id": "PFdhqtK9RMuJ"
      }
    },
    {
      "cell_type": "markdown",
      "source": [
        "There are many date formats but the most commong is %d for day, %m for month, %y for two-digit year and %Y for four digit year."
      ],
      "metadata": {
        "id": "ycd-Is4ERXRt"
      }
    },
    {
      "cell_type": "code",
      "source": [
        "#Create new column, date_parsed, with parsed dates\n",
        "landslides['date_parsed'] = pd.to_datetime(landslides['date'], format=\"%m/%d/%y\")"
      ],
      "metadata": {
        "id": "mQuH4L-wRG1v"
      },
      "execution_count": 7,
      "outputs": []
    },
    {
      "cell_type": "code",
      "source": [
        "#Print first few rows\n",
        "landslides['date_parsed'].head()"
      ],
      "metadata": {
        "colab": {
          "base_uri": "https://localhost:8080/"
        },
        "id": "7qDPWbe2RuS9",
        "outputId": "ca0108d1-953e-4bfa-d21d-ba54960fbddc"
      },
      "execution_count": 8,
      "outputs": [
        {
          "output_type": "execute_result",
          "data": {
            "text/plain": [
              "0   2007-03-02\n",
              "1   2007-03-22\n",
              "2   2007-04-06\n",
              "3   2007-04-14\n",
              "4   2007-04-15\n",
              "Name: date_parsed, dtype: datetime64[ns]"
            ]
          },
          "metadata": {},
          "execution_count": 8
        }
      ]
    },
    {
      "cell_type": "markdown",
      "source": [
        "After specifying the date format, if you run into errors it is best to let the datetime format be infered automatically. We don't want to always do this, however, because Pandas can sometimes have a hard time guessing the correct format, plus it slows down the run time."
      ],
      "metadata": {
        "id": "2OVP8h4ISCFj"
      }
    },
    {
      "cell_type": "code",
      "source": [
        "# We can select the day of month\n",
        "day_of_month_landslides = landslides['date_parsed'].dt.day\n",
        "day_of_month_landslides.head()"
      ],
      "metadata": {
        "colab": {
          "base_uri": "https://localhost:8080/"
        },
        "id": "MO5yt7stR5Qi",
        "outputId": "691d930b-1494-4597-948f-fceedad273a6"
      },
      "execution_count": 9,
      "outputs": [
        {
          "output_type": "execute_result",
          "data": {
            "text/plain": [
              "0     2.0\n",
              "1    22.0\n",
              "2     6.0\n",
              "3    14.0\n",
              "4    15.0\n",
              "Name: date_parsed, dtype: float64"
            ]
          },
          "metadata": {},
          "execution_count": 9
        }
      ]
    },
    {
      "cell_type": "markdown",
      "source": [
        "It is important to check and make sure the days of the month that were extracted make sense: we wouldn't want the days and months mixed up. We will plot some histograms of the days of the month. We should have values 1 - 31 with fairly even distribution (we have no reason to believe landslides happen more frequently on any certain day of the momnth). The exception will be the 31st because not every month has 31 days."
      ],
      "metadata": {
        "id": "wnOCWzjLTZpz"
      }
    },
    {
      "cell_type": "code",
      "source": [
        "#remove nas\n",
        "day_of_month_landslides = day_of_month_landslides.dropna()"
      ],
      "metadata": {
        "id": "8wR7G8l1TQsR"
      },
      "execution_count": 10,
      "outputs": []
    },
    {
      "cell_type": "code",
      "source": [
        "# plot day of month\n",
        "sns.distplot(day_of_month_landslides, kde=False, bins=31)"
      ],
      "metadata": {
        "colab": {
          "base_uri": "https://localhost:8080/",
          "height": 352
        },
        "id": "8wvWmV0BT2uW",
        "outputId": "a3b750dc-c48c-48d3-8652-9bd349ca0336"
      },
      "execution_count": 11,
      "outputs": [
        {
          "output_type": "stream",
          "name": "stderr",
          "text": [
            "/usr/local/lib/python3.7/dist-packages/seaborn/distributions.py:2619: FutureWarning: `distplot` is a deprecated function and will be removed in a future version. Please adapt your code to use either `displot` (a figure-level function with similar flexibility) or `histplot` (an axes-level function for histograms).\n",
            "  warnings.warn(msg, FutureWarning)\n"
          ]
        },
        {
          "output_type": "execute_result",
          "data": {
            "text/plain": [
              "<matplotlib.axes._subplots.AxesSubplot at 0x7f09ba7db390>"
            ]
          },
          "metadata": {},
          "execution_count": 11
        },
        {
          "output_type": "display_data",
          "data": {
            "text/plain": [
              "<Figure size 432x288 with 1 Axes>"
            ],
            "image/png": "[encoded data removed]"
          },
          "metadata": {
            "needs_background": "light"
          }
        }
      ]
    },
    {
      "cell_type": "markdown",
      "source": [
        "Everything looks good!"
      ],
      "metadata": {
        "id": "VQ0KE9e2T-tJ"
      }
    },
    {
      "cell_type": "markdown",
      "source": [
        "##Your Turn"
      ],
      "metadata": {
        "id": "YAPuZY0pUBP3"
      }
    },
    {
      "cell_type": "code",
      "source": [
        "#Upload files\n",
        "from google.colab import files\n",
        "file = files.upload()"
      ],
      "metadata": {
        "colab": {
          "resources": {
            "http://localhost:8080/nbextensions/google.colab/files.js": {
              "data": "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",
              "ok": true,
              "headers": [
                [
                  "content-type",
                  "application/javascript"
                ]
              ],
              "status": 200,
              "status_text": ""
            }
          },
          "base_uri": "https://localhost:8080/",
          "height": 72
        },
        "id": "h4q2C6O5VFdV",
        "outputId": "fcc5ec4f-9a57-4dfa-c17d-515b9e170dc8"
      },
      "execution_count": 18,
      "outputs": [
        {
          "output_type": "display_data",
          "data": {
            "text/plain": [
              "<IPython.core.display.HTML object>"
            ],
            "text/html": [
              "\n",
              "     <input type=\"file\" id=\"files-7968600c-519e-4ae4-af38-1ada4e7db09a\" name=\"files[]\" multiple disabled\n",
              "        style=\"border:none\" />\n",
              "     <output id=\"result-7968600c-519e-4ae4-af38-1ada4e7db09a\">\n",
              "      Upload widget is only available when the cell has been executed in the\n",
              "      current browser session. Please rerun this cell to enable.\n",
              "      </output>\n",
              "      <script src=\"/nbextensions/google.colab/files.js\"></script> "
            ]
          },
          "metadata": {}
        },
        {
          "output_type": "stream",
          "name": "stdout",
          "text": [
            "Saving database.csv to database.csv\n"
          ]
        }
      ]
    },
    {
      "cell_type": "code",
      "source": [
        "# Initial Setup\n",
        "import pandas as pd\n",
        "import numpy as np\n",
        "import seaborn as sns\n",
        "import datetime\n",
        "\n",
        "# read in data\n",
        "earthquakes = pd.read_csv(\"database.csv\")\n",
        "\n",
        "# Set seed for reproducibility\n",
        "np.random.seed(0)"
      ],
      "metadata": {
        "id": "Fr_5lUEaT6oM"
      },
      "execution_count": 100,
      "outputs": []
    },
    {
      "cell_type": "markdown",
      "source": [
        "You'll be working with the \"Date\" column from the earthquakes dataframe. Investigate this column now: does it look like it contains dates? What is the dtype of the column?"
      ],
      "metadata": {
        "id": "C0okuFT3Vfbp"
      }
    },
    {
      "cell_type": "code",
      "source": [
        "earthquakes.columns"
      ],
      "metadata": {
        "colab": {
          "base_uri": "https://localhost:8080/"
        },
        "id": "mMwDHdT3Vh7w",
        "outputId": "b14e272f-7f60-497b-c125-8056117a7cf2"
      },
      "execution_count": 101,
      "outputs": [
        {
          "output_type": "execute_result",
          "data": {
            "text/plain": [
              "Index(['Date', 'Time', 'Latitude', 'Longitude', 'Type', 'Depth', 'Depth Error',\n",
              "       'Depth Seismic Stations', 'Magnitude', 'Magnitude Type',\n",
              "       'Magnitude Error', 'Magnitude Seismic Stations', 'Azimuthal Gap',\n",
              "       'Horizontal Distance', 'Horizontal Error', 'Root Mean Square', 'ID',\n",
              "       'Source', 'Location Source', 'Magnitude Source', 'Status'],\n",
              "      dtype='object')"
            ]
          },
          "metadata": {},
          "execution_count": 101
        }
      ]
    },
    {
      "cell_type": "code",
      "source": [
        "earthquakes['Date'].head()"
      ],
      "metadata": {
        "colab": {
          "base_uri": "https://localhost:8080/"
        },
        "id": "4F7iiBFRVdTD",
        "outputId": "1a384d4a-351b-4c6c-c7a7-29b9d35527ee"
      },
      "execution_count": 102,
      "outputs": [
        {
          "output_type": "execute_result",
          "data": {
            "text/plain": [
              "0    01/02/1965\n",
              "1    01/04/1965\n",
              "2    01/05/1965\n",
              "3    01/08/1965\n",
              "4    01/09/1965\n",
              "Name: Date, dtype: object"
            ]
          },
          "metadata": {},
          "execution_count": 102
        }
      ]
    },
    {
      "cell_type": "code",
      "source": [
        "earthquakes[\"Date\"].dtype"
      ],
      "metadata": {
        "colab": {
          "base_uri": "https://localhost:8080/"
        },
        "id": "RpIAmz5VWEQn",
        "outputId": "a60d4365-5c8b-40ca-e618-9383fa138890"
      },
      "execution_count": 103,
      "outputs": [
        {
          "output_type": "execute_result",
          "data": {
            "text/plain": [
              "dtype('O')"
            ]
          },
          "metadata": {},
          "execution_count": 103
        }
      ]
    },
    {
      "cell_type": "markdown",
      "source": [
        "Most of the entries in the \"Date\" column follow the same format: \"month/day/four-digit year\". However, the entry at index 3378 follows a completely different pattern. Run the code cell below to see this."
      ],
      "metadata": {
        "id": "jbbtH-DGWTeI"
      }
    },
    {
      "cell_type": "code",
      "source": [
        "earthquakes[3378:3383]"
      ],
      "metadata": {
        "colab": {
          "base_uri": "https://localhost:8080/",
          "height": 332
        },
        "id": "1xN9v10RWG43",
        "outputId": "a10605a8-aa99-4080-8606-2f434c2cc95a"
      },
      "execution_count": 104,
      "outputs": [
        {
          "output_type": "execute_result",
          "data": {
            "text/plain": [
              "                          Date                      Time  Latitude  Longitude  \\\n",
              "3378  1975-02-23T02:58:41.000Z  1975-02-23T02:58:41.000Z     8.017    124.075   \n",
              "3379                02/23/1975                  03:53:36   -21.727    -71.356   \n",
              "3380                02/23/1975                  07:34:11   -10.879    166.667   \n",
              "3381                02/25/1975                  05:20:05    -7.388    149.798   \n",
              "3382                02/26/1975                  04:48:55    85.047     97.969   \n",
              "\n",
              "            Type  Depth  Depth Error  Depth Seismic Stations  Magnitude  \\\n",
              "3378  Earthquake  623.0          NaN                     NaN        5.6   \n",
              "3379  Earthquake   33.0          NaN                     NaN        5.6   \n",
              "3380  Earthquake   33.0          NaN                     NaN        5.5   \n",
              "3381  Earthquake   33.0          NaN                     NaN        5.5   \n",
              "3382  Earthquake   33.0          NaN                     NaN        5.6   \n",
              "\n",
              "     Magnitude Type  ...  Magnitude Seismic Stations  Azimuthal Gap  \\\n",
              "3378             MB  ...                         NaN            NaN   \n",
              "3379             MB  ...                         NaN            NaN   \n",
              "3380             MS  ...                         NaN            NaN   \n",
              "3381             MB  ...                         NaN            NaN   \n",
              "3382             MS  ...                         NaN            NaN   \n",
              "\n",
              "      Horizontal Distance  Horizontal Error  Root Mean Square          ID  \\\n",
              "3378                  NaN               NaN               NaN  USP0000A09   \n",
              "3379                  NaN               NaN               NaN  USP0000A0A   \n",
              "3380                  NaN               NaN               NaN  USP0000A0C   \n",
              "3381                  NaN               NaN               NaN  USP0000A12   \n",
              "3382                  NaN               NaN               NaN  USP0000A1H   \n",
              "\n",
              "     Source Location Source Magnitude Source    Status  \n",
              "3378     US              US               US  Reviewed  \n",
              "3379     US              US               US  Reviewed  \n",
              "3380     US              US               US  Reviewed  \n",
              "3381     US              US               US  Reviewed  \n",
              "3382     US              US               US  Reviewed  \n",
              "\n",
              "[5 rows x 21 columns]"
            ],
            "text/html": [
              "\n",
              "  <div id=\"df-84b89b3a-2b1a-4168-8a97-e21bcf221b03\">\n",
              "    <div class=\"colab-df-container\">\n",
              "      <div>\n",
              "<style scoped>\n",
              "    .dataframe tbody tr th:only-of-type {\n",
              "        vertical-align: middle;\n",
              "    }\n",
              "\n",
              "    .dataframe tbody tr th {\n",
              "        vertical-align: top;\n",
              "    }\n",
              "\n",
              "    .dataframe thead th {\n",
              "        text-align: right;\n",
              "    }\n",
              "</style>\n",
              "<table border=\"1\" class=\"dataframe\">\n",
              "  <thead>\n",
              "    <tr style=\"text-align: right;\">\n",
              "      <th></th>\n",
              "      <th>Date</th>\n",
              "      <th>Time</th>\n",
              "      <th>Latitude</th>\n",
              "      <th>Longitude</th>\n",
              "      <th>Type</th>\n",
              "      <th>Depth</th>\n",
              "      <th>Depth Error</th>\n",
              "      <th>Depth Seismic Stations</th>\n",
              "      <th>Magnitude</th>\n",
              "      <th>Magnitude Type</th>\n",
              "      <th>...</th>\n",
              "      <th>Magnitude Seismic Stations</th>\n",
              "      <th>Azimuthal Gap</th>\n",
              "      <th>Horizontal Distance</th>\n",
              "      <th>Horizontal Error</th>\n",
              "      <th>Root Mean Square</th>\n",
              "      <th>ID</th>\n",
              "      <th>Source</th>\n",
              "      <th>Location Source</th>\n",
              "      <th>Magnitude Source</th>\n",
              "      <th>Status</th>\n",
              "    </tr>\n",
              "  </thead>\n",
              "  <tbody>\n",
              "    <tr>\n",
              "      <th>3378</th>\n",
              "      <td>1975-02-23T02:58:41.000Z</td>\n",
              "      <td>1975-02-23T02:58:41.000Z</td>\n",
              "      <td>8.017</td>\n",
              "      <td>124.075</td>\n",
              "      <td>Earthquake</td>\n",
              "      <td>623.0</td>\n",
              "      <td>NaN</td>\n",
              "      <td>NaN</td>\n",
              "      <td>5.6</td>\n",
              "      <td>MB</td>\n",
              "      <td>...</td>\n",
              "      <td>NaN</td>\n",
              "      <td>NaN</td>\n",
              "      <td>NaN</td>\n",
              "      <td>NaN</td>\n",
              "      <td>NaN</td>\n",
              "      <td>USP0000A09</td>\n",
              "      <td>US</td>\n",
              "      <td>US</td>\n",
              "      <td>US</td>\n",
              "      <td>Reviewed</td>\n",
              "    </tr>\n",
              "    <tr>\n",
              "      <th>3379</th>\n",
              "      <td>02/23/1975</td>\n",
              "      <td>03:53:36</td>\n",
              "      <td>-21.727</td>\n",
              "      <td>-71.356</td>\n",
              "      <td>Earthquake</td>\n",
              "      <td>33.0</td>\n",
              "      <td>NaN</td>\n",
              "      <td>NaN</td>\n",
              "      <td>5.6</td>\n",
              "      <td>MB</td>\n",
              "      <td>...</td>\n",
              "      <td>NaN</td>\n",
              "      <td>NaN</td>\n",
              "      <td>NaN</td>\n",
              "      <td>NaN</td>\n",
              "      <td>NaN</td>\n",
              "      <td>USP0000A0A</td>\n",
              "      <td>US</td>\n",
              "      <td>US</td>\n",
              "      <td>US</td>\n",
              "      <td>Reviewed</td>\n",
              "    </tr>\n",
              "    <tr>\n",
              "      <th>3380</th>\n",
              "      <td>02/23/1975</td>\n",
              "      <td>07:34:11</td>\n",
              "      <td>-10.879</td>\n",
              "      <td>166.667</td>\n",
              "      <td>Earthquake</td>\n",
              "      <td>33.0</td>\n",
              "      <td>NaN</td>\n",
              "      <td>NaN</td>\n",
              "      <td>5.5</td>\n",
              "      <td>MS</td>\n",
              "      <td>...</td>\n",
              "      <td>NaN</td>\n",
              "      <td>NaN</td>\n",
              "      <td>NaN</td>\n",
              "      <td>NaN</td>\n",
              "      <td>NaN</td>\n",
              "      <td>USP0000A0C</td>\n",
              "      <td>US</td>\n",
              "      <td>US</td>\n",
              "      <td>US</td>\n",
              "      <td>Reviewed</td>\n",
              "    </tr>\n",
              "    <tr>\n",
              "      <th>3381</th>\n",
              "      <td>02/25/1975</td>\n",
              "      <td>05:20:05</td>\n",
              "      <td>-7.388</td>\n",
              "      <td>149.798</td>\n",
              "      <td>Earthquake</td>\n",
              "      <td>33.0</td>\n",
              "      <td>NaN</td>\n",
              "      <td>NaN</td>\n",
              "      <td>5.5</td>\n",
              "      <td>MB</td>\n",
              "      <td>...</td>\n",
              "      <td>NaN</td>\n",
              "      <td>NaN</td>\n",
              "      <td>NaN</td>\n",
              "      <td>NaN</td>\n",
              "      <td>NaN</td>\n",
              "      <td>USP0000A12</td>\n",
              "      <td>US</td>\n",
              "      <td>US</td>\n",
              "      <td>US</td>\n",
              "      <td>Reviewed</td>\n",
              "    </tr>\n",
              "    <tr>\n",
              "      <th>3382</th>\n",
              "      <td>02/26/1975</td>\n",
              "      <td>04:48:55</td>\n",
              "      <td>85.047</td>\n",
              "      <td>97.969</td>\n",
              "      <td>Earthquake</td>\n",
              "      <td>33.0</td>\n",
              "      <td>NaN</td>\n",
              "      <td>NaN</td>\n",
              "      <td>5.6</td>\n",
              "      <td>MS</td>\n",
              "      <td>...</td>\n",
              "      <td>NaN</td>\n",
              "      <td>NaN</td>\n",
              "      <td>NaN</td>\n",
              "      <td>NaN</td>\n",
              "      <td>NaN</td>\n",
              "      <td>USP0000A1H</td>\n",
              "      <td>US</td>\n",
              "      <td>US</td>\n",
              "      <td>US</td>\n",
              "      <td>Reviewed</td>\n",
              "    </tr>\n",
              "  </tbody>\n",
              "</table>\n",
              "<p>5 rows × 21 columns</p>\n",
              "</div>\n",
              "      <button class=\"colab-df-convert\" onclick=\"convertToInteractive('df-84b89b3a-2b1a-4168-8a97-e21bcf221b03')\"\n",
              "              title=\"Convert this dataframe to an interactive table.\"\n",
              "              style=\"display:none;\">\n",
              "        \n",
              "  <svg xmlns=\"http://www.w3.org/2000/svg\" height=\"24px\"viewBox=\"0 0 24 24\"\n",
              "       width=\"24px\">\n",
              "    <path d=\"M0 0h24v24H0V0z\" fill=\"none\"/>\n",
              "    <path d=\"M18.56 5.44l.94 2.06.94-2.06 2.06-.94-2.06-.94-.94-2.06-.94 2.06-2.06.94zm-11 1L8.5 8.5l.94-2.06 2.06-.94-2.06-.94L8.5 2.5l-.94 2.06-2.06.94zm10 10l.94 2.06.94-2.06 2.06-.94-2.06-.94-.94-2.06-.94 2.06-2.06.94z\"/><path d=\"M17.41 7.96l-1.37-1.37c-.4-.4-.92-.59-1.43-.59-.52 0-1.04.2-1.43.59L10.3 9.45l-7.72 7.72c-.78.78-.78 2.05 0 2.83L4 21.41c.39.39.9.59 1.41.59.51 0 1.02-.2 1.41-.59l7.78-7.78 2.81-2.81c.8-.78.8-2.07 0-2.86zM5.41 20L4 18.59l7.72-7.72 1.47 1.35L5.41 20z\"/>\n",
              "  </svg>\n",
              "      </button>\n",
              "      \n",
              "  <style>\n",
              "    .colab-df-container {\n",
              "      display:flex;\n",
              "      flex-wrap:wrap;\n",
              "      gap: 12px;\n",
              "    }\n",
              "\n",
              "    .colab-df-convert {\n",
              "      background-color: #E8F0FE;\n",
              "      border: none;\n",
              "      border-radius: 50%;\n",
              "      cursor: pointer;\n",
              "      display: none;\n",
              "      fill: #1967D2;\n",
              "      height: 32px;\n",
              "      padding: 0 0 0 0;\n",
              "      width: 32px;\n",
              "    }\n",
              "\n",
              "    .colab-df-convert:hover {\n",
              "      background-color: #E2EBFA;\n",
              "      box-shadow: 0px 1px 2px rgba(60, 64, 67, 0.3), 0px 1px 3px 1px rgba(60, 64, 67, 0.15);\n",
              "      fill: #174EA6;\n",
              "    }\n",
              "\n",
              "    [theme=dark] .colab-df-convert {\n",
              "      background-color: #3B4455;\n",
              "      fill: #D2E3FC;\n",
              "    }\n",
              "\n",
              "    [theme=dark] .colab-df-convert:hover {\n",
              "      background-color: #434B5C;\n",
              "      box-shadow: 0px 1px 3px 1px rgba(0, 0, 0, 0.15);\n",
              "      filter: drop-shadow(0px 1px 2px rgba(0, 0, 0, 0.3));\n",
              "      fill: #FFFFFF;\n",
              "    }\n",
              "  </style>\n",
              "\n",
              "      <script>\n",
              "        const buttonEl =\n",
              "          document.querySelector('#df-84b89b3a-2b1a-4168-8a97-e21bcf221b03 button.colab-df-convert');\n",
              "        buttonEl.style.display =\n",
              "          google.colab.kernel.accessAllowed ? 'block' : 'none';\n",
              "\n",
              "        async function convertToInteractive(key) {\n",
              "          const element = document.querySelector('#df-84b89b3a-2b1a-4168-8a97-e21bcf221b03');\n",
              "          const dataTable =\n",
              "            await google.colab.kernel.invokeFunction('convertToInteractive',\n",
              "                                                     [key], {});\n",
              "          if (!dataTable) return;\n",
              "\n",
              "          const docLinkHtml = 'Like what you see? Visit the ' +\n",
              "            '<a target=\"_blank\" href=https://colab.research.google.com/notebooks/data_table.ipynb>data table notebook</a>'\n",
              "            + ' to learn more about interactive tables.';\n",
              "          element.innerHTML = '';\n",
              "          dataTable['output_type'] = 'display_data';\n",
              "          await google.colab.output.renderOutput(dataTable, element);\n",
              "          const docLink = document.createElement('div');\n",
              "          docLink.innerHTML = docLinkHtml;\n",
              "          element.appendChild(docLink);\n",
              "        }\n",
              "      </script>\n",
              "    </div>\n",
              "  </div>\n",
              "  "
            ]
          },
          "metadata": {},
          "execution_count": 104
        }
      ]
    },
    {
      "cell_type": "code",
      "source": [
        "date_lengths = earthquakes.Date.str.len()\n",
        "date_lengths.value_counts()"
      ],
      "metadata": {
        "colab": {
          "base_uri": "https://localhost:8080/"
        },
        "id": "DC_y6dvNWXEL",
        "outputId": "31af74f5-41fa-4f9e-959d-d1c46d3040e7"
      },
      "execution_count": 105,
      "outputs": [
        {
          "output_type": "execute_result",
          "data": {
            "text/plain": [
              "10    23409\n",
              "24        3\n",
              "Name: Date, dtype: int64"
            ]
          },
          "metadata": {},
          "execution_count": 105
        }
      ]
    },
    {
      "cell_type": "code",
      "source": [
        "# obtain indices of the corresponding values that differ from the format we want\n",
        "indices = np.where([date_lengths == 24])[1]\n",
        "print('Indices with corrupted data:', indices)\n",
        "earthquakes.loc[indices]"
      ],
      "metadata": {
        "colab": {
          "base_uri": "https://localhost:8080/",
          "height": 321
        },
        "id": "14-KchV0WdHs",
        "outputId": "b92dbb11-6f36-4d23-e2c0-f4c8a4791a3e"
      },
      "execution_count": 106,
      "outputs": [
        {
          "output_type": "stream",
          "name": "stdout",
          "text": [
            "Indices with corrupted data: [ 3378  7512 20650]\n"
          ]
        },
        {
          "output_type": "execute_result",
          "data": {
            "text/plain": [
              "                           Date                      Time  Latitude  \\\n",
              "3378   1975-02-23T02:58:41.000Z  1975-02-23T02:58:41.000Z     8.017   \n",
              "7512   1985-04-28T02:53:41.530Z  1985-04-28T02:53:41.530Z   -32.998   \n",
              "20650  2011-03-13T02:23:34.520Z  2011-03-13T02:23:34.520Z    36.344   \n",
              "\n",
              "       Longitude        Type  Depth  Depth Error  Depth Seismic Stations  \\\n",
              "3378     124.075  Earthquake  623.0          NaN                     NaN   \n",
              "7512     -71.766  Earthquake   33.0          NaN                     NaN   \n",
              "20650    142.344  Earthquake   10.1         13.9                   289.0   \n",
              "\n",
              "       Magnitude Magnitude Type  ...  Magnitude Seismic Stations  \\\n",
              "3378         5.6             MB  ...                         NaN   \n",
              "7512         5.6             MW  ...                         NaN   \n",
              "20650        5.8            MWC  ...                         NaN   \n",
              "\n",
              "       Azimuthal Gap  Horizontal Distance  Horizontal Error  Root Mean Square  \\\n",
              "3378             NaN                  NaN               NaN               NaN   \n",
              "7512             NaN                  NaN               NaN              1.30   \n",
              "20650           32.3                  NaN               NaN              1.06   \n",
              "\n",
              "               ID Source Location Source Magnitude Source    Status  \n",
              "3378   USP0000A09     US              US               US  Reviewed  \n",
              "7512   USP0002E81     US              US              HRV  Reviewed  \n",
              "20650  USP000HWQP     US              US             GCMT  Reviewed  \n",
              "\n",
              "[3 rows x 21 columns]"
            ],
            "text/html": [
              "\n",
              "  <div id=\"df-b657339c-b7df-4781-998b-3677ad7ad8ab\">\n",
              "    <div class=\"colab-df-container\">\n",
              "      <div>\n",
              "<style scoped>\n",
              "    .dataframe tbody tr th:only-of-type {\n",
              "        vertical-align: middle;\n",
              "    }\n",
              "\n",
              "    .dataframe tbody tr th {\n",
              "        vertical-align: top;\n",
              "    }\n",
              "\n",
              "    .dataframe thead th {\n",
              "        text-align: right;\n",
              "    }\n",
              "</style>\n",
              "<table border=\"1\" class=\"dataframe\">\n",
              "  <thead>\n",
              "    <tr style=\"text-align: right;\">\n",
              "      <th></th>\n",
              "      <th>Date</th>\n",
              "      <th>Time</th>\n",
              "      <th>Latitude</th>\n",
              "      <th>Longitude</th>\n",
              "      <th>Type</th>\n",
              "      <th>Depth</th>\n",
              "      <th>Depth Error</th>\n",
              "      <th>Depth Seismic Stations</th>\n",
              "      <th>Magnitude</th>\n",
              "      <th>Magnitude Type</th>\n",
              "      <th>...</th>\n",
              "      <th>Magnitude Seismic Stations</th>\n",
              "      <th>Azimuthal Gap</th>\n",
              "      <th>Horizontal Distance</th>\n",
              "      <th>Horizontal Error</th>\n",
              "      <th>Root Mean Square</th>\n",
              "      <th>ID</th>\n",
              "      <th>Source</th>\n",
              "      <th>Location Source</th>\n",
              "      <th>Magnitude Source</th>\n",
              "      <th>Status</th>\n",
              "    </tr>\n",
              "  </thead>\n",
              "  <tbody>\n",
              "    <tr>\n",
              "      <th>3378</th>\n",
              "      <td>1975-02-23T02:58:41.000Z</td>\n",
              "      <td>1975-02-23T02:58:41.000Z</td>\n",
              "      <td>8.017</td>\n",
              "      <td>124.075</td>\n",
              "      <td>Earthquake</td>\n",
              "      <td>623.0</td>\n",
              "      <td>NaN</td>\n",
              "      <td>NaN</td>\n",
              "      <td>5.6</td>\n",
              "      <td>MB</td>\n",
              "      <td>...</td>\n",
              "      <td>NaN</td>\n",
              "      <td>NaN</td>\n",
              "      <td>NaN</td>\n",
              "      <td>NaN</td>\n",
              "      <td>NaN</td>\n",
              "      <td>USP0000A09</td>\n",
              "      <td>US</td>\n",
              "      <td>US</td>\n",
              "      <td>US</td>\n",
              "      <td>Reviewed</td>\n",
              "    </tr>\n",
              "    <tr>\n",
              "      <th>7512</th>\n",
              "      <td>1985-04-28T02:53:41.530Z</td>\n",
              "      <td>1985-04-28T02:53:41.530Z</td>\n",
              "      <td>-32.998</td>\n",
              "      <td>-71.766</td>\n",
              "      <td>Earthquake</td>\n",
              "      <td>33.0</td>\n",
              "      <td>NaN</td>\n",
              "      <td>NaN</td>\n",
              "      <td>5.6</td>\n",
              "      <td>MW</td>\n",
              "      <td>...</td>\n",
              "      <td>NaN</td>\n",
              "      <td>NaN</td>\n",
              "      <td>NaN</td>\n",
              "      <td>NaN</td>\n",
              "      <td>1.30</td>\n",
              "      <td>USP0002E81</td>\n",
              "      <td>US</td>\n",
              "      <td>US</td>\n",
              "      <td>HRV</td>\n",
              "      <td>Reviewed</td>\n",
              "    </tr>\n",
              "    <tr>\n",
              "      <th>20650</th>\n",
              "      <td>2011-03-13T02:23:34.520Z</td>\n",
              "      <td>2011-03-13T02:23:34.520Z</td>\n",
              "      <td>36.344</td>\n",
              "      <td>142.344</td>\n",
              "      <td>Earthquake</td>\n",
              "      <td>10.1</td>\n",
              "      <td>13.9</td>\n",
              "      <td>289.0</td>\n",
              "      <td>5.8</td>\n",
              "      <td>MWC</td>\n",
              "      <td>...</td>\n",
              "      <td>NaN</td>\n",
              "      <td>32.3</td>\n",
              "      <td>NaN</td>\n",
              "      <td>NaN</td>\n",
              "      <td>1.06</td>\n",
              "      <td>USP000HWQP</td>\n",
              "      <td>US</td>\n",
              "      <td>US</td>\n",
              "      <td>GCMT</td>\n",
              "      <td>Reviewed</td>\n",
              "    </tr>\n",
              "  </tbody>\n",
              "</table>\n",
              "<p>3 rows × 21 columns</p>\n",
              "</div>\n",
              "      <button class=\"colab-df-convert\" onclick=\"convertToInteractive('df-b657339c-b7df-4781-998b-3677ad7ad8ab')\"\n",
              "              title=\"Convert this dataframe to an interactive table.\"\n",
              "              style=\"display:none;\">\n",
              "        \n",
              "  <svg xmlns=\"http://www.w3.org/2000/svg\" height=\"24px\"viewBox=\"0 0 24 24\"\n",
              "       width=\"24px\">\n",
              "    <path d=\"M0 0h24v24H0V0z\" fill=\"none\"/>\n",
              "    <path d=\"M18.56 5.44l.94 2.06.94-2.06 2.06-.94-2.06-.94-.94-2.06-.94 2.06-2.06.94zm-11 1L8.5 8.5l.94-2.06 2.06-.94-2.06-.94L8.5 2.5l-.94 2.06-2.06.94zm10 10l.94 2.06.94-2.06 2.06-.94-2.06-.94-.94-2.06-.94 2.06-2.06.94z\"/><path d=\"M17.41 7.96l-1.37-1.37c-.4-.4-.92-.59-1.43-.59-.52 0-1.04.2-1.43.59L10.3 9.45l-7.72 7.72c-.78.78-.78 2.05 0 2.83L4 21.41c.39.39.9.59 1.41.59.51 0 1.02-.2 1.41-.59l7.78-7.78 2.81-2.81c.8-.78.8-2.07 0-2.86zM5.41 20L4 18.59l7.72-7.72 1.47 1.35L5.41 20z\"/>\n",
              "  </svg>\n",
              "      </button>\n",
              "      \n",
              "  <style>\n",
              "    .colab-df-container {\n",
              "      display:flex;\n",
              "      flex-wrap:wrap;\n",
              "      gap: 12px;\n",
              "    }\n",
              "\n",
              "    .colab-df-convert {\n",
              "      background-color: #E8F0FE;\n",
              "      border: none;\n",
              "      border-radius: 50%;\n",
              "      cursor: pointer;\n",
              "      display: none;\n",
              "      fill: #1967D2;\n",
              "      height: 32px;\n",
              "      padding: 0 0 0 0;\n",
              "      width: 32px;\n",
              "    }\n",
              "\n",
              "    .colab-df-convert:hover {\n",
              "      background-color: #E2EBFA;\n",
              "      box-shadow: 0px 1px 2px rgba(60, 64, 67, 0.3), 0px 1px 3px 1px rgba(60, 64, 67, 0.15);\n",
              "      fill: #174EA6;\n",
              "    }\n",
              "\n",
              "    [theme=dark] .colab-df-convert {\n",
              "      background-color: #3B4455;\n",
              "      fill: #D2E3FC;\n",
              "    }\n",
              "\n",
              "    [theme=dark] .colab-df-convert:hover {\n",
              "      background-color: #434B5C;\n",
              "      box-shadow: 0px 1px 3px 1px rgba(0, 0, 0, 0.15);\n",
              "      filter: drop-shadow(0px 1px 2px rgba(0, 0, 0, 0.3));\n",
              "      fill: #FFFFFF;\n",
              "    }\n",
              "  </style>\n",
              "\n",
              "      <script>\n",
              "        const buttonEl =\n",
              "          document.querySelector('#df-b657339c-b7df-4781-998b-3677ad7ad8ab button.colab-df-convert');\n",
              "        buttonEl.style.display =\n",
              "          google.colab.kernel.accessAllowed ? 'block' : 'none';\n",
              "\n",
              "        async function convertToInteractive(key) {\n",
              "          const element = document.querySelector('#df-b657339c-b7df-4781-998b-3677ad7ad8ab');\n",
              "          const dataTable =\n",
              "            await google.colab.kernel.invokeFunction('convertToInteractive',\n",
              "                                                     [key], {});\n",
              "          if (!dataTable) return;\n",
              "\n",
              "          const docLinkHtml = 'Like what you see? Visit the ' +\n",
              "            '<a target=\"_blank\" href=https://colab.research.google.com/notebooks/data_table.ipynb>data table notebook</a>'\n",
              "            + ' to learn more about interactive tables.';\n",
              "          element.innerHTML = '';\n",
              "          dataTable['output_type'] = 'display_data';\n",
              "          await google.colab.output.renderOutput(dataTable, element);\n",
              "          const docLink = document.createElement('div');\n",
              "          docLink.innerHTML = docLinkHtml;\n",
              "          element.appendChild(docLink);\n",
              "        }\n",
              "      </script>\n",
              "    </div>\n",
              "  </div>\n",
              "  "
            ]
          },
          "metadata": {},
          "execution_count": 106
        }
      ]
    },
    {
      "cell_type": "code",
      "source": [
        "amended_dates = []\n",
        "years = []\n",
        "months = []\n",
        "days = []\n",
        "\n",
        "for row in earthquakes.Date.loc[indices]:\n",
        "  years.append(row[:4])\n",
        "  months.append(row[5:7])\n",
        "  days.append(row[8:10])"
      ],
      "metadata": {
        "id": "ZIHOyj2oW1oM"
      },
      "execution_count": 107,
      "outputs": []
    },
    {
      "cell_type": "code",
      "source": [
        "print(years)\n",
        "print(months)\n",
        "print(days)"
      ],
      "metadata": {
        "colab": {
          "base_uri": "https://localhost:8080/"
        },
        "id": "F3QAulFpaTd1",
        "outputId": "f31ad4db-75de-429f-cc0c-32b16de7a6da"
      },
      "execution_count": 108,
      "outputs": [
        {
          "output_type": "stream",
          "name": "stdout",
          "text": [
            "['1975', '1985', '2011']\n",
            "['02', '04', '03']\n",
            "['23', '28', '13']\n"
          ]
        }
      ]
    },
    {
      "cell_type": "code",
      "source": [
        "for i in range(len(years)):\n",
        "  amended_dates.append(months[i] + '/' + days[i] + '/' + years[i])"
      ],
      "metadata": {
        "id": "ZOm8oCKIbE7D"
      },
      "execution_count": 109,
      "outputs": []
    },
    {
      "cell_type": "code",
      "source": [
        "amended_dates"
      ],
      "metadata": {
        "colab": {
          "base_uri": "https://localhost:8080/"
        },
        "id": "wUho7YoTbgjn",
        "outputId": "ecf4146f-6780-495f-8e38-e2a76a47160b"
      },
      "execution_count": 110,
      "outputs": [
        {
          "output_type": "execute_result",
          "data": {
            "text/plain": [
              "['02/23/1975', '04/28/1985', '03/13/2011']"
            ]
          },
          "metadata": {},
          "execution_count": 110
        }
      ]
    },
    {
      "cell_type": "code",
      "source": [
        "earthquakes.Date.loc[indices] = amended_dates"
      ],
      "metadata": {
        "colab": {
          "base_uri": "https://localhost:8080/"
        },
        "id": "YxdEhOgLaW05",
        "outputId": "bd0166ba-ce44-491e-9d1e-391802f4d9da"
      },
      "execution_count": 111,
      "outputs": [
        {
          "output_type": "stream",
          "name": "stderr",
          "text": [
            "/usr/local/lib/python3.7/dist-packages/pandas/core/indexing.py:1732: SettingWithCopyWarning: \n",
            "A value is trying to be set on a copy of a slice from a DataFrame\n",
            "\n",
            "See the caveats in the documentation: https://pandas.pydata.org/pandas-docs/stable/user_guide/indexing.html#returning-a-view-versus-a-copy\n",
            "  self._setitem_single_block(indexer, value, name)\n"
          ]
        }
      ]
    },
    {
      "cell_type": "code",
      "source": [
        "earthquakes.Date.loc[indices]"
      ],
      "metadata": {
        "colab": {
          "base_uri": "https://localhost:8080/"
        },
        "id": "x4VPWIO8acKk",
        "outputId": "183c2c6b-04ca-4cb3-da59-848165c01e02"
      },
      "execution_count": 112,
      "outputs": [
        {
          "output_type": "execute_result",
          "data": {
            "text/plain": [
              "3378     02/23/1975\n",
              "7512     04/28/1985\n",
              "20650    03/13/2011\n",
              "Name: Date, dtype: object"
            ]
          },
          "metadata": {},
          "execution_count": 112
        }
      ]
    },
    {
      "cell_type": "code",
      "source": [
        "earthquakes.loc[indices]"
      ],
      "metadata": {
        "colab": {
          "base_uri": "https://localhost:8080/",
          "height": 304
        },
        "id": "FOCJwrOqafUc",
        "outputId": "d930a316-501c-49f0-9212-39d5f699ba46"
      },
      "execution_count": 113,
      "outputs": [
        {
          "output_type": "execute_result",
          "data": {
            "text/plain": [
              "             Date                      Time  Latitude  Longitude        Type  \\\n",
              "3378   02/23/1975  1975-02-23T02:58:41.000Z     8.017    124.075  Earthquake   \n",
              "7512   04/28/1985  1985-04-28T02:53:41.530Z   -32.998    -71.766  Earthquake   \n",
              "20650  03/13/2011  2011-03-13T02:23:34.520Z    36.344    142.344  Earthquake   \n",
              "\n",
              "       Depth  Depth Error  Depth Seismic Stations  Magnitude Magnitude Type  \\\n",
              "3378   623.0          NaN                     NaN        5.6             MB   \n",
              "7512    33.0          NaN                     NaN        5.6             MW   \n",
              "20650   10.1         13.9                   289.0        5.8            MWC   \n",
              "\n",
              "       ...  Magnitude Seismic Stations  Azimuthal Gap  Horizontal Distance  \\\n",
              "3378   ...                         NaN            NaN                  NaN   \n",
              "7512   ...                         NaN            NaN                  NaN   \n",
              "20650  ...                         NaN           32.3                  NaN   \n",
              "\n",
              "       Horizontal Error  Root Mean Square          ID Source Location Source  \\\n",
              "3378                NaN               NaN  USP0000A09     US              US   \n",
              "7512                NaN              1.30  USP0002E81     US              US   \n",
              "20650               NaN              1.06  USP000HWQP     US              US   \n",
              "\n",
              "      Magnitude Source    Status  \n",
              "3378                US  Reviewed  \n",
              "7512               HRV  Reviewed  \n",
              "20650             GCMT  Reviewed  \n",
              "\n",
              "[3 rows x 21 columns]"
            ],
            "text/html": [
              "\n",
              "  <div id=\"df-44f19067-35de-4fcd-8d07-dede1b16d4e6\">\n",
              "    <div class=\"colab-df-container\">\n",
              "      <div>\n",
              "<style scoped>\n",
              "    .dataframe tbody tr th:only-of-type {\n",
              "        vertical-align: middle;\n",
              "    }\n",
              "\n",
              "    .dataframe tbody tr th {\n",
              "        vertical-align: top;\n",
              "    }\n",
              "\n",
              "    .dataframe thead th {\n",
              "        text-align: right;\n",
              "    }\n",
              "</style>\n",
              "<table border=\"1\" class=\"dataframe\">\n",
              "  <thead>\n",
              "    <tr style=\"text-align: right;\">\n",
              "      <th></th>\n",
              "      <th>Date</th>\n",
              "      <th>Time</th>\n",
              "      <th>Latitude</th>\n",
              "      <th>Longitude</th>\n",
              "      <th>Type</th>\n",
              "      <th>Depth</th>\n",
              "      <th>Depth Error</th>\n",
              "      <th>Depth Seismic Stations</th>\n",
              "      <th>Magnitude</th>\n",
              "      <th>Magnitude Type</th>\n",
              "      <th>...</th>\n",
              "      <th>Magnitude Seismic Stations</th>\n",
              "      <th>Azimuthal Gap</th>\n",
              "      <th>Horizontal Distance</th>\n",
              "      <th>Horizontal Error</th>\n",
              "      <th>Root Mean Square</th>\n",
              "      <th>ID</th>\n",
              "      <th>Source</th>\n",
              "      <th>Location Source</th>\n",
              "      <th>Magnitude Source</th>\n",
              "      <th>Status</th>\n",
              "    </tr>\n",
              "  </thead>\n",
              "  <tbody>\n",
              "    <tr>\n",
              "      <th>3378</th>\n",
              "      <td>02/23/1975</td>\n",
              "      <td>1975-02-23T02:58:41.000Z</td>\n",
              "      <td>8.017</td>\n",
              "      <td>124.075</td>\n",
              "      <td>Earthquake</td>\n",
              "      <td>623.0</td>\n",
              "      <td>NaN</td>\n",
              "      <td>NaN</td>\n",
              "      <td>5.6</td>\n",
              "      <td>MB</td>\n",
              "      <td>...</td>\n",
              "      <td>NaN</td>\n",
              "      <td>NaN</td>\n",
              "      <td>NaN</td>\n",
              "      <td>NaN</td>\n",
              "      <td>NaN</td>\n",
              "      <td>USP0000A09</td>\n",
              "      <td>US</td>\n",
              "      <td>US</td>\n",
              "      <td>US</td>\n",
              "      <td>Reviewed</td>\n",
              "    </tr>\n",
              "    <tr>\n",
              "      <th>7512</th>\n",
              "      <td>04/28/1985</td>\n",
              "      <td>1985-04-28T02:53:41.530Z</td>\n",
              "      <td>-32.998</td>\n",
              "      <td>-71.766</td>\n",
              "      <td>Earthquake</td>\n",
              "      <td>33.0</td>\n",
              "      <td>NaN</td>\n",
              "      <td>NaN</td>\n",
              "      <td>5.6</td>\n",
              "      <td>MW</td>\n",
              "      <td>...</td>\n",
              "      <td>NaN</td>\n",
              "      <td>NaN</td>\n",
              "      <td>NaN</td>\n",
              "      <td>NaN</td>\n",
              "      <td>1.30</td>\n",
              "      <td>USP0002E81</td>\n",
              "      <td>US</td>\n",
              "      <td>US</td>\n",
              "      <td>HRV</td>\n",
              "      <td>Reviewed</td>\n",
              "    </tr>\n",
              "    <tr>\n",
              "      <th>20650</th>\n",
              "      <td>03/13/2011</td>\n",
              "      <td>2011-03-13T02:23:34.520Z</td>\n",
              "      <td>36.344</td>\n",
              "      <td>142.344</td>\n",
              "      <td>Earthquake</td>\n",
              "      <td>10.1</td>\n",
              "      <td>13.9</td>\n",
              "      <td>289.0</td>\n",
              "      <td>5.8</td>\n",
              "      <td>MWC</td>\n",
              "      <td>...</td>\n",
              "      <td>NaN</td>\n",
              "      <td>32.3</td>\n",
              "      <td>NaN</td>\n",
              "      <td>NaN</td>\n",
              "      <td>1.06</td>\n",
              "      <td>USP000HWQP</td>\n",
              "      <td>US</td>\n",
              "      <td>US</td>\n",
              "      <td>GCMT</td>\n",
              "      <td>Reviewed</td>\n",
              "    </tr>\n",
              "  </tbody>\n",
              "</table>\n",
              "<p>3 rows × 21 columns</p>\n",
              "</div>\n",
              "      <button class=\"colab-df-convert\" onclick=\"convertToInteractive('df-44f19067-35de-4fcd-8d07-dede1b16d4e6')\"\n",
              "              title=\"Convert this dataframe to an interactive table.\"\n",
              "              style=\"display:none;\">\n",
              "        \n",
              "  <svg xmlns=\"http://www.w3.org/2000/svg\" height=\"24px\"viewBox=\"0 0 24 24\"\n",
              "       width=\"24px\">\n",
              "    <path d=\"M0 0h24v24H0V0z\" fill=\"none\"/>\n",
              "    <path d=\"M18.56 5.44l.94 2.06.94-2.06 2.06-.94-2.06-.94-.94-2.06-.94 2.06-2.06.94zm-11 1L8.5 8.5l.94-2.06 2.06-.94-2.06-.94L8.5 2.5l-.94 2.06-2.06.94zm10 10l.94 2.06.94-2.06 2.06-.94-2.06-.94-.94-2.06-.94 2.06-2.06.94z\"/><path d=\"M17.41 7.96l-1.37-1.37c-.4-.4-.92-.59-1.43-.59-.52 0-1.04.2-1.43.59L10.3 9.45l-7.72 7.72c-.78.78-.78 2.05 0 2.83L4 21.41c.39.39.9.59 1.41.59.51 0 1.02-.2 1.41-.59l7.78-7.78 2.81-2.81c.8-.78.8-2.07 0-2.86zM5.41 20L4 18.59l7.72-7.72 1.47 1.35L5.41 20z\"/>\n",
              "  </svg>\n",
              "      </button>\n",
              "      \n",
              "  <style>\n",
              "    .colab-df-container {\n",
              "      display:flex;\n",
              "      flex-wrap:wrap;\n",
              "      gap: 12px;\n",
              "    }\n",
              "\n",
              "    .colab-df-convert {\n",
              "      background-color: #E8F0FE;\n",
              "      border: none;\n",
              "      border-radius: 50%;\n",
              "      cursor: pointer;\n",
              "      display: none;\n",
              "      fill: #1967D2;\n",
              "      height: 32px;\n",
              "      padding: 0 0 0 0;\n",
              "      width: 32px;\n",
              "    }\n",
              "\n",
              "    .colab-df-convert:hover {\n",
              "      background-color: #E2EBFA;\n",
              "      box-shadow: 0px 1px 2px rgba(60, 64, 67, 0.3), 0px 1px 3px 1px rgba(60, 64, 67, 0.15);\n",
              "      fill: #174EA6;\n",
              "    }\n",
              "\n",
              "    [theme=dark] .colab-df-convert {\n",
              "      background-color: #3B4455;\n",
              "      fill: #D2E3FC;\n",
              "    }\n",
              "\n",
              "    [theme=dark] .colab-df-convert:hover {\n",
              "      background-color: #434B5C;\n",
              "      box-shadow: 0px 1px 3px 1px rgba(0, 0, 0, 0.15);\n",
              "      filter: drop-shadow(0px 1px 2px rgba(0, 0, 0, 0.3));\n",
              "      fill: #FFFFFF;\n",
              "    }\n",
              "  </style>\n",
              "\n",
              "      <script>\n",
              "        const buttonEl =\n",
              "          document.querySelector('#df-44f19067-35de-4fcd-8d07-dede1b16d4e6 button.colab-df-convert');\n",
              "        buttonEl.style.display =\n",
              "          google.colab.kernel.accessAllowed ? 'block' : 'none';\n",
              "\n",
              "        async function convertToInteractive(key) {\n",
              "          const element = document.querySelector('#df-44f19067-35de-4fcd-8d07-dede1b16d4e6');\n",
              "          const dataTable =\n",
              "            await google.colab.kernel.invokeFunction('convertToInteractive',\n",
              "                                                     [key], {});\n",
              "          if (!dataTable) return;\n",
              "\n",
              "          const docLinkHtml = 'Like what you see? Visit the ' +\n",
              "            '<a target=\"_blank\" href=https://colab.research.google.com/notebooks/data_table.ipynb>data table notebook</a>'\n",
              "            + ' to learn more about interactive tables.';\n",
              "          element.innerHTML = '';\n",
              "          dataTable['output_type'] = 'display_data';\n",
              "          await google.colab.output.renderOutput(dataTable, element);\n",
              "          const docLink = document.createElement('div');\n",
              "          docLink.innerHTML = docLinkHtml;\n",
              "          element.appendChild(docLink);\n",
              "        }\n",
              "      </script>\n",
              "    </div>\n",
              "  </div>\n",
              "  "
            ]
          },
          "metadata": {},
          "execution_count": 113
        }
      ]
    },
    {
      "cell_type": "code",
      "source": [
        "date_lengths = earthquakes.Date.str.len()\n",
        "date_lengths.value_counts()"
      ],
      "metadata": {
        "colab": {
          "base_uri": "https://localhost:8080/"
        },
        "id": "UK-uMBrhcEmn",
        "outputId": "2aed6bca-17c7-4f08-b804-cc91655c5f06"
      },
      "execution_count": 114,
      "outputs": [
        {
          "output_type": "execute_result",
          "data": {
            "text/plain": [
              "10    23412\n",
              "Name: Date, dtype: int64"
            ]
          },
          "metadata": {},
          "execution_count": 114
        }
      ]
    },
    {
      "cell_type": "code",
      "source": [
        "earthquakes['date_parsed'] = pd.to_datetime(earthquakes['Date'], infer_datetime_format=True)"
      ],
      "metadata": {
        "id": "jdGx-HixajbW"
      },
      "execution_count": 116,
      "outputs": []
    },
    {
      "cell_type": "code",
      "source": [
        "earthquakes['date_parsed'].head(10)"
      ],
      "metadata": {
        "colab": {
          "base_uri": "https://localhost:8080/"
        },
        "id": "opfaortHb69i",
        "outputId": "dc834401-8477-4e39-dfb7-5fd676b760c1"
      },
      "execution_count": 117,
      "outputs": [
        {
          "output_type": "execute_result",
          "data": {
            "text/plain": [
              "0   1965-01-02\n",
              "1   1965-01-04\n",
              "2   1965-01-05\n",
              "3   1965-01-08\n",
              "4   1965-01-09\n",
              "5   1965-01-10\n",
              "6   1965-01-12\n",
              "7   1965-01-15\n",
              "8   1965-01-16\n",
              "9   1965-01-17\n",
              "Name: date_parsed, dtype: datetime64[ns]"
            ]
          },
          "metadata": {},
          "execution_count": 117
        }
      ]
    },
    {
      "cell_type": "code",
      "source": [
        "earthquakes.date_parsed.loc[indices]"
      ],
      "metadata": {
        "colab": {
          "base_uri": "https://localhost:8080/"
        },
        "id": "p94irZGscoFb",
        "outputId": "4fec042e-18de-402f-d724-4841a4db0975"
      },
      "execution_count": 120,
      "outputs": [
        {
          "output_type": "execute_result",
          "data": {
            "text/plain": [
              "3378    1975-02-23\n",
              "7512    1985-04-28\n",
              "20650   2011-03-13\n",
              "Name: date_parsed, dtype: datetime64[ns]"
            ]
          },
          "metadata": {},
          "execution_count": 120
        }
      ]
    },
    {
      "cell_type": "markdown",
      "source": [
        "Create a Pandas Series day_of_month_earthquakes containing the day of the month from the \"date_parsed\" column."
      ],
      "metadata": {
        "id": "QNbys89Ie0rk"
      }
    },
    {
      "cell_type": "code",
      "source": [
        "day_of_month_earthquakes = earthquakes[\"date_parsed\"].dt.day"
      ],
      "metadata": {
        "id": "FJesbIZieS1V"
      },
      "execution_count": 122,
      "outputs": []
    },
    {
      "cell_type": "code",
      "source": [
        "day_of_month_earthquakes"
      ],
      "metadata": {
        "colab": {
          "base_uri": "https://localhost:8080/"
        },
        "id": "gFmTgeNde8Ik",
        "outputId": "12337d37-88d9-4528-b2e0-2630d4598b87"
      },
      "execution_count": 123,
      "outputs": [
        {
          "output_type": "execute_result",
          "data": {
            "text/plain": [
              "0         2\n",
              "1         4\n",
              "2         5\n",
              "3         8\n",
              "4         9\n",
              "         ..\n",
              "23407    28\n",
              "23408    28\n",
              "23409    28\n",
              "23410    29\n",
              "23411    30\n",
              "Name: date_parsed, Length: 23412, dtype: int64"
            ]
          },
          "metadata": {},
          "execution_count": 123
        }
      ]
    },
    {
      "cell_type": "markdown",
      "source": [
        "Plot the days of the month from your earthquake dataset."
      ],
      "metadata": {
        "id": "vP6wOUPVfEi1"
      }
    },
    {
      "cell_type": "code",
      "source": [
        "#Remove nans\n",
        "day_of_month_earthquakes = day_of_month_earthquakes.dropna()\n",
        "\n",
        "#plot\n",
        "sns.distplot(day_of_month_earthquakes, kde=False, bins=31)"
      ],
      "metadata": {
        "colab": {
          "base_uri": "https://localhost:8080/",
          "height": 352
        },
        "id": "4JCZj8Ame-KT",
        "outputId": "929e7ee6-255f-4b6f-e206-30e58597aa50"
      },
      "execution_count": 124,
      "outputs": [
        {
          "output_type": "stream",
          "name": "stderr",
          "text": [
            "/usr/local/lib/python3.7/dist-packages/seaborn/distributions.py:2619: FutureWarning: `distplot` is a deprecated function and will be removed in a future version. Please adapt your code to use either `displot` (a figure-level function with similar flexibility) or `histplot` (an axes-level function for histograms).\n",
            "  warnings.warn(msg, FutureWarning)\n"
          ]
        },
        {
          "output_type": "execute_result",
          "data": {
            "text/plain": [
              "<matplotlib.axes._subplots.AxesSubplot at 0x7f09b964c0d0>"
            ]
          },
          "metadata": {},
          "execution_count": 124
        },
        {
          "output_type": "display_data",
          "data": {
            "text/plain": [
              "<Figure size 432x288 with 1 Axes>"
            ],
            "image/png": "[encoded data removed]"
          },
          "metadata": {
            "needs_background": "light"
          }
        }
      ]
    },
    {
      "cell_type": "markdown",
      "source": [
        "#Character Encodings"
      ],
      "metadata": {
        "id": "rGsXpmHtfyE3"
      }
    },
    {
      "cell_type": "code",
      "source": [
        "#Initial Setup\n",
        "import pandas as pd\n",
        "import numpy as np\n",
        "\n",
        "# Character encoding module\n",
        "import chardet\n",
        "\n",
        "# set seed for reproducibility\n",
        "np.random.seed(0)"
      ],
      "metadata": {
        "id": "8iXaZZknfWWj"
      },
      "execution_count": 125,
      "outputs": []
    },
    {
      "cell_type": "markdown",
      "source": [
        "Character encodings are rules for mapping raw binary byte strings to characters. UTF-8 is the main standard text encoding. Ideally all data should be in this encoding. "
      ],
      "metadata": {
        "id": "TVImDpSciS-A"
      }
    },
    {
      "cell_type": "code",
      "source": [
        "# start with a string\n",
        "before = \"This is the euro symbol: €\"\n",
        "\n",
        "# Check datatype\n",
        "type(before)"
      ],
      "metadata": {
        "colab": {
          "base_uri": "https://localhost:8080/"
        },
        "id": "5nsnT4JPiRBv",
        "outputId": "232a5562-6bde-4665-d903-fbf3c00edfd1"
      },
      "execution_count": 126,
      "outputs": [
        {
          "output_type": "execute_result",
          "data": {
            "text/plain": [
              "str"
            ]
          },
          "metadata": {},
          "execution_count": 126
        }
      ]
    },
    {
      "cell_type": "code",
      "source": [
        "# encode it to different encoding, replacing characters that raise errors\n",
        "after = before.encode(\"utf-8\", errors=\"replace\")\n",
        "\n",
        "#check type\n",
        "type(after)"
      ],
      "metadata": {
        "colab": {
          "base_uri": "https://localhost:8080/"
        },
        "id": "BHrMQtWri0zx",
        "outputId": "3db46dac-6386-41b4-b3b4-e81f8a668826"
      },
      "execution_count": 127,
      "outputs": [
        {
          "output_type": "execute_result",
          "data": {
            "text/plain": [
              "bytes"
            ]
          },
          "metadata": {},
          "execution_count": 127
        }
      ]
    },
    {
      "cell_type": "code",
      "source": [
        "after"
      ],
      "metadata": {
        "colab": {
          "base_uri": "https://localhost:8080/"
        },
        "id": "U25lUbd1i-YR",
        "outputId": "c13f2ed6-ee83-4ff3-9b1c-03ba8adc7c78"
      },
      "execution_count": 128,
      "outputs": [
        {
          "output_type": "execute_result",
          "data": {
            "text/plain": [
              "b'This is the euro symbol: \\xe2\\x82\\xac'"
            ]
          },
          "metadata": {},
          "execution_count": 128
        }
      ]
    },
    {
      "cell_type": "code",
      "source": [
        "#convert back to utf-8\n",
        "print(after.decode(\"utf-8\"))"
      ],
      "metadata": {
        "colab": {
          "base_uri": "https://localhost:8080/"
        },
        "id": "H0RhmyGyjBzB",
        "outputId": "2fee3cf9-2058-41ef-8884-4061adebb8f8"
      },
      "execution_count": 129,
      "outputs": [
        {
          "output_type": "stream",
          "name": "stdout",
          "text": [
            "This is the euro symbol: €\n"
          ]
        }
      ]
    },
    {
      "cell_type": "code",
      "source": [
        "#try encoding bytes in ascii\n",
        "print(after.decode(\"ascii\"))"
      ],
      "metadata": {
        "colab": {
          "base_uri": "https://localhost:8080/",
          "height": 182
        },
        "id": "D6bAAyi6jNbJ",
        "outputId": "1888bd14-094f-44e8-dc28-7d36a84b60d4"
      },
      "execution_count": 130,
      "outputs": [
        {
          "output_type": "error",
          "ename": "UnicodeDecodeError",
          "evalue": "ignored",
          "traceback": [
            "\u001b[0;31m---------------------------------------------------------------------------\u001b[0m",
            "\u001b[0;31mUnicodeDecodeError\u001b[0m                        Traceback (most recent call last)",
            "\u001b[0;32m<ipython-input-130-8248cb2bade0>\u001b[0m in \u001b[0;36m<module>\u001b[0;34m()\u001b[0m\n\u001b[1;32m      1\u001b[0m \u001b[0;31m#try encoding bytes in ascii\u001b[0m\u001b[0;34m\u001b[0m\u001b[0;34m\u001b[0m\u001b[0;34m\u001b[0m\u001b[0m\n\u001b[0;32m----> 2\u001b[0;31m \u001b[0mprint\u001b[0m\u001b[0;34m(\u001b[0m\u001b[0mafter\u001b[0m\u001b[0;34m.\u001b[0m\u001b[0mdecode\u001b[0m\u001b[0;34m(\u001b[0m\u001b[0;34m\"ascii\"\u001b[0m\u001b[0;34m)\u001b[0m\u001b[0;34m)\u001b[0m\u001b[0;34m\u001b[0m\u001b[0;34m\u001b[0m\u001b[0m\n\u001b[0m",
            "\u001b[0;31mUnicodeDecodeError\u001b[0m: 'ascii' codec can't decode byte 0xe2 in position 25: ordinal not in range(128)"
          ]
        }
      ]
    },
    {
      "cell_type": "code",
      "source": [
        "# start with a string\n",
        "before = \"This is the euro symbol: €\"\n",
        "\n",
        "# encode it to a different encoding, replacing characters that raise errors\n",
        "after = before.encode(\"ascii\", errors = \"replace\")\n",
        "\n",
        "# convert it back to utf-8\n",
        "print(after.decode(\"ascii\"))\n",
        "\n",
        "# We've lost the original underlying byte string! It's been \n",
        "# replaced with the underlying byte string for the unknown character :("
      ],
      "metadata": {
        "colab": {
          "base_uri": "https://localhost:8080/"
        },
        "id": "yf4TE23ujZMJ",
        "outputId": "9504db13-c4af-4028-adb4-12f6018a8336"
      },
      "execution_count": 131,
      "outputs": [
        {
          "output_type": "stream",
          "name": "stdout",
          "text": [
            "This is the euro symbol: ?\n"
          ]
        }
      ]
    },
    {
      "cell_type": "markdown",
      "source": [
        "#Inconsistent Data Entry"
      ],
      "metadata": {
        "id": "NaWbqd5ulbSG"
      }
    },
    {
      "cell_type": "code",
      "source": [
        "from google.colab import files\n",
        "file = files.upload()"
      ],
      "metadata": {
        "colab": {
          "resources": {
            "http://localhost:8080/nbextensions/google.colab/files.js": {
              "data": "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",
              "ok": true,
              "headers": [
                [
                  "content-type",
                  "application/javascript"
                ]
              ],
              "status": 200,
              "status_text": ""
            }
          },
          "base_uri": "https://localhost:8080/",
          "height": 72
        },
        "id": "3SWTF1FIl7sc",
        "outputId": "5c33234a-eaf0-40f6-c051-a29b2d2ecec7"
      },
      "execution_count": 133,
      "outputs": [
        {
          "output_type": "display_data",
          "data": {
            "text/plain": [
              "<IPython.core.display.HTML object>"
            ],
            "text/html": [
              "\n",
              "     <input type=\"file\" id=\"files-6a85362d-8d8c-485d-ab96-0c51496c9015\" name=\"files[]\" multiple disabled\n",
              "        style=\"border:none\" />\n",
              "     <output id=\"result-6a85362d-8d8c-485d-ab96-0c51496c9015\">\n",
              "      Upload widget is only available when the cell has been executed in the\n",
              "      current browser session. Please rerun this cell to enable.\n",
              "      </output>\n",
              "      <script src=\"/nbextensions/google.colab/files.js\"></script> "
            ]
          },
          "metadata": {}
        },
        {
          "output_type": "stream",
          "name": "stdout",
          "text": [
            "Saving pakistan_intellectual_capital.csv to pakistan_intellectual_capital.csv\n"
          ]
        }
      ]
    },
    {
      "cell_type": "code",
      "source": [
        "!pip install fuzzywuzzy\n",
        "#Initial Setup\n",
        "import pandas as pd\n",
        "import numpy as np\n",
        "\n",
        "import fuzzywuzzy\n",
        "from fuzzywuzzy import process\n",
        "import chardet\n",
        "\n",
        "#read in data\n",
        "professors = pd.read_csv(\"pakistan_intellectual_capital.csv\")\n",
        "\n",
        "np.random.seed(0)"
      ],
      "metadata": {
        "colab": {
          "base_uri": "https://localhost:8080/"
        },
        "id": "G0l6eX2BjhaR",
        "outputId": "82696bd2-982e-49ed-b406-f455b0cb578d"
      },
      "execution_count": 135,
      "outputs": [
        {
          "output_type": "stream",
          "name": "stdout",
          "text": [
            "Looking in indexes: https://pypi.org/simple, https://us-python.pkg.dev/colab-wheels/public/simple/\n",
            "Collecting fuzzywuzzy\n",
            "  Downloading fuzzywuzzy-0.18.0-py2.py3-none-any.whl (18 kB)\n",
            "Installing collected packages: fuzzywuzzy\n",
            "Successfully installed fuzzywuzzy-0.18.0\n"
          ]
        },
        {
          "output_type": "stream",
          "name": "stderr",
          "text": [
            "/usr/local/lib/python3.7/dist-packages/fuzzywuzzy/fuzz.py:11: UserWarning: Using slow pure-python SequenceMatcher. Install python-Levenshtein to remove this warning\n",
            "  warnings.warn('Using slow pure-python SequenceMatcher. Install python-Levenshtein to remove this warning')\n"
          ]
        }
      ]
    },
    {
      "cell_type": "code",
      "source": [
        "professors.head()"
      ],
      "metadata": {
        "colab": {
          "base_uri": "https://localhost:8080/",
          "height": 355
        },
        "id": "2W1OGhKImH7p",
        "outputId": "0045af66-94f3-4667-dadf-61ad8fdc50b0"
      },
      "execution_count": 136,
      "outputs": [
        {
          "output_type": "execute_result",
          "data": {
            "text/plain": [
              "   Unnamed: 0  S#         Teacher Name  \\\n",
              "0           2   3      Dr. Abdul Basit   \n",
              "1           4   5      Dr. Waheed Noor   \n",
              "2           5   6     Dr. Junaid Baber   \n",
              "3           6   7  Dr. Maheen Bakhtyar   \n",
              "4          24  25          Samina Azim   \n",
              "\n",
              "            University Currently Teaching             Department  \\\n",
              "0               University of Balochistan  Computer Science & IT   \n",
              "1               University of Balochistan  Computer Science & IT   \n",
              "2               University of Balochistan  Computer Science & IT   \n",
              "3               University of Balochistan  Computer Science & IT   \n",
              "4  Sardar Bahadur Khan Women's University       Computer Science   \n",
              "\n",
              "  Province University Located          Designation Terminal Degree  \\\n",
              "0                 Balochistan  Assistant Professor             PhD   \n",
              "1                 Balochistan  Assistant Professor             PhD   \n",
              "2                 Balochistan  Assistant Professor             PhD   \n",
              "3                 Balochistan  Assistant Professor             PhD   \n",
              "4                 Balochistan             Lecturer              BS   \n",
              "\n",
              "                                      Graduated from   Country    Year  \\\n",
              "0                      Asian Institute of Technology  Thailand     NaN   \n",
              "1                      Asian Institute of Technology  Thailand     NaN   \n",
              "2                      Asian Institute of Technology  Thailand     NaN   \n",
              "3                      Asian Institute of Technology  Thailand     NaN   \n",
              "4  Balochistan University of Information Technolo...  Pakistan  2005.0   \n",
              "\n",
              "           Area of Specialization/Research Interests Other Information  \n",
              "0                        Software Engineering & DBMS               NaN  \n",
              "1                                               DBMS               NaN  \n",
              "2          Information processing, Multimedia mining               NaN  \n",
              "3  NLP, Information Retrieval, Question Answering...               NaN  \n",
              "4                      VLSI Electronics DLD Database               NaN  "
            ],
            "text/html": [
              "\n",
              "  <div id=\"df-4dc0c074-0f6a-4d49-affb-ac28b7d69a4a\">\n",
              "    <div class=\"colab-df-container\">\n",
              "      <div>\n",
              "<style scoped>\n",
              "    .dataframe tbody tr th:only-of-type {\n",
              "        vertical-align: middle;\n",
              "    }\n",
              "\n",
              "    .dataframe tbody tr th {\n",
              "        vertical-align: top;\n",
              "    }\n",
              "\n",
              "    .dataframe thead th {\n",
              "        text-align: right;\n",
              "    }\n",
              "</style>\n",
              "<table border=\"1\" class=\"dataframe\">\n",
              "  <thead>\n",
              "    <tr style=\"text-align: right;\">\n",
              "      <th></th>\n",
              "      <th>Unnamed: 0</th>\n",
              "      <th>S#</th>\n",
              "      <th>Teacher Name</th>\n",
              "      <th>University Currently Teaching</th>\n",
              "      <th>Department</th>\n",
              "      <th>Province University Located</th>\n",
              "      <th>Designation</th>\n",
              "      <th>Terminal Degree</th>\n",
              "      <th>Graduated from</th>\n",
              "      <th>Country</th>\n",
              "      <th>Year</th>\n",
              "      <th>Area of Specialization/Research Interests</th>\n",
              "      <th>Other Information</th>\n",
              "    </tr>\n",
              "  </thead>\n",
              "  <tbody>\n",
              "    <tr>\n",
              "      <th>0</th>\n",
              "      <td>2</td>\n",
              "      <td>3</td>\n",
              "      <td>Dr. Abdul Basit</td>\n",
              "      <td>University of Balochistan</td>\n",
              "      <td>Computer Science &amp; IT</td>\n",
              "      <td>Balochistan</td>\n",
              "      <td>Assistant Professor</td>\n",
              "      <td>PhD</td>\n",
              "      <td>Asian Institute of Technology</td>\n",
              "      <td>Thailand</td>\n",
              "      <td>NaN</td>\n",
              "      <td>Software Engineering &amp; DBMS</td>\n",
              "      <td>NaN</td>\n",
              "    </tr>\n",
              "    <tr>\n",
              "      <th>1</th>\n",
              "      <td>4</td>\n",
              "      <td>5</td>\n",
              "      <td>Dr. Waheed Noor</td>\n",
              "      <td>University of Balochistan</td>\n",
              "      <td>Computer Science &amp; IT</td>\n",
              "      <td>Balochistan</td>\n",
              "      <td>Assistant Professor</td>\n",
              "      <td>PhD</td>\n",
              "      <td>Asian Institute of Technology</td>\n",
              "      <td>Thailand</td>\n",
              "      <td>NaN</td>\n",
              "      <td>DBMS</td>\n",
              "      <td>NaN</td>\n",
              "    </tr>\n",
              "    <tr>\n",
              "      <th>2</th>\n",
              "      <td>5</td>\n",
              "      <td>6</td>\n",
              "      <td>Dr. Junaid Baber</td>\n",
              "      <td>University of Balochistan</td>\n",
              "      <td>Computer Science &amp; IT</td>\n",
              "      <td>Balochistan</td>\n",
              "      <td>Assistant Professor</td>\n",
              "      <td>PhD</td>\n",
              "      <td>Asian Institute of Technology</td>\n",
              "      <td>Thailand</td>\n",
              "      <td>NaN</td>\n",
              "      <td>Information processing, Multimedia mining</td>\n",
              "      <td>NaN</td>\n",
              "    </tr>\n",
              "    <tr>\n",
              "      <th>3</th>\n",
              "      <td>6</td>\n",
              "      <td>7</td>\n",
              "      <td>Dr. Maheen Bakhtyar</td>\n",
              "      <td>University of Balochistan</td>\n",
              "      <td>Computer Science &amp; IT</td>\n",
              "      <td>Balochistan</td>\n",
              "      <td>Assistant Professor</td>\n",
              "      <td>PhD</td>\n",
              "      <td>Asian Institute of Technology</td>\n",
              "      <td>Thailand</td>\n",
              "      <td>NaN</td>\n",
              "      <td>NLP, Information Retrieval, Question Answering...</td>\n",
              "      <td>NaN</td>\n",
              "    </tr>\n",
              "    <tr>\n",
              "      <th>4</th>\n",
              "      <td>24</td>\n",
              "      <td>25</td>\n",
              "      <td>Samina Azim</td>\n",
              "      <td>Sardar Bahadur Khan Women's University</td>\n",
              "      <td>Computer Science</td>\n",
              "      <td>Balochistan</td>\n",
              "      <td>Lecturer</td>\n",
              "      <td>BS</td>\n",
              "      <td>Balochistan University of Information Technolo...</td>\n",
              "      <td>Pakistan</td>\n",
              "      <td>2005.0</td>\n",
              "      <td>VLSI Electronics DLD Database</td>\n",
              "      <td>NaN</td>\n",
              "    </tr>\n",
              "  </tbody>\n",
              "</table>\n",
              "</div>\n",
              "      <button class=\"colab-df-convert\" onclick=\"convertToInteractive('df-4dc0c074-0f6a-4d49-affb-ac28b7d69a4a')\"\n",
              "              title=\"Convert this dataframe to an interactive table.\"\n",
              "              style=\"display:none;\">\n",
              "        \n",
              "  <svg xmlns=\"http://www.w3.org/2000/svg\" height=\"24px\"viewBox=\"0 0 24 24\"\n",
              "       width=\"24px\">\n",
              "    <path d=\"M0 0h24v24H0V0z\" fill=\"none\"/>\n",
              "    <path d=\"M18.56 5.44l.94 2.06.94-2.06 2.06-.94-2.06-.94-.94-2.06-.94 2.06-2.06.94zm-11 1L8.5 8.5l.94-2.06 2.06-.94-2.06-.94L8.5 2.5l-.94 2.06-2.06.94zm10 10l.94 2.06.94-2.06 2.06-.94-2.06-.94-.94-2.06-.94 2.06-2.06.94z\"/><path d=\"M17.41 7.96l-1.37-1.37c-.4-.4-.92-.59-1.43-.59-.52 0-1.04.2-1.43.59L10.3 9.45l-7.72 7.72c-.78.78-.78 2.05 0 2.83L4 21.41c.39.39.9.59 1.41.59.51 0 1.02-.2 1.41-.59l7.78-7.78 2.81-2.81c.8-.78.8-2.07 0-2.86zM5.41 20L4 18.59l7.72-7.72 1.47 1.35L5.41 20z\"/>\n",
              "  </svg>\n",
              "      </button>\n",
              "      \n",
              "  <style>\n",
              "    .colab-df-container {\n",
              "      display:flex;\n",
              "      flex-wrap:wrap;\n",
              "      gap: 12px;\n",
              "    }\n",
              "\n",
              "    .colab-df-convert {\n",
              "      background-color: #E8F0FE;\n",
              "      border: none;\n",
              "      border-radius: 50%;\n",
              "      cursor: pointer;\n",
              "      display: none;\n",
              "      fill: #1967D2;\n",
              "      height: 32px;\n",
              "      padding: 0 0 0 0;\n",
              "      width: 32px;\n",
              "    }\n",
              "\n",
              "    .colab-df-convert:hover {\n",
              "      background-color: #E2EBFA;\n",
              "      box-shadow: 0px 1px 2px rgba(60, 64, 67, 0.3), 0px 1px 3px 1px rgba(60, 64, 67, 0.15);\n",
              "      fill: #174EA6;\n",
              "    }\n",
              "\n",
              "    [theme=dark] .colab-df-convert {\n",
              "      background-color: #3B4455;\n",
              "      fill: #D2E3FC;\n",
              "    }\n",
              "\n",
              "    [theme=dark] .colab-df-convert:hover {\n",
              "      background-color: #434B5C;\n",
              "      box-shadow: 0px 1px 3px 1px rgba(0, 0, 0, 0.15);\n",
              "      filter: drop-shadow(0px 1px 2px rgba(0, 0, 0, 0.3));\n",
              "      fill: #FFFFFF;\n",
              "    }\n",
              "  </style>\n",
              "\n",
              "      <script>\n",
              "        const buttonEl =\n",
              "          document.querySelector('#df-4dc0c074-0f6a-4d49-affb-ac28b7d69a4a button.colab-df-convert');\n",
              "        buttonEl.style.display =\n",
              "          google.colab.kernel.accessAllowed ? 'block' : 'none';\n",
              "\n",
              "        async function convertToInteractive(key) {\n",
              "          const element = document.querySelector('#df-4dc0c074-0f6a-4d49-affb-ac28b7d69a4a');\n",
              "          const dataTable =\n",
              "            await google.colab.kernel.invokeFunction('convertToInteractive',\n",
              "                                                     [key], {});\n",
              "          if (!dataTable) return;\n",
              "\n",
              "          const docLinkHtml = 'Like what you see? Visit the ' +\n",
              "            '<a target=\"_blank\" href=https://colab.research.google.com/notebooks/data_table.ipynb>data table notebook</a>'\n",
              "            + ' to learn more about interactive tables.';\n",
              "          element.innerHTML = '';\n",
              "          dataTable['output_type'] = 'display_data';\n",
              "          await google.colab.output.renderOutput(dataTable, element);\n",
              "          const docLink = document.createElement('div');\n",
              "          docLink.innerHTML = docLinkHtml;\n",
              "          element.appendChild(docLink);\n",
              "        }\n",
              "      </script>\n",
              "    </div>\n",
              "  </div>\n",
              "  "
            ]
          },
          "metadata": {},
          "execution_count": 136
        }
      ]
    },
    {
      "cell_type": "code",
      "source": [
        "#get all unique values in 'Country' column\n",
        "countries = professors['Country'].unique()\n",
        "\n",
        "#sort alphabetically then look closer\n",
        "countries.sort()\n",
        "countries"
      ],
      "metadata": {
        "colab": {
          "base_uri": "https://localhost:8080/"
        },
        "id": "j2SXry34mVk_",
        "outputId": "7aa5a98e-eb9b-4f86-9407-281deb8d6007"
      },
      "execution_count": 137,
      "outputs": [
        {
          "output_type": "execute_result",
          "data": {
            "text/plain": [
              "array([' Germany', ' New Zealand', ' Sweden', ' USA', 'Australia',\n",
              "       'Austria', 'Canada', 'China', 'Finland', 'France', 'Greece',\n",
              "       'HongKong', 'Ireland', 'Italy', 'Japan', 'Macau', 'Malaysia',\n",
              "       'Mauritius', 'Netherland', 'New Zealand', 'Norway', 'Pakistan',\n",
              "       'Portugal', 'Russian Federation', 'Saudi Arabia', 'Scotland',\n",
              "       'Singapore', 'South Korea', 'SouthKorea', 'Spain', 'Sweden',\n",
              "       'Thailand', 'Turkey', 'UK', 'USA', 'USofA', 'Urbana', 'germany'],\n",
              "      dtype=object)"
            ]
          },
          "metadata": {},
          "execution_count": 137
        }
      ]
    },
    {
      "cell_type": "markdown",
      "source": [
        "We can see that there is a lot of inconsistent data here"
      ],
      "metadata": {
        "id": "vYMqnMohmwuK"
      }
    },
    {
      "cell_type": "code",
      "source": [
        "# convert to lower case\n",
        "professors[\"Country\"] = professors['Country'].str.lower()\n",
        "#remove trailing white spaces\n",
        "professors['Country'] = professors['Country'].str.strip()"
      ],
      "metadata": {
        "id": "HZyAb9nUmiT4"
      },
      "execution_count": 138,
      "outputs": []
    },
    {
      "cell_type": "code",
      "source": [
        "#get unique values\n",
        "countries = professors['Country'].unique()\n",
        "\n",
        "# sort alphabetically\n",
        "countries.sort()\n",
        "countries"
      ],
      "metadata": {
        "colab": {
          "base_uri": "https://localhost:8080/"
        },
        "id": "YapZfJUUm-0g",
        "outputId": "ffa758f4-7c1f-43ff-f13c-7bc3f0c231b6"
      },
      "execution_count": 139,
      "outputs": [
        {
          "output_type": "execute_result",
          "data": {
            "text/plain": [
              "array(['australia', 'austria', 'canada', 'china', 'finland', 'france',\n",
              "       'germany', 'greece', 'hongkong', 'ireland', 'italy', 'japan',\n",
              "       'macau', 'malaysia', 'mauritius', 'netherland', 'new zealand',\n",
              "       'norway', 'pakistan', 'portugal', 'russian federation',\n",
              "       'saudi arabia', 'scotland', 'singapore', 'south korea',\n",
              "       'southkorea', 'spain', 'sweden', 'thailand', 'turkey', 'uk',\n",
              "       'urbana', 'usa', 'usofa'], dtype=object)"
            ]
          },
          "metadata": {},
          "execution_count": 139
        }
      ]
    },
    {
      "cell_type": "markdown",
      "source": [
        "There are some more difficult inconsistencies. Let's use fuzzy matching. This automatically fijnds text strings very similar to target string. This isn't 100% perfect but generally when working with a lot of data it will save you some time."
      ],
      "metadata": {
        "id": "eS1_2U5UnTBd"
      }
    },
    {
      "cell_type": "code",
      "source": [
        "# Get top 10 closest matches to \"south korea\"\n",
        "matches = fuzzywuzzy.process.extract(\"south korea\", countries, limit=10, scorer=fuzzywuzzy.fuzz.token_sort_ratio)\n",
        "\n",
        "#look\n",
        "matches"
      ],
      "metadata": {
        "colab": {
          "base_uri": "https://localhost:8080/"
        },
        "id": "rto_IWtenHbX",
        "outputId": "421a6c09-abea-43a9-ca36-de131a4a9d06"
      },
      "execution_count": 140,
      "outputs": [
        {
          "output_type": "execute_result",
          "data": {
            "text/plain": [
              "[('south korea', 100),\n",
              " ('southkorea', 48),\n",
              " ('saudi arabia', 43),\n",
              " ('norway', 35),\n",
              " ('ireland', 33),\n",
              " ('portugal', 32),\n",
              " ('singapore', 30),\n",
              " ('netherland', 29),\n",
              " ('macau', 25),\n",
              " ('usofa', 25)]"
            ]
          },
          "metadata": {},
          "execution_count": 140
        }
      ]
    },
    {
      "cell_type": "markdown",
      "source": [
        "Now let's replace all cities that have a ratio > 47 to \"south korea\""
      ],
      "metadata": {
        "id": "3_6y-3vInzw_"
      }
    },
    {
      "cell_type": "code",
      "source": [
        "#function to replace rows in provided column of dataframe\n",
        "# that match string above ratio with string\n",
        "def replace_matches_in_column(df, column, string_to_match, min_ratio=47):\n",
        "  #get list of unique strings\n",
        "  strings = df[column].unique()\n",
        "\n",
        "  #get top 10 closest matches to our input string\n",
        "  matches = fuzzywuzzy.process.extract(string_to_match, strings, limit=10, scorer=fuzzywuzzy.fuzz.token_sort_ratio)\n",
        "\n",
        "  #only get matches with ratio > 90\n",
        "  close_matches = [matches[0] for matches in matches if matches[1] >= min_ratio]\n",
        "\n",
        "  #get rows of all close matches in dataframe\n",
        "  rows_with_matches = df[column].isin(close_matches)\n",
        "\n",
        "  #replace all rows of all close matches with input matches\n",
        "  df.loc[rows_with_matches, column] = string_to_match\n",
        "\n",
        "  #let us know function is done\n",
        "  print(\"All done!\")"
      ],
      "metadata": {
        "id": "sGD8lLwTnucX"
      },
      "execution_count": 141,
      "outputs": []
    },
    {
      "cell_type": "code",
      "source": [
        "# use function to replace close matches to \"south korea\"\n",
        "replace_matches_in_column(df=professors, column='Country', string_to_match=\"south korea\")"
      ],
      "metadata": {
        "colab": {
          "base_uri": "https://localhost:8080/"
        },
        "id": "DXxsxtcpotf2",
        "outputId": "f3cebb02-32af-410a-cd2a-f23471a444a7"
      },
      "execution_count": 142,
      "outputs": [
        {
          "output_type": "stream",
          "name": "stdout",
          "text": [
            "All done!\n"
          ]
        }
      ]
    },
    {
      "cell_type": "code",
      "source": [
        "# get unique values in Country column\n",
        "countries = professors['Country'].unique()\n",
        "\n",
        "#sort\n",
        "countries.sort()\n",
        "countries"
      ],
      "metadata": {
        "colab": {
          "base_uri": "https://localhost:8080/"
        },
        "id": "P9N734Myo2Lm",
        "outputId": "6d85ec0c-90e3-4281-991f-9423fd93e20c"
      },
      "execution_count": 143,
      "outputs": [
        {
          "output_type": "execute_result",
          "data": {
            "text/plain": [
              "array(['australia', 'austria', 'canada', 'china', 'finland', 'france',\n",
              "       'germany', 'greece', 'hongkong', 'ireland', 'italy', 'japan',\n",
              "       'macau', 'malaysia', 'mauritius', 'netherland', 'new zealand',\n",
              "       'norway', 'pakistan', 'portugal', 'russian federation',\n",
              "       'saudi arabia', 'scotland', 'singapore', 'south korea', 'spain',\n",
              "       'sweden', 'thailand', 'turkey', 'uk', 'urbana', 'usa', 'usofa'],\n",
              "      dtype=object)"
            ]
          },
          "metadata": {},
          "execution_count": 143
        }
      ]
    },
    {
      "cell_type": "markdown",
      "source": [
        "##Your Turn"
      ],
      "metadata": {
        "id": "SqVSZJtGo_9g"
      }
    },
    {
      "cell_type": "code",
      "source": [
        "# modules we'll use\n",
        "import pandas as pd\n",
        "import numpy as np\n",
        "\n",
        "# helpful modules\n",
        "import fuzzywuzzy\n",
        "from fuzzywuzzy import process\n",
        "import chardet\n",
        "\n",
        "# read in all our data\n",
        "professors = pd.read_csv(\"pakistan_intellectual_capital.csv\")\n",
        "\n",
        "# set seed for reproducibility\n",
        "np.random.seed(0)"
      ],
      "metadata": {
        "id": "odHqDfCuo8Yv"
      },
      "execution_count": 144,
      "outputs": []
    },
    {
      "cell_type": "code",
      "source": [
        "# convert to lower case\n",
        "professors['Country'] = professors['Country'].str.lower()\n",
        "# remove trailing white spaces\n",
        "professors['Country'] = professors['Country'].str.strip()\n",
        "\n",
        "# get the top 10 closest matches to \"south korea\"\n",
        "countries = professors['Country'].unique()\n",
        "matches = fuzzywuzzy.process.extract(\"south korea\", countries, limit=10, scorer=fuzzywuzzy.fuzz.token_sort_ratio)\n",
        "\n",
        "def replace_matches_in_column(df, column, string_to_match, min_ratio = 47):\n",
        "    # get a list of unique strings\n",
        "    strings = df[column].unique()\n",
        "    \n",
        "    # get the top 10 closest matches to our input string\n",
        "    matches = fuzzywuzzy.process.extract(string_to_match, strings, \n",
        "                                         limit=10, scorer=fuzzywuzzy.fuzz.token_sort_ratio)\n",
        "\n",
        "    # only get matches with a ratio > 90\n",
        "    close_matches = [matches[0] for matches in matches if matches[1] >= min_ratio]\n",
        "\n",
        "    # get the rows of all the close matches in our dataframe\n",
        "    rows_with_matches = df[column].isin(close_matches)\n",
        "\n",
        "    # replace all rows with close matches with the input matches \n",
        "    df.loc[rows_with_matches, column] = string_to_match\n",
        "    \n",
        "    # let us know the function's done\n",
        "    print(\"All done!\")\n",
        "    \n",
        "replace_matches_in_column(df=professors, column='Country', string_to_match=\"south korea\")\n",
        "countries = professors['Country'].unique()"
      ],
      "metadata": {
        "colab": {
          "base_uri": "https://localhost:8080/"
        },
        "id": "J8YRBD5Spsam",
        "outputId": "82c3b8fa-c1af-4cf2-cb78-72449b467ee2"
      },
      "execution_count": 145,
      "outputs": [
        {
          "output_type": "stream",
          "name": "stdout",
          "text": [
            "All done!\n"
          ]
        }
      ]
    },
    {
      "cell_type": "markdown",
      "source": [
        "Write code below to take a look at all the unique values in the \"Graduated from\" column"
      ],
      "metadata": {
        "id": "xQ7Z5TpgpzXO"
      }
    },
    {
      "cell_type": "code",
      "source": [
        "professors[\"Graduated from\"].unique()"
      ],
      "metadata": {
        "colab": {
          "base_uri": "https://localhost:8080/"
        },
        "id": "mmkMms59pxTu",
        "outputId": "02f88fa6-6131-4805-8310-6e8e28b400b9"
      },
      "execution_count": 146,
      "outputs": [
        {
          "output_type": "execute_result",
          "data": {
            "text/plain": [
              "array(['Asian Institute of Technology',\n",
              "       'Balochistan University of Information Technology, Engineering and Management Sciences',\n",
              "       'University of Balochistan',\n",
              "       \"Sardar Bahadur Khan Women's University\",\n",
              "       'SRH Hochschule Heidelberg',\n",
              "       'Institute of Business Administration,Karachi', 'DUET,Karachi',\n",
              "       'University of Turbat', 'University of Vienna',\n",
              "       'Monash University', 'University of Stirling',\n",
              "       'Chinese Academy of Sciences', 'University of Innsbruck',\n",
              "       'Vienna University of Technology', 'University of Paris-Est',\n",
              "       'The University of Cambridge', 'Harbin Institute of Technology',\n",
              "       'University of Nice, Sophia Antipolis', 'The University of York',\n",
              "       'Galilée - Université Paris 13', 'University of Bedfordshire',\n",
              "       'North Dakota State University', 'Kyungpook National University',\n",
              "       'The University of Manchester',\n",
              "       'National University of Sciences and Technology',\n",
              "       'FAST– National University of Computer and Emerging Sciences',\n",
              "       'Capital University of Science & Technology', 'Gomal University',\n",
              "       'University of Malaya', 'KTH Royal Institute of Technology',\n",
              "       'University of Technology',\n",
              "       'COMSATS Institute of Information Technology',\n",
              "       'Government College University', 'Mohammad Ali Jinnah University',\n",
              "       'Shaheed Zulfikar Ali Bhutto Institute of Science and Technology',\n",
              "       'Blekinge Institute of Technology', 'University of Grenoble',\n",
              "       'Politecnico di Torino', '\\xa0University of Missouri, KC',\n",
              "       'University of Bonn', 'University of Paris',\n",
              "       'The University of Leeds', '\\xa0University of Windsor',\n",
              "       '\\xa0National University of Sciences and Technology-NIIT',\n",
              "       'University of Trento', 'Stockholm University',\n",
              "       'University of New South Wales, Sydney',\n",
              "       'Kingston University London', 'Griffith University',\n",
              "       'University of Salford', 'Loughborough University',\n",
              "       'International Islamic University,Islamabad',\n",
              "       'University of Central Missouri',\n",
              "       'Riphah International University', 'University of BedfordShire',\n",
              "       'University of Illinois', 'University Of Oslo',\n",
              "       'Nancy 2 University', 'University of Limerick',\n",
              "       'Ghulam Ishaq Khan Institute of Science and Technology',\n",
              "       'University Of Waterloo', 'University of Stuttgart',\n",
              "       'Liverpool John Moores University', 'University Of Caen',\n",
              "       'Paris Tech University of Eurecom', 'University Of Salford',\n",
              "       'Lahore University of Management Sciences',\n",
              "       'Dresden University Of Technology, Dresden\\xa0',\n",
              "       'COMSATS Institute of Information Technology,Vehari',\n",
              "       'COMSATS Institute of Information Technology,Wah Cantt',\n",
              "       'TU Berlin',\n",
              "       'FAST– National University of Computer and Emerging Sciences,Islamabad',\n",
              "       'Tsinghua University', 'The University of Auckland',\n",
              "       'IQRA University', 'Universiti Teknologi PETRONAS',\n",
              "       'COMSATS Institute of Information Technology,Islamabad',\n",
              "       'Razak School of Engineering and Advanced Technology, Universiti Teknologi Malaysia (UTM)',\n",
              "       'National University of Modern Languages',\n",
              "       'University of Engineering and Technology',\n",
              "       'University Institute of Information Technology',\n",
              "       'University of Arid Agriculture', 'Quaid-i-Azam University',\n",
              "       'Queen Mary University of London',\n",
              "       'Pakistan Institute of Engineering and Applied Sciences',\n",
              "       'Pohang University of Science and Technology',\n",
              "       'Uppsala University', 'Kyung Hee University',\n",
              "       'University of Liverpool', 'University of Sunderland',\n",
              "       'Mid Sweden University', 'Bahria University,Islamabad',\n",
              "       'Chosun University', 'University of Sussex',\n",
              "       'Paris Descartes University', 'University of Leicester',\n",
              "       'University of Porto', 'University of Manchester',\n",
              "       'Université Henri Poincaré, Nancy 1,', 'Bahria University',\n",
              "       'Centre for Advanced Studies in Engineering',\n",
              "       'Norwegian University of Science and Technology (NTNU),',\n",
              "       'The Islamia University of Bahawalpur ', 'Universiti Technologi',\n",
              "       'California State University', 'University of Genova',\n",
              "       'University of Engineering and Technology,Taxila',\n",
              "       'University of\\xa0Liverpool John Moores University', 'Guildford',\n",
              "       'University of Bradford', 'Graz University of Technology',\n",
              "       'Huazhong University of Science and Technology (HUST), Wuhan',\n",
              "       'University of Konstanz',\n",
              "       'National University of Modern Languages,Islamabad',\n",
              "       'FAST– National University of Computer and Emerging Sciences,Lahore',\n",
              "       'Gwangju Institute of Science and Technology',\n",
              "       'University of Birmingham', 'Manchester University',\n",
              "       'Beijing Institute of Technology', 'University of Paisley',\n",
              "       'Univ of Porto/Univ of Aveiro Portugal/Uni of Minho',\n",
              "       'University of Peshawar', 'Universität Salzburg',\n",
              "       'Colorado State University', 'University of Virginia',\n",
              "       'University of Orleans', 'Zhejiang University',\n",
              "       'University of Leeds', 'Foundation University',\n",
              "       'Barani Institute of Information Technology', 'Abasyn University',\n",
              "       'Pir Mehr Ali Shah Arid Agriculture University', 'Preston',\n",
              "       'University of Bergen', 'Universtiy of Lahore',\n",
              "       'HITEC University,Taxila', 'Allama Iqbal Open University',\n",
              "       'University of Wales,Aberystwyth', '\\xa0University of Bonn',\n",
              "       '\\xa0Hongik University',\n",
              "       'Skolkovo Institute of Science and Technology,\\xa0',\n",
              "       'Agricultural University Peshawar', 'National Textile University',\n",
              "       'FAST– National University of Computer and Emerging Sciences,Chiniot-Faisalabad',\n",
              "       'FAST– National University of Computer and Emerging Sciences,Peshawar',\n",
              "       '\\xa0Boston University', 'Brunel University',\n",
              "       'George Washington University', 'University of the Punjab',\n",
              "       '\\xa0University of Bedfordshire',\n",
              "       'University Of Southern California', 'Beihang University',\n",
              "       'Institute of Business Administration',\n",
              "       'Abdus Salam School of Mathematical Sciences,GC University',\n",
              "       'Linköping University',\n",
              "       'National College of Business Administration and Economics',\n",
              "       'Åbo Akademi University,', 'University of Central Punjab',\n",
              "       'University of Ulm', 'University of Agriculture',\n",
              "       'University of Notre Dame Indiana\\xa0',\n",
              "       'Punjab University College of Information Technology',\n",
              "       'Ilmenau University of Technology', ' Iowa State University',\n",
              "       ' University of Innsbruck', 'Vrije University, Amsterdam',\n",
              "       ' Columbia University', 'University of Freiburg',\n",
              "       ' Delft University of Technology',\n",
              "       ' University of Texas at Arlington (UTA)', ' University of Turin',\n",
              "       ' University of Central Florida', 'Saarland University',\n",
              "       'University of Central Florida', 'Oxford Brookes University',\n",
              "       'Information Technology University (ITU)',\n",
              "       'University of Canterbury', 'University of Patras',\n",
              "       'Middle East Technical University', 'University of Bristol',\n",
              "       'University of Southern California',\n",
              "       'Northeastern University,Boston', 'Purdue University',\n",
              "       'University of Plymouth', 'University of South Australia',\n",
              "       'Stanford University', 'Chalmers University of Technology',\n",
              "       'Massachusetts Institute of Technology',\n",
              "       'Sapienza University of Rome',\n",
              "       'Eindhoven University of Technology (TU/e)',\n",
              "       'United Nations University International Institute for Software Technology (UNU-IIST)',\n",
              "       'Georgetown University,DC', 'RWTH Aachen University',\n",
              "       'Columbia University',\n",
              "       'Rutgers State University of New Jersey, NJ',\n",
              "       'University of Florida', 'Technical University of Braunschweig',\n",
              "       'Carnegie Mellon University, Pittsburgh',\n",
              "       'The Ohio State University', 'National University of Singapore',\n",
              "       'University of British Columbia', 'University of Pittsburgh',\n",
              "       'The State University of New Jersey',\n",
              "       'The University of Texas at Austin',\n",
              "       'Imperial College, University of London',\n",
              "       'University of Colorado\\xa0', 'University of Bath',\n",
              "       'Tilburg University', 'Pompeu Fabra University Barcelona',\n",
              "       'University of Management and Technology',\n",
              "       'COMSATS Institute of Information Technology,Lahore',\n",
              "       'University of Agriculture, Faisalabad\\xa0',\n",
              "       'University of Engineering & Technology',\n",
              "       'University of Agriculture, Faisalabad',\n",
              "       'Fatima Jinnah Women University, Rawalpindi',\n",
              "       'Kohat University of Science & Technology, Kohat',\n",
              "       'Virtual University of Pakistan', 'Bahauddin Zakariya University',\n",
              "       'University of the Punjab,Gujranwala',\n",
              "       'Lahore College for Women University',\n",
              "       'Superior University, Lahore',\n",
              "       'Shaheed Zulfikar Ali Bhutto Institute of Science and Technology,Islamabad',\n",
              "       'University of South Florida', 'Politecnico di Milano',\n",
              "       'Abdul Wali Khan University, Mardan', 'University of Lahore',\n",
              "       'Minhaj University Lahore', 'Lahore Leads University',\n",
              "       'Middlesex University', 'Beijing Institute of Technology Beijing',\n",
              "       'Beaconhouse National University', 'Hamdard University',\n",
              "       'University Paris', 'Sindh University',\n",
              "       'NED University of Engineering And Technology',\n",
              "       'Staffordshire University', 'DePaul University, Chicago',\n",
              "       'University of Kent',\n",
              "       'Mehran University of Engineering & Technology',\n",
              "       'Quaid-e-Awam University of Engineering, Science & Technology',\n",
              "       'Shah Abdul Latif University, Khairpur',\n",
              "       'Sindh Agriculture University', 'Swansea',\n",
              "       'University of Shanghai for Science and Technology',\n",
              "       'Griffith University,Nathan Campus', 'University of Essex',\n",
              "       'Xiamen university', 'Wayne State University',\n",
              "       'The Queens University of Belfast', 'Sungkyunkwan University',\n",
              "       'Nanyang Tech University', \"Universite d'Evry Val d'Essonne\",\n",
              "       'Sir Syed University of Engineering and Technology',\n",
              "       'New York Institute of Technology', 'Fedral Urdu University',\n",
              "       'ISRA University', 'University of Karachi',\n",
              "       'South Asian University',\n",
              "       'Capital University of Science and Technology',\n",
              "       'University of Manchester Institute of Science and Technology',\n",
              "       'The University of Birmingham',\n",
              "       'Max Planck Institute for Computer Science',\n",
              "       'George Mason University', 'University of Southampton',\n",
              "       'Temple University', 'University of Bayreuth',\n",
              "       'Muroran Institute of Technology,Hokkaido',\n",
              "       'University of Bologna', 'International Islamic University',\n",
              "       'PAF-Karachi Institute of Economics and Technology',\n",
              "       'Institute of Business Administration,Sukkur',\n",
              "       'Myongji University', 'State University of New York System',\n",
              "       'SSindh Agriculture University', 'London University',\n",
              "       'Universiti Putra Malaysia Putra',\n",
              "       'University of Rome Tor Vergata', 'University of Mississippi\\xa0',\n",
              "       'University of Wales', 'University of Northampton',\n",
              "       'University of Abertay Dundee',\n",
              "       'Biztek Institute Of Business & Technology,Karachi',\n",
              "       'University of Surrey', 'Jinnah University for Women',\n",
              "       '\\xa0Nanyang Technological University',\n",
              "       'Tokyo Institute of Technology', 'NCSU',\n",
              "       'Usman Institute of Technology', 'Hanyang University, Ansan',\n",
              "       'BUKC', 'Universtiy of Karachi', 'Pace University, New York',\n",
              "       'INSA de Lyon, Rhone', 'University of Dundee',\n",
              "       'Illinois Institute of Technology',\n",
              "       'City University of Science and Technology',\n",
              "       'Usman Institute of Technology (Hamdard University)',\n",
              "       'University of Malaga', 'Manchester Metropolitan University',\n",
              "       'Kyushu University,Fukuoka',\n",
              "       'King Abdullah University of Science and Technology',\n",
              "       'INRIA Saclay Ile-de-France', 'Université de la Rochelle',\n",
              "       'University of South Brittany', 'Aston University, Birmingham',\n",
              "       'University of Agriculture Faisalabad',\n",
              "       'Hamburg University of Technology',\n",
              "       'Government College University, Faisalabad', 'JKU',\n",
              "       'University of Oviedo',\n",
              "       'Beijing University of Posts & Telecommunications',\n",
              "       'Government College University,Faisalabad',\n",
              "       'Nottingham Trent University', 'University of Glasgow',\n",
              "       'Coventry University',\n",
              "       'Riphah International University,Faisalabad',\n",
              "       'Australian National University, Caneberra',\n",
              "       'Swedish University of Agricultural Sciences, Uppsala',\n",
              "       'University of Gujrat', 'IQRA University,Islamabad',\n",
              "       'Jonkoping University', 'Colorado Technical University',\n",
              "       'Cranfield University', 'Technical University of Graz',\n",
              "       'University of York', 'Brock University Canada',\n",
              "       'University of Westminster', 'University of Saarland',\n",
              "       'The University of Queensland', 'University of Rochester',\n",
              "       'Islamia College University ',\n",
              "       'IBMS KP Agricultural University Peshawar',\n",
              "       'University of Kuala Lumpur', 'University of Regina', 'TU Wien',\n",
              "       'Swinburne University Of Technology',\n",
              "       'Institute Of Managment Sciences, Peshawar',\n",
              "       'Universiti Tun Hussein Onn Malaysia',\n",
              "       'Institute of Management Sciences, Peshawar',\n",
              "       'University of Huddersfield',\n",
              "       'University of Engineering and Technology,Peshawar',\n",
              "       'IQRA University,Karachi', 'John Moorse University, Liverpool',\n",
              "       'CECOS University of Information Technology and Emerging Sciences,Peshawar',\n",
              "       'University of the West Scotland', 'Concordia University,Montreal',\n",
              "       'JNU', 'Grenoble', 'Florida Atlantic University',\n",
              "       'Seoul National University'], dtype=object)"
            ]
          },
          "metadata": {},
          "execution_count": 146
        }
      ]
    },
    {
      "cell_type": "markdown",
      "source": [
        "Convert every entry in the \"Graduated from\" column in the professors DataFrame to remove white spaces at the beginning and end of cells."
      ],
      "metadata": {
        "id": "zH-4ExjxqO_Z"
      }
    },
    {
      "cell_type": "code",
      "source": [
        "professors[\"Graduated from\"] = professors['Graduated from'].str.strip()"
      ],
      "metadata": {
        "id": "-mATptKNp3Je"
      },
      "execution_count": 148,
      "outputs": []
    },
    {
      "cell_type": "markdown",
      "source": [
        "In the tutorial, we focused on cleaning up inconsistencies in the \"Country\" column. Run the code cell below to view the list of unique values that we ended with."
      ],
      "metadata": {
        "id": "fmpY-y8MqqVE"
      }
    },
    {
      "cell_type": "code",
      "source": [
        "# get all the unique values in the 'City' column\n",
        "countries = professors['Country'].unique()\n",
        "\n",
        "# sort them alphabetically and then take a closer look\n",
        "countries.sort()\n",
        "countries"
      ],
      "metadata": {
        "colab": {
          "base_uri": "https://localhost:8080/"
        },
        "id": "qbzLFbPYqjk_",
        "outputId": "58f26565-6a10-4085-a4db-2d4b3bbeb090"
      },
      "execution_count": 149,
      "outputs": [
        {
          "output_type": "execute_result",
          "data": {
            "text/plain": [
              "array(['australia', 'austria', 'canada', 'china', 'finland', 'france',\n",
              "       'germany', 'greece', 'hongkong', 'ireland', 'italy', 'japan',\n",
              "       'macau', 'malaysia', 'mauritius', 'netherland', 'new zealand',\n",
              "       'norway', 'pakistan', 'portugal', 'russian federation',\n",
              "       'saudi arabia', 'scotland', 'singapore', 'south korea', 'spain',\n",
              "       'sweden', 'thailand', 'turkey', 'uk', 'urbana', 'usa', 'usofa'],\n",
              "      dtype=object)"
            ]
          },
          "metadata": {},
          "execution_count": 149
        }
      ]
    },
    {
      "cell_type": "code",
      "source": [
        "# Get top 10 closest matches to \"USA\"\n",
        "matches = fuzzywuzzy.process.extract(\"usa\", countries, limit=10, scorer=fuzzywuzzy.fuzz.token_sort_ratio)\n",
        "\n",
        "#look\n",
        "matches"
      ],
      "metadata": {
        "colab": {
          "base_uri": "https://localhost:8080/"
        },
        "id": "K3r44bZdquR6",
        "outputId": "1610a3d7-db17-40b3-f19a-e0736b34ee62"
      },
      "execution_count": 150,
      "outputs": [
        {
          "output_type": "execute_result",
          "data": {
            "text/plain": [
              "[('usa', 100),\n",
              " ('usofa', 75),\n",
              " ('austria', 60),\n",
              " ('australia', 50),\n",
              " ('spain', 50),\n",
              " ('urbana', 44),\n",
              " ('uk', 40),\n",
              " ('malaysia', 36),\n",
              " ('pakistan', 36),\n",
              " ('portugal', 36)]"
            ]
          },
          "metadata": {},
          "execution_count": 150
        }
      ]
    },
    {
      "cell_type": "code",
      "source": [
        "replace_matches_in_column(professors, \"Country\", \"usa\", 75)"
      ],
      "metadata": {
        "colab": {
          "base_uri": "https://localhost:8080/"
        },
        "id": "tM0xqzGyrEqm",
        "outputId": "78e66ddc-a40a-499c-89c0-c73674dfd0f0"
      },
      "execution_count": 151,
      "outputs": [
        {
          "output_type": "stream",
          "name": "stdout",
          "text": [
            "All done!\n"
          ]
        }
      ]
    },
    {
      "cell_type": "code",
      "source": [
        "# get all the unique values in the 'City' column\n",
        "countries = professors['Country'].unique()\n",
        "\n",
        "# sort them alphabetically and then take a closer look\n",
        "countries.sort()\n",
        "countries"
      ],
      "metadata": {
        "colab": {
          "base_uri": "https://localhost:8080/"
        },
        "id": "lXXRD1XfrWkh",
        "outputId": "4e9e2b56-6ea8-4dd7-9912-5cd50d867297"
      },
      "execution_count": 152,
      "outputs": [
        {
          "output_type": "execute_result",
          "data": {
            "text/plain": [
              "array(['australia', 'austria', 'canada', 'china', 'finland', 'france',\n",
              "       'germany', 'greece', 'hongkong', 'ireland', 'italy', 'japan',\n",
              "       'macau', 'malaysia', 'mauritius', 'netherland', 'new zealand',\n",
              "       'norway', 'pakistan', 'portugal', 'russian federation',\n",
              "       'saudi arabia', 'scotland', 'singapore', 'south korea', 'spain',\n",
              "       'sweden', 'thailand', 'turkey', 'uk', 'urbana', 'usa'],\n",
              "      dtype=object)"
            ]
          },
          "metadata": {},
          "execution_count": 152
        }
      ]
    },
    {
      "cell_type": "code",
      "source": [
        ""
      ],
      "metadata": {
        "id": "YX_1QkharY5B"
      },
      "execution_count": null,
      "outputs": []
    }
  ]
}