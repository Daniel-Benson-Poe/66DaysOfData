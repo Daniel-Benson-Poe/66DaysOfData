{
  "nbformat": 4,
  "nbformat_minor": 0,
  "metadata": {
    "colab": {
      "name": "Python MiniCourse on Kaggle.ipynb",
      "provenance": [],
      "collapsed_sections": [
        "hXxT_RD1f2Mh",
        "-pwVSPMelUk1",
        "uKg9kY57c0ap",
        "-6l06a3yjj7n",
        "pfD6rn6fzVJz",
        "0GJgqlZa-at9"
      ],
      "authorship_tag": "ABX9TyNy0FyUisryKQ+ODHS13uPC",
      "include_colab_link": true
    },
    "kernelspec": {
      "name": "python3",
      "display_name": "Python 3"
    },
    "language_info": {
      "name": "python"
    }
  },
  "cells": [
    {
      "cell_type": "markdown",
      "metadata": {
        "id": "view-in-github",
        "colab_type": "text"
      },
      "source": [
        "<a href=\"https://colab.research.google.com/github/Daniel-Benson-Poe/66DaysOfData/blob/main/Python_MiniCourse_on_Kaggle.ipynb\" target=\"_parent\"><img src=\"https://colab.research.google.com/assets/colab-badge.svg\" alt=\"Open In Colab\"/></a>"
      ]
    },
    {
      "cell_type": "markdown",
      "source": [
        "Today we will be learning the ins and outs of basic Python and how we begin to tie Python into the vast world that is Data Science"
      ],
      "metadata": {
        "id": "wWlks3Huftjh"
      }
    },
    {
      "cell_type": "markdown",
      "source": [
        "#Hello, Python"
      ],
      "metadata": {
        "id": "hXxT_RD1f2Mh"
      }
    },
    {
      "cell_type": "code",
      "source": [
        "# Variable Assignment Numbers\n",
        "spam_amount = 0"
      ],
      "metadata": {
        "id": "McIoQ7Osf6ci"
      },
      "execution_count": null,
      "outputs": []
    },
    {
      "cell_type": "code",
      "source": [
        "# How do we output data?\n",
        "print(spam_amount)"
      ],
      "metadata": {
        "colab": {
          "base_uri": "https://localhost:8080/"
        },
        "id": "gmlG_xwahJjA",
        "outputId": "4b7f0983-f1d6-4e51-98f4-451e86fe1bc7"
      },
      "execution_count": null,
      "outputs": [
        {
          "output_type": "stream",
          "name": "stdout",
          "text": [
            "0\n"
          ]
        }
      ]
    },
    {
      "cell_type": "code",
      "execution_count": null,
      "metadata": {
        "colab": {
          "base_uri": "https://localhost:8080/"
        },
        "id": "RGeib2ayfXc2",
        "outputId": "6e82a96d-47a2-4b30-a882-c177b8ee9f70"
      },
      "outputs": [
        {
          "output_type": "execute_result",
          "data": {
            "text/plain": [
              "int"
            ]
          },
          "metadata": {},
          "execution_count": 4
        }
      ],
      "source": [
        "# Learning a new data type - it's not just a number!\n",
        "type(spam_amount)"
      ]
    },
    {
      "cell_type": "markdown",
      "source": [
        "An integer is a whole number; notice the lack of decimal places. It can be things like 1, 2, 5, 87, 12332, 6724235234, etc."
      ],
      "metadata": {
        "id": "0mmqDVfxg8Pz"
      }
    },
    {
      "cell_type": "code",
      "source": [
        "# Another number type\n",
        "type(19.95)"
      ],
      "metadata": {
        "colab": {
          "base_uri": "https://localhost:8080/"
        },
        "id": "rSG9OII-gmT1",
        "outputId": "654475f8-82a6-45e0-f6c7-740cdac1f53f"
      },
      "execution_count": null,
      "outputs": [
        {
          "output_type": "execute_result",
          "data": {
            "text/plain": [
              "float"
            ]
          },
          "metadata": {},
          "execution_count": 6
        }
      ]
    },
    {
      "cell_type": "markdown",
      "source": [
        "A float is a partial number, or a number with a decimal. Things like 12.2, 44.1, or even 5.0."
      ],
      "metadata": {
        "id": "rQMwWjemgxin"
      }
    },
    {
      "cell_type": "markdown",
      "source": [
        "We can even perform calculations! How else did you think a calculator worked? We can do the following arithmetic:"
      ],
      "metadata": {
        "id": "ipjEvfRqhcks"
      }
    },
    {
      "cell_type": "markdown",
      "source": [
        "Addition - a + b\n",
        "\n",
        "Subtraction = a - b\n",
        "\n",
        "Multiplication - a * b\n",
        "\n",
        "True Division - a / b\n",
        "\n",
        "Floor Division - a // b\n",
        "\n",
        "Modulus - a % b\n",
        "\n",
        "Exponentiation - a ** b\n",
        "\n",
        "Negation - -a"
      ],
      "metadata": {
        "id": "kMX8vIBahozX"
      }
    },
    {
      "cell_type": "code",
      "source": [
        "# Let's take a closer look at the difference of true division and floor division\n",
        "# True division will always return a float\n",
        "# Floor division will always return an integer rounded down\n",
        "print(5 / 2)\n",
        "print(6 / 2)\n",
        "print(5 // 2)\n",
        "print(6 // 2)"
      ],
      "metadata": {
        "colab": {
          "base_uri": "https://localhost:8080/"
        },
        "id": "68qFeQSDgo7K",
        "outputId": "aa04a91c-a409-42c5-95e8-eeeb0b1551e5"
      },
      "execution_count": null,
      "outputs": [
        {
          "output_type": "stream",
          "name": "stdout",
          "text": [
            "2.5\n",
            "3.0\n",
            "2\n",
            "3\n"
          ]
        }
      ]
    },
    {
      "cell_type": "markdown",
      "source": [
        "Built-in Functions for working with numbers:\n",
        "min()\n",
        "max()\n",
        "abs()"
      ],
      "metadata": {
        "id": "Vc5xe_6Fior7"
      }
    },
    {
      "cell_type": "code",
      "source": [
        "# We can receive the minimum of a group of numbers\n",
        "print(min(1, 2, 3))"
      ],
      "metadata": {
        "colab": {
          "base_uri": "https://localhost:8080/"
        },
        "id": "LjPf6by-iKhZ",
        "outputId": "0fe3abfc-bcd8-42ba-f21d-50604768c4e1"
      },
      "execution_count": null,
      "outputs": [
        {
          "output_type": "stream",
          "name": "stdout",
          "text": [
            "1\n"
          ]
        }
      ]
    },
    {
      "cell_type": "code",
      "source": [
        "# We can receive the maximum of a group of numbers\n",
        "print(max(1, 2, 3))"
      ],
      "metadata": {
        "colab": {
          "base_uri": "https://localhost:8080/"
        },
        "id": "XIyov7cRiyKo",
        "outputId": "40c6d1fb-d2a2-4ba3-ddcc-085a492a7aa3"
      },
      "execution_count": null,
      "outputs": [
        {
          "output_type": "stream",
          "name": "stdout",
          "text": [
            "3\n"
          ]
        }
      ]
    },
    {
      "cell_type": "code",
      "source": [
        "# We can receieve the absolute value of a given number\n",
        "print(abs(32))\n",
        "print(abs(-32))"
      ],
      "metadata": {
        "colab": {
          "base_uri": "https://localhost:8080/"
        },
        "id": "HVrq_3AAizg2",
        "outputId": "043f5ba1-3083-4f4a-fade-36da49de31a6"
      },
      "execution_count": null,
      "outputs": [
        {
          "output_type": "stream",
          "name": "stdout",
          "text": [
            "32\n",
            "32\n"
          ]
        }
      ]
    },
    {
      "cell_type": "markdown",
      "source": [
        "int and float functions can be called to convert to the corresponding data type"
      ],
      "metadata": {
        "id": "u6_TydqdjIM0"
      }
    },
    {
      "cell_type": "code",
      "source": [
        "print(float(10))\n",
        "print(int(3.33))\n",
        "# EVEN STRINGS!\n",
        "print(int('807') + 1)"
      ],
      "metadata": {
        "colab": {
          "base_uri": "https://localhost:8080/"
        },
        "id": "tzNQ_oMvi3Zk",
        "outputId": "eecd0e6e-225a-4733-9a53-8aa9644b0193"
      },
      "execution_count": null,
      "outputs": [
        {
          "output_type": "stream",
          "name": "stdout",
          "text": [
            "10.0\n",
            "3\n",
            "808\n"
          ]
        }
      ]
    },
    {
      "cell_type": "markdown",
      "source": [
        "###Your Turn\n",
        "We are going to be writing some of our own code now. Are you ready?"
      ],
      "metadata": {
        "id": "S5KGeJSBjmBO"
      }
    },
    {
      "cell_type": "code",
      "source": [
        "# create a variable called color with an appropriate value on the line below\n",
        "# (Remember, strings in Python must be enclosed in 'single' or \"double\" quotes)\n",
        "color = \"Green\"\n",
        "print(color)"
      ],
      "metadata": {
        "colab": {
          "base_uri": "https://localhost:8080/"
        },
        "id": "ZjdxX--HjY_i",
        "outputId": "5b76a009-b7b6-4048-b5bf-1f8790b9325b"
      },
      "execution_count": null,
      "outputs": [
        {
          "output_type": "stream",
          "name": "stdout",
          "text": [
            "Green\n"
          ]
        }
      ]
    },
    {
      "cell_type": "code",
      "source": [
        "pi = 3.14159 # approximate\n",
        "diameter = 3\n",
        "# Create a variable called 'radius' equal to half the diameter\n",
        "radius = diameter / 2\n",
        "print(radius)\n",
        "\n",
        "# Create a variable called 'area', using the formula for the area of a circle: pi times the radius squared\n",
        "area = pi * (radius ** 2)\n",
        "print(area)"
      ],
      "metadata": {
        "colab": {
          "base_uri": "https://localhost:8080/"
        },
        "id": "IXFp19Drjstu",
        "outputId": "b60f69e8-45da-41e8-95c2-7b28a909faa5"
      },
      "execution_count": null,
      "outputs": [
        {
          "output_type": "stream",
          "name": "stdout",
          "text": [
            "1.5\n",
            "7.0685775\n"
          ]
        }
      ]
    },
    {
      "cell_type": "code",
      "source": [
        "########### Setup code - don't touch this part ######################\n",
        "# If you're curious, these are examples of lists. We'll talk about \n",
        "# them in depth a few lessons from now. For now, just know that they're\n",
        "# yet another type of Python object, like int or float.\n",
        "a = [1, 2, 3]\n",
        "b = [3, 2, 1]\n",
        "\n",
        "######################################################################\n",
        "\n",
        "# Your code goes here. Swap the values to which a and b refer.\n",
        "# If you get stuck, you can always uncomment one or both of the lines in\n",
        "# the next cell for a hint, or to peek at the solution.\n",
        "print(a, b)\n",
        "a,b = b,a\n",
        "\n",
        "print(a, b)"
      ],
      "metadata": {
        "colab": {
          "base_uri": "https://localhost:8080/"
        },
        "id": "BBgqvP6Bj5Qv",
        "outputId": "0653f2e2-6fae-47eb-aea2-d9a64484af03"
      },
      "execution_count": null,
      "outputs": [
        {
          "output_type": "stream",
          "name": "stdout",
          "text": [
            "[1, 2, 3] [3, 2, 1]\n",
            "[3, 2, 1] [1, 2, 3]\n"
          ]
        }
      ]
    },
    {
      "cell_type": "markdown",
      "source": [
        "4. Alice, Bob and Carol have agreed to pool their Halloween candy and split it evenly among themselves. For the sake of their friendship, any candies left over will be smashed. For example, if they collectively bring home 91 candies, they'll take 30 each and smash 1.\n",
        "Write an arithmetic expression below to calculate how many candies they must smash for a given haul."
      ],
      "metadata": {
        "id": "DxYQCztnkLKg"
      }
    },
    {
      "cell_type": "code",
      "source": [
        "total_candies = 91\n",
        "DIVIDE_BY = 3\n",
        "print(total_candies % DIVIDE_BY)"
      ],
      "metadata": {
        "colab": {
          "base_uri": "https://localhost:8080/"
        },
        "id": "qGkbV6bRj_N-",
        "outputId": "a18837d3-9602-4a4d-bf53-614ae4b82043"
      },
      "execution_count": null,
      "outputs": [
        {
          "output_type": "stream",
          "name": "stdout",
          "text": [
            "1\n"
          ]
        }
      ]
    },
    {
      "cell_type": "markdown",
      "source": [
        "#Functions"
      ],
      "metadata": {
        "id": "-pwVSPMelUk1"
      }
    },
    {
      "cell_type": "markdown",
      "source": [
        "Python has a built-in help function that allows you to get a closer look at what you are trying to do"
      ],
      "metadata": {
        "id": "IREtgxAElZap"
      }
    },
    {
      "cell_type": "code",
      "source": [
        "help(round)"
      ],
      "metadata": {
        "colab": {
          "base_uri": "https://localhost:8080/"
        },
        "id": "aufheS7tlV9y",
        "outputId": "c6ef041b-0ddf-433b-dfd9-7add090b5232"
      },
      "execution_count": null,
      "outputs": [
        {
          "output_type": "stream",
          "name": "stdout",
          "text": [
            "Help on built-in function round in module builtins:\n",
            "\n",
            "round(number, ndigits=None)\n",
            "    Round a number to a given precision in decimal digits.\n",
            "    \n",
            "    The return value is an integer if ndigits is omitted or None.  Otherwise\n",
            "    the return value has the same type as the number.  ndigits may be negative.\n",
            "\n"
          ]
        }
      ]
    },
    {
      "cell_type": "code",
      "source": [
        "help(print)"
      ],
      "metadata": {
        "colab": {
          "base_uri": "https://localhost:8080/"
        },
        "id": "aKN9xqkMlfl7",
        "outputId": "f7178715-c163-4515-912d-786d47ee630f"
      },
      "execution_count": null,
      "outputs": [
        {
          "output_type": "stream",
          "name": "stdout",
          "text": [
            "Help on built-in function print in module builtins:\n",
            "\n",
            "print(...)\n",
            "    print(value, ..., sep=' ', end='\\n', file=sys.stdout, flush=False)\n",
            "    \n",
            "    Prints the values to a stream, or to sys.stdout by default.\n",
            "    Optional keyword arguments:\n",
            "    file:  a file-like object (stream); defaults to the current sys.stdout.\n",
            "    sep:   string inserted between values, default a space.\n",
            "    end:   string appended after the last value, default a newline.\n",
            "    flush: whether to forcibly flush the stream.\n",
            "\n"
          ]
        }
      ]
    },
    {
      "cell_type": "markdown",
      "source": [
        "Defining Functions\n",
        "\n",
        "We will create a function called least_difference that takes three arguments. A function is built with the format:\n",
        "\n",
        "header introduced by def keyword\n",
        "indented block of code following : is what runs when the function is called\n",
        "return is a keyword that exits the function immediately and passes the value on the right hand side to the calling context\n",
        "docstring, surrounded by three qutations (\"\"\" \"\"\") can be added in to explain the function and allow the help() function to return this explanation"
      ],
      "metadata": {
        "id": "glxM-3rFlo1G"
      }
    },
    {
      "cell_type": "code",
      "source": [
        "def least_difference(a, b, c):\n",
        "  \"\"\"Return the smallest difference between any two numbers among a, b, and c.\n",
        "\n",
        "  >>> least_difference(1, 5, -5)\n",
        "  4\n",
        "  \"\"\"\n",
        "  diff1 = abs(a-b)\n",
        "  diff2 = abs(b-c)\n",
        "  diff3 = abs(a-c)\n",
        "  return min(diff1, diff2, diff3)"
      ],
      "metadata": {
        "id": "mj5IT-K8ll67"
      },
      "execution_count": null,
      "outputs": []
    },
    {
      "cell_type": "code",
      "source": [
        "print(\n",
        "    least_difference(1, 10, 100),\n",
        "    least_difference(1, 10, 10),\n",
        "    least_difference(5, 6, 7)\n",
        ")"
      ],
      "metadata": {
        "colab": {
          "base_uri": "https://localhost:8080/"
        },
        "id": "FrtkUBIomQbV",
        "outputId": "0a299d37-6fac-4ce3-8862-550aba2629d2"
      },
      "execution_count": null,
      "outputs": [
        {
          "output_type": "stream",
          "name": "stdout",
          "text": [
            "9 0 1\n"
          ]
        }
      ]
    },
    {
      "cell_type": "code",
      "source": [
        "help(least_difference)"
      ],
      "metadata": {
        "colab": {
          "base_uri": "https://localhost:8080/"
        },
        "id": "K0iybuMZmZ86",
        "outputId": "15554fab-32ed-47e4-aee6-3c0d3f56028b"
      },
      "execution_count": null,
      "outputs": [
        {
          "output_type": "stream",
          "name": "stdout",
          "text": [
            "Help on function least_difference in module __main__:\n",
            "\n",
            "least_difference(a, b, c)\n",
            "    Return the smallest difference between any two numbers among a, b, and c.\n",
            "    \n",
            "    >>> least_difference(1, 5, -5)\n",
            "    4\n",
            "\n"
          ]
        }
      ]
    },
    {
      "cell_type": "markdown",
      "source": [
        "We can pass in default arguments when creating our function"
      ],
      "metadata": {
        "id": "lESEG2bDnOoo"
      }
    },
    {
      "cell_type": "code",
      "source": [
        "def greet(who=\"Colin\"):\n",
        "  print(\"Hello,\", who)\n",
        "\n",
        "greet()\n",
        "greet(who=\"Kaggle\")\n",
        "greet(\"world\")"
      ],
      "metadata": {
        "colab": {
          "base_uri": "https://localhost:8080/"
        },
        "id": "OA61e9Ctm1Xm",
        "outputId": "2ac8b10e-5712-4b62-c0a7-238c7ed6d4f3"
      },
      "execution_count": null,
      "outputs": [
        {
          "output_type": "stream",
          "name": "stdout",
          "text": [
            "Hello, Colin\n",
            "Hello, Kaggle\n",
            "Hello, world\n"
          ]
        }
      ]
    },
    {
      "cell_type": "markdown",
      "source": [
        "We can even have functions applied to functions!"
      ],
      "metadata": {
        "id": "6luyQivfnjEm"
      }
    },
    {
      "cell_type": "code",
      "source": [
        "def mult_by_five(x):\n",
        "  return 5 * x\n",
        "\n",
        "def call(fn, arg):\n",
        "  \"\"\"Call fn on arg\"\"\"\n",
        "  return fn(arg)\n",
        "\n",
        "def squared_call(fn, arg):\n",
        "  \"\"\"Call fn on the result of calling fn on arg\"\"\"\n",
        "  return fn(fn(arg))\n",
        "\n",
        "print(\n",
        "    call(mult_by_five, 1),\n",
        "    squared_call(mult_by_five, 1),\n",
        "    sep='\\n', # \\n is newline character that starts a new lin e\n",
        ")"
      ],
      "metadata": {
        "colab": {
          "base_uri": "https://localhost:8080/"
        },
        "id": "8Ndpb2q4naYz",
        "outputId": "6d3ddc07-7c67-4793-f8af-c14cbac57653"
      },
      "execution_count": null,
      "outputs": [
        {
          "output_type": "stream",
          "name": "stdout",
          "text": [
            "5\n",
            "25\n"
          ]
        }
      ]
    },
    {
      "cell_type": "code",
      "source": [
        "def mod_5(x):\n",
        "  \"\"\"Return the remainder of x after dividing by 5\"\"\"\n",
        "  return x % 5\n",
        "\n",
        "print(\n",
        "    \"Which number is biggest?\",\n",
        "    max(100, 51, 14),\n",
        "    \"Which number is the biggest modulo 5?\",\n",
        "    max(100, 51, 14, key=mod_5),\n",
        "    sep='\\n',\n",
        ")"
      ],
      "metadata": {
        "colab": {
          "base_uri": "https://localhost:8080/"
        },
        "id": "_2hPqe-mn9_K",
        "outputId": "eed73cd0-4913-43b2-c614-9de8aa0fc58f"
      },
      "execution_count": null,
      "outputs": [
        {
          "output_type": "stream",
          "name": "stdout",
          "text": [
            "Which number is biggest?\n",
            "100\n",
            "Which number is the biggest modulo 5?\n",
            "14\n"
          ]
        }
      ]
    },
    {
      "cell_type": "markdown",
      "source": [
        "###Your Turn!"
      ],
      "metadata": {
        "id": "RocES1cEosWm"
      }
    },
    {
      "cell_type": "code",
      "source": [
        "def round_to_two_places(num):\n",
        "    \"\"\"Return the given number rounded to two decimal places. \n",
        "    \n",
        "    >>> round_to_two_places(3.14159)\n",
        "    3.14\n",
        "    \"\"\"\n",
        "    # Replace this body with your own code.\n",
        "    # (\"pass\" is a keyword that does literally nothing. We used it as a placeholder\n",
        "    # because after we begin a code block, Python requires at least one line of code)\n",
        "    return round(num, 2)"
      ],
      "metadata": {
        "id": "cic8yjE1oVg8"
      },
      "execution_count": null,
      "outputs": []
    },
    {
      "cell_type": "code",
      "source": [
        "print(round_to_two_places(3.14159))"
      ],
      "metadata": {
        "colab": {
          "base_uri": "https://localhost:8080/"
        },
        "id": "PQLlcLX8o2HZ",
        "outputId": "ebd1b366-c48f-4047-d3d8-ea51b8c2f52e"
      },
      "execution_count": null,
      "outputs": [
        {
          "output_type": "stream",
          "name": "stdout",
          "text": [
            "3.14\n"
          ]
        }
      ]
    },
    {
      "cell_type": "code",
      "source": [
        "def to_smash(total_candies, friends=3):\n",
        "    \"\"\"Return the number of leftover candies that must be smashed after distributing\n",
        "    the given number of candies evenly between 3 friends.\n",
        "    \n",
        "    >>> to_smash(91)\n",
        "    1\n",
        "    \"\"\"\n",
        "    return(total_candies % friends)"
      ],
      "metadata": {
        "id": "H8mx2mC_onHP"
      },
      "execution_count": null,
      "outputs": []
    },
    {
      "cell_type": "code",
      "source": [
        "print(to_smash(91))"
      ],
      "metadata": {
        "colab": {
          "base_uri": "https://localhost:8080/"
        },
        "id": "SS0ISUYipCYH",
        "outputId": "c8ee579f-4f21-4c88-b50c-41a071ffa6f1"
      },
      "execution_count": null,
      "outputs": [
        {
          "output_type": "stream",
          "name": "stdout",
          "text": [
            "1\n"
          ]
        }
      ]
    },
    {
      "cell_type": "code",
      "source": [
        ""
      ],
      "metadata": {
        "id": "Zf9IC4DGpGFE"
      },
      "execution_count": null,
      "outputs": []
    },
    {
      "cell_type": "markdown",
      "source": [
        "#Booleans"
      ],
      "metadata": {
        "id": "uKg9kY57c0ap"
      }
    },
    {
      "cell_type": "markdown",
      "source": [
        "A bool is a datatype with two possible values, True and False"
      ],
      "metadata": {
        "id": "jSiOzWHcc437"
      }
    },
    {
      "cell_type": "code",
      "source": [
        "x = True\n",
        "print(x)\n",
        "print(type(x))"
      ],
      "metadata": {
        "colab": {
          "base_uri": "https://localhost:8080/"
        },
        "id": "U1bZg3HTc1v5",
        "outputId": "3c0a1c6c-22de-4502-abe3-fc6d8c531522"
      },
      "execution_count": null,
      "outputs": [
        {
          "output_type": "stream",
          "name": "stdout",
          "text": [
            "True\n",
            "<class 'bool'>\n"
          ]
        }
      ]
    },
    {
      "cell_type": "markdown",
      "source": [
        "Comparison Operations\n",
        "\n",
        "We can compare bits of data \n",
        "\n",
        "a == b - a equal to b\n",
        "\n",
        "a < b - a less than b\n",
        "\n",
        "a <= b - a less than or equal to b\n",
        "\n",
        "a != b - a not equal to b\n",
        "\n",
        "a > b - a greater than b\n",
        "\n",
        "a >= b - a greater than or equal to b"
      ],
      "metadata": {
        "id": "3nrLugFOdNuw"
      }
    },
    {
      "cell_type": "markdown",
      "source": [
        "Example function using comparison operations"
      ],
      "metadata": {
        "id": "LVSLnM8idooD"
      }
    },
    {
      "cell_type": "code",
      "source": [
        "def can_run_for_president(age):\n",
        "  \"\"\"Can someone of the given age run for president in the US?\"\"\"\n",
        "  # The US Constitution says you must be at least 35 years old\n",
        "  return age >= 35"
      ],
      "metadata": {
        "id": "zPO0YzcTdBff"
      },
      "execution_count": null,
      "outputs": []
    },
    {
      "cell_type": "code",
      "source": [
        "print(\"Can a 19-year-old run for president?\", can_run_for_president(19))\n",
        "print(\"Can a 45-year-old run for president?\", can_run_for_president(45))"
      ],
      "metadata": {
        "colab": {
          "base_uri": "https://localhost:8080/"
        },
        "id": "Ssk7EuoFd3m5",
        "outputId": "8a2dc5d0-65b6-447d-940d-6afb10b1a07e"
      },
      "execution_count": null,
      "outputs": [
        {
          "output_type": "stream",
          "name": "stdout",
          "text": [
            "Can a 19-year-old run for president? False\n",
            "Can a 45-year-old run for president? True\n"
          ]
        }
      ]
    },
    {
      "cell_type": "code",
      "source": [
        "def is_odd(n):\n",
        "  return (n % 2) == 1"
      ],
      "metadata": {
        "id": "HgY3CoaUeDQL"
      },
      "execution_count": null,
      "outputs": []
    },
    {
      "cell_type": "code",
      "source": [
        "print(\"Is 100 odd?\", is_odd(100))\n",
        "print(\"Is -1 odd?\", is_odd(-1))"
      ],
      "metadata": {
        "colab": {
          "base_uri": "https://localhost:8080/"
        },
        "id": "zxWucJfMemWA",
        "outputId": "23618744-8b7a-4908-efaf-83f56759c115"
      },
      "execution_count": null,
      "outputs": [
        {
          "output_type": "stream",
          "name": "stdout",
          "text": [
            "Is 100 odd? False\n",
            "Is -1 odd? True\n"
          ]
        }
      ]
    },
    {
      "cell_type": "markdown",
      "source": [
        "We can combine boolean values to check even more conditional statements"
      ],
      "metadata": {
        "id": "uph7JKSiewdR"
      }
    },
    {
      "cell_type": "code",
      "source": [
        "def can_run_for_president(age, is_natural_born_citizen):\n",
        "  \"\"\"Can someone of the given age and citizenship status run for president in the US?\"\"\"\n",
        "  return is_natural_born_citizen and (age >= 35)"
      ],
      "metadata": {
        "id": "Q7Ag7xwiesfQ"
      },
      "execution_count": null,
      "outputs": []
    },
    {
      "cell_type": "code",
      "source": [
        "print(can_run_for_president(19, True))\n",
        "print(can_run_for_president(55, False))\n",
        "print(can_run_for_president(55, True))"
      ],
      "metadata": {
        "colab": {
          "base_uri": "https://localhost:8080/"
        },
        "id": "6xEQCGOue-hx",
        "outputId": "6af7aaa7-4583-41d6-8bb9-b4f10d0185a5"
      },
      "execution_count": null,
      "outputs": [
        {
          "output_type": "stream",
          "name": "stdout",
          "text": [
            "False\n",
            "False\n",
            "True\n"
          ]
        }
      ]
    },
    {
      "cell_type": "markdown",
      "source": [
        "Conditional Statements (If-Else)"
      ],
      "metadata": {
        "id": "Gt9wsOAgfXWR"
      }
    },
    {
      "cell_type": "code",
      "source": [
        "def inspect(x):\n",
        "  if x == 0:\n",
        "    print(x, \"is zero\")\n",
        "  elif x > 0:\n",
        "    print(x, \"is positive\")\n",
        "  elif x < 0:\n",
        "    print(x, \"is negative\")\n",
        "  else:\n",
        "    print(x, \"is unlike anything I've ever seen...\")"
      ],
      "metadata": {
        "id": "gVUla4X0fGmy"
      },
      "execution_count": null,
      "outputs": []
    },
    {
      "cell_type": "code",
      "source": [
        "inspect(0)"
      ],
      "metadata": {
        "colab": {
          "base_uri": "https://localhost:8080/"
        },
        "id": "FXPGdC56foJJ",
        "outputId": "a870d849-6063-4622-88e6-37a0619b666b"
      },
      "execution_count": null,
      "outputs": [
        {
          "output_type": "stream",
          "name": "stdout",
          "text": [
            "0 is zero\n"
          ]
        }
      ]
    },
    {
      "cell_type": "code",
      "source": [
        "inspect(-15)"
      ],
      "metadata": {
        "colab": {
          "base_uri": "https://localhost:8080/"
        },
        "id": "WqmgQqzyfpdv",
        "outputId": "656e6581-cfb2-4ee9-a90e-ab314b171454"
      },
      "execution_count": null,
      "outputs": [
        {
          "output_type": "stream",
          "name": "stdout",
          "text": [
            "-15 is negative\n"
          ]
        }
      ]
    },
    {
      "cell_type": "markdown",
      "source": [
        "###Your Turn"
      ],
      "metadata": {
        "id": "k5hS6MedgDXf"
      }
    },
    {
      "cell_type": "markdown",
      "source": [
        "define a function called sign which takes a numerical argument and returns -1 if it's negative, 1 if it's positive, and 0 if it's 0."
      ],
      "metadata": {
        "id": "97G5y_hLgI7K"
      }
    },
    {
      "cell_type": "code",
      "source": [
        "def sign(num):\n",
        "  if num == 0:\n",
        "    return 0\n",
        "  elif num > 0:\n",
        "    return 1\n",
        "  else:\n",
        "    return -1"
      ],
      "metadata": {
        "id": "8cMUtHz4hFAh"
      },
      "execution_count": null,
      "outputs": []
    },
    {
      "cell_type": "code",
      "source": [
        "def to_smash(total_candies):\n",
        "    \"\"\"Return the number of leftover candies that must be smashed after distributing\n",
        "    the given number of candies evenly between 3 friends.\n",
        "    \n",
        "    >>> to_smash(91)\n",
        "    1\n",
        "    \"\"\"\n",
        "    if total_candies == 1:\n",
        "        candy = \"candy\"\n",
        "    else:\n",
        "        candy = \"candies\"\n",
        "    print(\"Splitting\", total_candies, candy)\n",
        "    return total_candies % 3\n",
        "\n",
        "to_smash(91)\n",
        "to_smash(1)"
      ],
      "metadata": {
        "colab": {
          "base_uri": "https://localhost:8080/"
        },
        "id": "NX2ZS25pfqdH",
        "outputId": "f8382140-844f-4828-f467-5bef842794c6"
      },
      "execution_count": null,
      "outputs": [
        {
          "output_type": "stream",
          "name": "stdout",
          "text": [
            "Splitting 91 candies\n",
            "Splitting 1 candy\n"
          ]
        },
        {
          "output_type": "execute_result",
          "data": {
            "text/plain": [
              "1"
            ]
          },
          "metadata": {},
          "execution_count": 13
        }
      ]
    },
    {
      "cell_type": "markdown",
      "source": [
        "In this problem we'll be working with a simplified version of blackjack (aka twenty-one). In this version there is one player (who you'll control) and a dealer. Play proceeds as follows:\n",
        "\n",
        "The player is dealt two face-up cards. The dealer is dealt one face-up card.\n",
        "The player may ask to be dealt another card ('hit') as many times as they wish. If the sum of their cards exceeds 21, they lose the round immediately.\n",
        "The dealer then deals additional cards to himself until either:\n",
        "the sum of the dealer's cards exceeds 21, in which case the player wins the round\n",
        "the sum of the dealer's cards is greater than or equal to 17. If the player's total is greater than the dealer's, the player wins. Otherwise, the dealer wins (even in case of a tie).\n",
        "When calculating the sum of cards, Jack, Queen, and King count for 10. Aces can count as 1 or 11 (when referring to a player's \"total\" above, we mean the largest total that can be made without exceeding 21. So e.g. A+8 = 19, A+8+8 = 17)\n",
        "\n",
        "For this problem, you'll write a function representing the player's decision-making strategy in this game. We've provided a very unintelligent implementation below:"
      ],
      "metadata": {
        "id": "Y-o2tacygvWi"
      }
    },
    {
      "cell_type": "code",
      "source": [
        "def should_hit(dealer_total, player_total, player_low_aces, player_high_aces):\n",
        "    \"\"\"Return True if the player should hit (request another card) given the current game\n",
        "    state, or False if the player should stay.\n",
        "    When calculating a hand's total value, we count aces as \"high\" (with value 11) if doing so\n",
        "    doesn't bring the total above 21, otherwise we count them as low (with value 1). \n",
        "    For example, if the player's hand is {A, A, A, 7}, we will count it as 11 + 1 + 1 + 7,\n",
        "    and therefore set player_total=20, player_low_aces=2, player_high_aces=1.\n",
        "    \"\"\"\n",
        "    return (player_total < 17) or (player_total < dealer_total) "
      ],
      "metadata": {
        "id": "1tKSSvvdgTcJ"
      },
      "execution_count": null,
      "outputs": []
    },
    {
      "cell_type": "markdown",
      "source": [
        "#Lists"
      ],
      "metadata": {
        "id": "-6l06a3yjj7n"
      }
    },
    {
      "cell_type": "markdown",
      "source": [
        "Lists can be numeric:"
      ],
      "metadata": {
        "id": "F7jb9zGNjqwK"
      }
    },
    {
      "cell_type": "code",
      "source": [
        "primes = [2, 3, 5, 7]"
      ],
      "metadata": {
        "id": "T44zSzwxjknb"
      },
      "execution_count": null,
      "outputs": []
    },
    {
      "cell_type": "markdown",
      "source": [
        "Lists can be strings:"
      ],
      "metadata": {
        "id": "cjcOEAdcjvQT"
      }
    },
    {
      "cell_type": "code",
      "source": [
        "planets = [\"Mercury\", \"Venus\", \"Earth\", \"Mars\", \"Jupiter\", \"Saturn\", \"Uranus\", \"Neptune\"]"
      ],
      "metadata": {
        "id": "w_N_-2S4jt_r"
      },
      "execution_count": null,
      "outputs": []
    },
    {
      "cell_type": "markdown",
      "source": [
        "Lists can be made of lists!"
      ],
      "metadata": {
        "id": "4_jg8orqj49M"
      }
    },
    {
      "cell_type": "code",
      "source": [
        "hands = [\n",
        "         ['J', 'Q', 'K'],\n",
        "         ['2', '2', '2'],\n",
        "         ['6', 'A', 'K'],\n",
        "]"
      ],
      "metadata": {
        "id": "bTeNpUXTj3Sj"
      },
      "execution_count": null,
      "outputs": []
    },
    {
      "cell_type": "markdown",
      "source": [
        "Lists can contain a mix of different things"
      ],
      "metadata": {
        "id": "Ryrp7FErkLBz"
      }
    },
    {
      "cell_type": "code",
      "source": [
        "my_favorite_things = [32, \"raindrops on roses\", help]"
      ],
      "metadata": {
        "id": "igvgkqyqkFXb"
      },
      "execution_count": null,
      "outputs": []
    },
    {
      "cell_type": "markdown",
      "source": [
        "We use indexing to access individual elements from a list"
      ],
      "metadata": {
        "id": "GlZcYq0KkSPS"
      }
    },
    {
      "cell_type": "code",
      "source": [
        "planets[0]"
      ],
      "metadata": {
        "colab": {
          "base_uri": "https://localhost:8080/",
          "height": 35
        },
        "id": "X_QI3iFRkP5b",
        "outputId": "de31a22a-4984-4bdf-8e63-0baf50086638"
      },
      "execution_count": null,
      "outputs": [
        {
          "output_type": "execute_result",
          "data": {
            "text/plain": [
              "'Mercury'"
            ],
            "application/vnd.google.colaboratory.intrinsic+json": {
              "type": "string"
            }
          },
          "metadata": {},
          "execution_count": 20
        }
      ]
    },
    {
      "cell_type": "code",
      "source": [
        "planets[-1]"
      ],
      "metadata": {
        "colab": {
          "base_uri": "https://localhost:8080/",
          "height": 35
        },
        "id": "YzMIRqEbkVSj",
        "outputId": "37a2164f-2a8d-408c-f13f-bf76979554ef"
      },
      "execution_count": null,
      "outputs": [
        {
          "output_type": "execute_result",
          "data": {
            "text/plain": [
              "'Neptune'"
            ],
            "application/vnd.google.colaboratory.intrinsic+json": {
              "type": "string"
            }
          },
          "metadata": {},
          "execution_count": 21
        }
      ]
    },
    {
      "cell_type": "markdown",
      "source": [
        "We can use slicing to access groups of elements from a list"
      ],
      "metadata": {
        "id": "75hvKvNqkZwu"
      }
    },
    {
      "cell_type": "code",
      "source": [
        "planets[0:3]"
      ],
      "metadata": {
        "colab": {
          "base_uri": "https://localhost:8080/"
        },
        "id": "eRoGL3JZkXgj",
        "outputId": "b2622cf6-7bd4-4f61-a99b-ceca8ce5e0a4"
      },
      "execution_count": null,
      "outputs": [
        {
          "output_type": "execute_result",
          "data": {
            "text/plain": [
              "['Mercury', 'Venus', 'Earth']"
            ]
          },
          "metadata": {},
          "execution_count": 22
        }
      ]
    },
    {
      "cell_type": "code",
      "source": [
        "planets[:3]"
      ],
      "metadata": {
        "colab": {
          "base_uri": "https://localhost:8080/"
        },
        "id": "8qHPcY5kkdTT",
        "outputId": "f2a7e70a-3026-46c2-df94-7451fcac47a6"
      },
      "execution_count": null,
      "outputs": [
        {
          "output_type": "execute_result",
          "data": {
            "text/plain": [
              "['Mercury', 'Venus', 'Earth']"
            ]
          },
          "metadata": {},
          "execution_count": 23
        }
      ]
    },
    {
      "cell_type": "code",
      "source": [
        "planets[3:]"
      ],
      "metadata": {
        "colab": {
          "base_uri": "https://localhost:8080/"
        },
        "id": "pjIZKs1ZkfTT",
        "outputId": "aa5d118a-8a3f-4c37-90db-4985a509357a"
      },
      "execution_count": null,
      "outputs": [
        {
          "output_type": "execute_result",
          "data": {
            "text/plain": [
              "['Mars', 'Jupiter', 'Saturn', 'Uranus', 'Neptune']"
            ]
          },
          "metadata": {},
          "execution_count": 24
        }
      ]
    },
    {
      "cell_type": "code",
      "source": [
        "planets[1:-1]"
      ],
      "metadata": {
        "colab": {
          "base_uri": "https://localhost:8080/"
        },
        "id": "eNzhrSlykg5D",
        "outputId": "45ea786b-b71d-41e3-bb34-311aa6ae27b8"
      },
      "execution_count": null,
      "outputs": [
        {
          "output_type": "execute_result",
          "data": {
            "text/plain": [
              "['Venus', 'Earth', 'Mars', 'Jupiter', 'Saturn', 'Uranus']"
            ]
          },
          "metadata": {},
          "execution_count": 25
        }
      ]
    },
    {
      "cell_type": "code",
      "source": [
        "planets[-3:]"
      ],
      "metadata": {
        "colab": {
          "base_uri": "https://localhost:8080/"
        },
        "id": "RkzUvFKnkj1r",
        "outputId": "c3d0b2a2-b0c1-450c-c6bb-c18a69374ea7"
      },
      "execution_count": null,
      "outputs": [
        {
          "output_type": "execute_result",
          "data": {
            "text/plain": [
              "['Saturn', 'Uranus', 'Neptune']"
            ]
          },
          "metadata": {},
          "execution_count": 26
        }
      ]
    },
    {
      "cell_type": "markdown",
      "source": [
        "We can change individual items in a list"
      ],
      "metadata": {
        "id": "l_GO2uvekpF1"
      }
    },
    {
      "cell_type": "code",
      "source": [
        "print(planets)\n",
        "planets[3] = \"Malacandra\"\n",
        "print(planets)"
      ],
      "metadata": {
        "colab": {
          "base_uri": "https://localhost:8080/"
        },
        "id": "AW67hsBPkmyj",
        "outputId": "7cfe168f-9b4f-4d5c-f864-55f05c98ee9f"
      },
      "execution_count": null,
      "outputs": [
        {
          "output_type": "stream",
          "name": "stdout",
          "text": [
            "['Mercury', 'Venus', 'Earth', 'Mars', 'Jupiter', 'Saturn', 'Uranus', 'Neptune']\n",
            "['Mercury', 'Venus', 'Earth', 'Malacandra', 'Jupiter', 'Saturn', 'Uranus', 'Neptune']\n"
          ]
        }
      ]
    },
    {
      "cell_type": "markdown",
      "source": [
        "Lists have their own functions as well!"
      ],
      "metadata": {
        "id": "zF-Ss1D0k2pq"
      }
    },
    {
      "cell_type": "code",
      "source": [
        "# We can find the length of a list\n",
        "len(planets)"
      ],
      "metadata": {
        "colab": {
          "base_uri": "https://localhost:8080/"
        },
        "id": "787SlnrpkvyL",
        "outputId": "dd5f7df4-41ff-4f4d-8f91-607dd438eb6f"
      },
      "execution_count": null,
      "outputs": [
        {
          "output_type": "execute_result",
          "data": {
            "text/plain": [
              "8"
            ]
          },
          "metadata": {},
          "execution_count": 28
        }
      ]
    },
    {
      "cell_type": "code",
      "source": [
        "# We can sort a list\n",
        "print(planets)\n",
        "print(sorted(planets))"
      ],
      "metadata": {
        "colab": {
          "base_uri": "https://localhost:8080/"
        },
        "id": "hPcLN25sk7Rz",
        "outputId": "375fad3c-0182-4383-e153-30c60b12dd7e"
      },
      "execution_count": null,
      "outputs": [
        {
          "output_type": "stream",
          "name": "stdout",
          "text": [
            "['Mercury', 'Venus', 'Earth', 'Malacandra', 'Jupiter', 'Saturn', 'Uranus', 'Neptune']\n",
            "['Earth', 'Jupiter', 'Malacandra', 'Mercury', 'Neptune', 'Saturn', 'Uranus', 'Venus']\n"
          ]
        }
      ]
    },
    {
      "cell_type": "code",
      "source": [
        "# We can sum up a list of numbers\n",
        "primes = [2, 3, 5, 7]\n",
        "sum(primes)"
      ],
      "metadata": {
        "colab": {
          "base_uri": "https://localhost:8080/"
        },
        "id": "vsP6ko0jlBiz",
        "outputId": "7d05cbbd-a63c-4735-fc84-e198e3d7d9e2"
      },
      "execution_count": null,
      "outputs": [
        {
          "output_type": "execute_result",
          "data": {
            "text/plain": [
              "17"
            ]
          },
          "metadata": {},
          "execution_count": 30
        }
      ]
    },
    {
      "cell_type": "code",
      "source": [
        "# We can find the max number in a list of numbers\n",
        "max(primes)"
      ],
      "metadata": {
        "colab": {
          "base_uri": "https://localhost:8080/"
        },
        "id": "OR4ujdyglLkk",
        "outputId": "7485ae3d-b4b1-4126-a246-70e4a428847c"
      },
      "execution_count": null,
      "outputs": [
        {
          "output_type": "execute_result",
          "data": {
            "text/plain": [
              "7"
            ]
          },
          "metadata": {},
          "execution_count": 31
        }
      ]
    },
    {
      "cell_type": "code",
      "source": [
        ""
      ],
      "metadata": {
        "id": "wF53h_UBllO7"
      },
      "execution_count": null,
      "outputs": []
    },
    {
      "cell_type": "markdown",
      "source": [
        "#Loops and List Comprehension"
      ],
      "metadata": {
        "id": "pfD6rn6fzVJz"
      }
    },
    {
      "cell_type": "markdown",
      "source": [
        "You can use loops to repeatedly execute code"
      ],
      "metadata": {
        "id": "fG3diwR8zbgJ"
      }
    },
    {
      "cell_type": "code",
      "source": [
        "planets = ['Mercury', 'Venus', 'Earth', 'Mars', 'Jupiter', 'Saturn', 'Uranus', 'Neptune']\n",
        "for planet in planets:\n",
        "  print(planet, end=' ') # print all on same line"
      ],
      "metadata": {
        "colab": {
          "base_uri": "https://localhost:8080/"
        },
        "id": "C7YqL0aLzX7A",
        "outputId": "e5a74e65-4914-47bf-85c9-7a57859754cf"
      },
      "execution_count": null,
      "outputs": [
        {
          "output_type": "stream",
          "name": "stdout",
          "text": [
            "Mercury Venus Earth Mars Jupiter Saturn Uranus Neptune "
          ]
        }
      ]
    },
    {
      "cell_type": "markdown",
      "source": [
        "Loops can be used for iteration as well!"
      ],
      "metadata": {
        "id": "esylBlfwzst1"
      }
    },
    {
      "cell_type": "code",
      "source": [
        "multiplicands = (2, 2, 2, 3, 3, 5)\n",
        "product = 1\n",
        "for mult in multiplicands:\n",
        "  product = product * mult\n",
        "product"
      ],
      "metadata": {
        "colab": {
          "base_uri": "https://localhost:8080/"
        },
        "id": "MeFg0krNzlnW",
        "outputId": "d49dfb67-cc4e-4ec4-c509-60b785082bc2"
      },
      "execution_count": null,
      "outputs": [
        {
          "output_type": "execute_result",
          "data": {
            "text/plain": [
              "360"
            ]
          },
          "metadata": {},
          "execution_count": 2
        }
      ]
    },
    {
      "cell_type": "markdown",
      "source": [
        "You can use loops to loop through each character in a string"
      ],
      "metadata": {
        "id": "zCAGLqvaz6zU"
      }
    },
    {
      "cell_type": "code",
      "source": [
        "s = 'steganograpHy is the practicE of conceaLing a file, message, image, or video within another fiLe, message, image, Or video.'\n",
        "msg = ''\n",
        "# print all the upercase letters in s, one at a time\n",
        "for char in s:\n",
        "  if char.isupper():\n",
        "    print(char, end='')"
      ],
      "metadata": {
        "colab": {
          "base_uri": "https://localhost:8080/"
        },
        "id": "FrtfFERLz5AO",
        "outputId": "b6a4416e-6928-423f-cbde-ae4652f74e28"
      },
      "execution_count": null,
      "outputs": [
        {
          "output_type": "stream",
          "name": "stdout",
          "text": [
            "HELLO"
          ]
        }
      ]
    },
    {
      "cell_type": "markdown",
      "source": [
        "We can use a range to determine sequence of numbers"
      ],
      "metadata": {
        "id": "Q_TyYaDZ0L84"
      }
    },
    {
      "cell_type": "code",
      "source": [
        "for i in range(5):\n",
        "  print(\"Doing important work. i =\", i)"
      ],
      "metadata": {
        "colab": {
          "base_uri": "https://localhost:8080/"
        },
        "id": "qGQtzn_20HBY",
        "outputId": "b0a9ba12-b107-4321-a2b3-3334dd45b857"
      },
      "execution_count": null,
      "outputs": [
        {
          "output_type": "stream",
          "name": "stdout",
          "text": [
            "Doing important work. i = 0\n",
            "Doing important work. i = 1\n",
            "Doing important work. i = 2\n",
            "Doing important work. i = 3\n",
            "Doing important work. i = 4\n"
          ]
        }
      ]
    },
    {
      "cell_type": "markdown",
      "source": [
        "While loops can be used to iterate through code repeatedly until a condition is met"
      ],
      "metadata": {
        "id": "_d0Ra1OO0VUd"
      }
    },
    {
      "cell_type": "code",
      "source": [
        "i = 0\n",
        "while i < 10:\n",
        "  print(i, end=' ')\n",
        "  i += 1 #increase the value of i by 1 or our code will run forever"
      ],
      "metadata": {
        "colab": {
          "base_uri": "https://localhost:8080/"
        },
        "id": "NuNz1vlV0Tw2",
        "outputId": "5691a36a-fa34-4a1f-ddab-b1605e8e21d4"
      },
      "execution_count": null,
      "outputs": [
        {
          "output_type": "stream",
          "name": "stdout",
          "text": [
            "0 1 2 3 4 5 6 7 8 9 "
          ]
        }
      ]
    },
    {
      "cell_type": "markdown",
      "source": [
        "Here are some list comprehension examples now!"
      ],
      "metadata": {
        "id": "7gHUNBuD0krX"
      }
    },
    {
      "cell_type": "code",
      "source": [
        "squares = [n**2 for n in range(10)]\n",
        "squares"
      ],
      "metadata": {
        "colab": {
          "base_uri": "https://localhost:8080/"
        },
        "id": "xAHPFd1s0f5-",
        "outputId": "28eaf6a4-6be4-4a0a-8d2f-dd55b9a957d3"
      },
      "execution_count": null,
      "outputs": [
        {
          "output_type": "execute_result",
          "data": {
            "text/plain": [
              "[0, 1, 4, 9, 16, 25, 36, 49, 64, 81]"
            ]
          },
          "metadata": {},
          "execution_count": 7
        }
      ]
    },
    {
      "cell_type": "markdown",
      "source": [
        "List comprehension with an if condition!"
      ],
      "metadata": {
        "id": "WuJWZBS40tkh"
      }
    },
    {
      "cell_type": "code",
      "source": [
        "short_planets = [planet for planet in planets if len(planet) < 6]\n",
        "short_planets"
      ],
      "metadata": {
        "colab": {
          "base_uri": "https://localhost:8080/"
        },
        "id": "cG1THYPD0qCO",
        "outputId": "aa539ee4-3b7b-4774-e34d-79c94d126aca"
      },
      "execution_count": null,
      "outputs": [
        {
          "output_type": "execute_result",
          "data": {
            "text/plain": [
              "['Venus', 'Earth', 'Mars']"
            ]
          },
          "metadata": {},
          "execution_count": 8
        }
      ]
    },
    {
      "cell_type": "markdown",
      "source": [
        "List comprehension with some if condition filtering and some transformation"
      ],
      "metadata": {
        "id": "7Izy5jBY05sZ"
      }
    },
    {
      "cell_type": "code",
      "source": [
        "# str.upper() returns an all-caps version of a string\n",
        "loud_short_planets = [planet.upper() + '!' for planet in planets if len(planet) < 6]\n",
        "loud_short_planets"
      ],
      "metadata": {
        "colab": {
          "base_uri": "https://localhost:8080/"
        },
        "id": "7tmNKLxw00x9",
        "outputId": "9dab3aa6-982e-4a6e-e6f5-d83a35298c29"
      },
      "execution_count": null,
      "outputs": [
        {
          "output_type": "execute_result",
          "data": {
            "text/plain": [
              "['VENUS!', 'EARTH!', 'MARS!']"
            ]
          },
          "metadata": {},
          "execution_count": 9
        }
      ]
    },
    {
      "cell_type": "markdown",
      "source": [
        "###Your Turn"
      ],
      "metadata": {
        "id": "MTGNWl451aHf"
      }
    },
    {
      "cell_type": "code",
      "source": [
        "def has_lucky_number(nums):\n",
        "    \"\"\"Return whether the given list of numbers is lucky. A lucky list contains\n",
        "    at least one number divisible by 7.\"\"\"\n",
        "    for num in nums:\n",
        "      if num % 7 == 0:\n",
        "        return True\n",
        "    \n",
        "    return False\n",
        "\n",
        "nums1 = [0, 1, 2, 3, 4, 5, 6, 8]\n",
        "nums2 = [234, 1234, 75346, 12345, 8356]\n",
        "nums3 = [2134, 623465, 87456, 7, 324]\n",
        "print(has_lucky_number(nums1))\n",
        "print(has_lucky_number(nums2))\n",
        "print(has_lucky_number(nums3))"
      ],
      "metadata": {
        "colab": {
          "base_uri": "https://localhost:8080/"
        },
        "id": "NdRvvQF_1GLv",
        "outputId": "8d5b44b6-006c-4311-a118-b70a7d10e1c2"
      },
      "execution_count": null,
      "outputs": [
        {
          "output_type": "stream",
          "name": "stdout",
          "text": [
            "True\n",
            "False\n",
            "True\n"
          ]
        }
      ]
    },
    {
      "cell_type": "markdown",
      "source": [
        "Run the code below to see what happens"
      ],
      "metadata": {
        "id": "yw1bK0BW1wyd"
      }
    },
    {
      "cell_type": "code",
      "source": [
        "[1, 2, 3, 4] > 2"
      ],
      "metadata": {
        "colab": {
          "base_uri": "https://localhost:8080/",
          "height": 165
        },
        "id": "Sfh7eTJz1vPd",
        "outputId": "460f86cc-75c6-441c-c21c-d4ab319d4c92"
      },
      "execution_count": null,
      "outputs": [
        {
          "output_type": "error",
          "ename": "TypeError",
          "evalue": "ignored",
          "traceback": [
            "\u001b[0;31m---------------------------------------------------------------------------\u001b[0m",
            "\u001b[0;31mTypeError\u001b[0m                                 Traceback (most recent call last)",
            "\u001b[0;32m<ipython-input-12-6f064fcfe2b9>\u001b[0m in \u001b[0;36m<module>\u001b[0;34m()\u001b[0m\n\u001b[0;32m----> 1\u001b[0;31m \u001b[0;34m[\u001b[0m\u001b[0;36m1\u001b[0m\u001b[0;34m,\u001b[0m \u001b[0;36m2\u001b[0m\u001b[0;34m,\u001b[0m \u001b[0;36m3\u001b[0m\u001b[0;34m,\u001b[0m \u001b[0;36m4\u001b[0m\u001b[0;34m]\u001b[0m \u001b[0;34m>\u001b[0m \u001b[0;36m2\u001b[0m\u001b[0;34m\u001b[0m\u001b[0;34m\u001b[0m\u001b[0m\n\u001b[0m",
            "\u001b[0;31mTypeError\u001b[0m: '>' not supported between instances of 'list' and 'int'"
          ]
        }
      ]
    },
    {
      "cell_type": "code",
      "source": [
        "def elementwise_greater_than(L, thresh):\n",
        "    \"\"\"Return a list with the same length as L, where the value at index i is \n",
        "    True if L[i] is greater than thresh, and False otherwise.\n",
        "    \n",
        "    >>> elementwise_greater_than([1, 2, 3, 4], 2)\n",
        "    [False, False, True, True]\n",
        "    \"\"\"\n",
        "    isGreaterThan = []\n",
        "    for i in range(len(L)):\n",
        "      if L[i] > thresh:\n",
        "        isGreaterThan.append(True)\n",
        "      else:\n",
        "        isGreaterThan.append(False)\n",
        "    return isGreaterThan\n",
        "\n",
        "print(elementwise_greater_than([1, 2, 3, 4], 2))"
      ],
      "metadata": {
        "colab": {
          "base_uri": "https://localhost:8080/"
        },
        "id": "406hd1fo119g",
        "outputId": "881e8339-6d16-42f8-82a2-75489ab98b57"
      },
      "execution_count": null,
      "outputs": [
        {
          "output_type": "stream",
          "name": "stdout",
          "text": [
            "[False, False, True, True]\n"
          ]
        }
      ]
    },
    {
      "cell_type": "code",
      "source": [
        "def menu_is_boring(meals):\n",
        "    \"\"\"Given a list of meals served over some period of time, return True if the\n",
        "    same meal has ever been served two days in a row, and False otherwise.\n",
        "    \"\"\"\n",
        "    for i in range(len(meals) - 1):\n",
        "      if meals[i] == meals[i+1]:\n",
        "        return True\n",
        "\n",
        "    return False\n",
        "\n",
        "menu_is_boring([\"Cottage Cheese\", \"Pancakes\", \"Pancakes\", \"Sausage\", \"Eggs\", \"Brownie\", \"Cake\"])"
      ],
      "metadata": {
        "colab": {
          "base_uri": "https://localhost:8080/"
        },
        "id": "lUerYEl-15II",
        "outputId": "c37cc311-09ce-40d7-8479-3a731f552dc2"
      },
      "execution_count": null,
      "outputs": [
        {
          "output_type": "execute_result",
          "data": {
            "text/plain": [
              "True"
            ]
          },
          "metadata": {},
          "execution_count": 26
        }
      ]
    },
    {
      "cell_type": "code",
      "source": [
        "import random\n",
        "def play_slot_machine():\n",
        "  result = random.randrange(1, 10000)\n",
        "  if result < 10:\n",
        "    return 1\n",
        "  elif result < 5:\n",
        "    return 10\n",
        "  elif result == 1:\n",
        "    return 100\n",
        "  else:\n",
        "    return 0"
      ],
      "metadata": {
        "id": "8aILU7fb5Z3Y"
      },
      "execution_count": null,
      "outputs": []
    },
    {
      "cell_type": "code",
      "source": [
        "def estimate_average_slot_payout(n_runs):\n",
        "    \"\"\"Run the slot machine n_runs times and return the average net profit per run.\n",
        "    Example calls (note that return value is nondeterministic!):\n",
        "    >>> estimate_average_slot_payout(1)\n",
        "    -1\n",
        "    >>> estimate_average_slot_payout(1)\n",
        "    0.5\n",
        "    \"\"\"\n",
        "    net_total = 0\n",
        "    for _ in range(n_runs):\n",
        "      net_total -= 1\n",
        "      net_total += play_slot_machine()\n",
        "    return net_total/n_runs\n",
        "\n",
        "estimate_average_slot_payout(999999)"
      ],
      "metadata": {
        "colab": {
          "base_uri": "https://localhost:8080/"
        },
        "id": "Dzh5EnsQ19X6",
        "outputId": "eaf28d13-f2ed-4799-fb63-dcacf3b022a9"
      },
      "execution_count": null,
      "outputs": [
        {
          "output_type": "execute_result",
          "data": {
            "text/plain": [
              "-0.9990929990929991"
            ]
          },
          "metadata": {},
          "execution_count": 32
        }
      ]
    },
    {
      "cell_type": "markdown",
      "source": [
        "#Strings and Dictionaries"
      ],
      "metadata": {
        "id": "0GJgqlZa-at9"
      }
    },
    {
      "cell_type": "markdown",
      "source": [
        "The backslash character is used as an escape sequence allowing the program to ignore what would otherwise be an important symbol"
      ],
      "metadata": {
        "id": "XaXiCnrxGrDj"
      }
    },
    {
      "cell_type": "code",
      "source": [
        "print('what\\'s up?') # \\'\n",
        "print(\"That's \\\"cool\\\"\") # \\\"\n",
        "print(\"Look, a mountain: /\\\\\") # \\\\\n",
        "print(\"1\\n2 3\") # \\n"
      ],
      "metadata": {
        "id": "GMooYcFe6b4H",
        "colab": {
          "base_uri": "https://localhost:8080/"
        },
        "outputId": "d63ffb77-ee95-40bd-ce31-a069030b3510"
      },
      "execution_count": 1,
      "outputs": [
        {
          "output_type": "stream",
          "name": "stdout",
          "text": [
            "what's up?\n",
            "That's \"cool\"\n",
            "Look, a mountain: /\\\n",
            "1\n",
            "2 3\n"
          ]
        }
      ]
    },
    {
      "cell_type": "code",
      "source": [
        "hello = \"hello\\nworld\"\n",
        "print(hello)"
      ],
      "metadata": {
        "colab": {
          "base_uri": "https://localhost:8080/"
        },
        "id": "HFUNGJbMHHJB",
        "outputId": "fe18a048-2e4a-4ba1-cc6e-25b6baf118b0"
      },
      "execution_count": 2,
      "outputs": [
        {
          "output_type": "stream",
          "name": "stdout",
          "text": [
            "hello\n",
            "world\n"
          ]
        }
      ]
    },
    {
      "cell_type": "markdown",
      "source": [
        "Triple quote strings allow us to use newlines literally - by pressing enter on the keybaord"
      ],
      "metadata": {
        "id": "4lSW6uY6HXf1"
      }
    },
    {
      "cell_type": "code",
      "source": [
        "triplequoted_hello = \"\"\"hello\n",
        "world\"\"\"\n",
        "print(triplequoted_hello)\n",
        "triplequoted_hello == hello"
      ],
      "metadata": {
        "colab": {
          "base_uri": "https://localhost:8080/"
        },
        "id": "DSdi4l_tHTjy",
        "outputId": "546ac613-6813-49bd-d383-cc5c335bd7b8"
      },
      "execution_count": 3,
      "outputs": [
        {
          "output_type": "stream",
          "name": "stdout",
          "text": [
            "hello\n",
            "world\n"
          ]
        },
        {
          "output_type": "execute_result",
          "data": {
            "text/plain": [
              "True"
            ]
          },
          "metadata": {},
          "execution_count": 3
        }
      ]
    },
    {
      "cell_type": "markdown",
      "source": [
        "The print function automatically creates a newline character unless we specify a value for the end keyword argument"
      ],
      "metadata": {
        "id": "RAx2oMOdKBcV"
      }
    },
    {
      "cell_type": "code",
      "source": [
        "print(\"hello\")\n",
        "print(\"world\")\n",
        "print(\"hello\", end='')\n",
        "print(\"pluto\", end='')"
      ],
      "metadata": {
        "colab": {
          "base_uri": "https://localhost:8080/"
        },
        "id": "1d5f6kkuHi2y",
        "outputId": "62ed7c2f-cc5d-466b-bfdb-5d013c4e116e"
      },
      "execution_count": 4,
      "outputs": [
        {
          "output_type": "stream",
          "name": "stdout",
          "text": [
            "hello\n",
            "world\n",
            "hellopluto"
          ]
        }
      ]
    },
    {
      "cell_type": "markdown",
      "source": [
        "Strings contain methods much like lists do."
      ],
      "metadata": {
        "id": "GxZ1zCXSKTkZ"
      }
    },
    {
      "cell_type": "code",
      "source": [
        "# We can uppercase the whole string\n",
        "claim = \"Pluto is a planet!\"\n",
        "print(claim)\n",
        "claim.upper()"
      ],
      "metadata": {
        "colab": {
          "base_uri": "https://localhost:8080/",
          "height": 52
        },
        "id": "JNsJN__gKNKe",
        "outputId": "753ee0b1-64e3-4c66-8028-47011db0dbda"
      },
      "execution_count": 6,
      "outputs": [
        {
          "output_type": "stream",
          "name": "stdout",
          "text": [
            "Pluto is a planet!\n"
          ]
        },
        {
          "output_type": "execute_result",
          "data": {
            "text/plain": [
              "'PLUTO IS A PLANET!'"
            ],
            "application/vnd.google.colaboratory.intrinsic+json": {
              "type": "string"
            }
          },
          "metadata": {},
          "execution_count": 6
        }
      ]
    },
    {
      "cell_type": "code",
      "source": [
        "# We can lowercase the whole string\n",
        "print(claim)\n",
        "claim.lower()"
      ],
      "metadata": {
        "colab": {
          "base_uri": "https://localhost:8080/",
          "height": 52
        },
        "id": "hGSOWUG5Kej1",
        "outputId": "a9ac8303-e00e-4811-a831-b892e0e7c2f8"
      },
      "execution_count": 7,
      "outputs": [
        {
          "output_type": "stream",
          "name": "stdout",
          "text": [
            "Pluto is a planet!\n"
          ]
        },
        {
          "output_type": "execute_result",
          "data": {
            "text/plain": [
              "'pluto is a planet!'"
            ],
            "application/vnd.google.colaboratory.intrinsic+json": {
              "type": "string"
            }
          },
          "metadata": {},
          "execution_count": 7
        }
      ]
    },
    {
      "cell_type": "markdown",
      "source": [
        "We can search a string for the first index of an ocurring substring"
      ],
      "metadata": {
        "id": "ORppQjqbL-xp"
      }
    },
    {
      "cell_type": "code",
      "source": [
        "claim.index('plan') \n",
        "# the substring 'plan' starts at index 11 of claim and goes to index 14"
      ],
      "metadata": {
        "colab": {
          "base_uri": "https://localhost:8080/"
        },
        "id": "3BCaqWPAKlgt",
        "outputId": "a1ac0376-eeaa-4679-a557-6946fa63ea18"
      },
      "execution_count": 9,
      "outputs": [
        {
          "output_type": "execute_result",
          "data": {
            "text/plain": [
              "11"
            ]
          },
          "metadata": {},
          "execution_count": 9
        }
      ]
    },
    {
      "cell_type": "code",
      "source": [
        "# We can check to see if the claim string starts with the value of planet\n",
        "planet = \"Pluto\"\n",
        "print(planet)\n",
        "claim.startswith(planet)"
      ],
      "metadata": {
        "colab": {
          "base_uri": "https://localhost:8080/"
        },
        "id": "Bpq9ZCUnME3r",
        "outputId": "73a67e46-3255-48e8-bcba-0c7902668960"
      },
      "execution_count": 12,
      "outputs": [
        {
          "output_type": "stream",
          "name": "stdout",
          "text": [
            "Pluto\n"
          ]
        },
        {
          "output_type": "execute_result",
          "data": {
            "text/plain": [
              "True"
            ]
          },
          "metadata": {},
          "execution_count": 12
        }
      ]
    },
    {
      "cell_type": "code",
      "source": [
        "# We can check if the string ends with a particular substring\n",
        "print(claim.endswith('planet'))\n",
        "# Note this is false because it does not include the exclamation mark\n",
        "print(claim.endswith('planet!'))"
      ],
      "metadata": {
        "colab": {
          "base_uri": "https://localhost:8080/"
        },
        "id": "mDs_bH36MegR",
        "outputId": "a32d326a-bc34-4eaf-a832-7303aadabf4e"
      },
      "execution_count": 13,
      "outputs": [
        {
          "output_type": "stream",
          "name": "stdout",
          "text": [
            "False\n",
            "True\n"
          ]
        }
      ]
    },
    {
      "cell_type": "markdown",
      "source": [
        "We can split a string up into seperate parts and create a list out of those parts"
      ],
      "metadata": {
        "id": "nc1Img3-ND2h"
      }
    },
    {
      "cell_type": "code",
      "source": [
        "words = claim.split()\n",
        "words"
      ],
      "metadata": {
        "colab": {
          "base_uri": "https://localhost:8080/"
        },
        "id": "3wyjJhklM_oM",
        "outputId": "816aef1e-91a2-47bb-b0bf-0c7ad2b085c1"
      },
      "execution_count": 14,
      "outputs": [
        {
          "output_type": "execute_result",
          "data": {
            "text/plain": [
              "['Pluto', 'is', 'a', 'planet!']"
            ]
          },
          "metadata": {},
          "execution_count": 14
        }
      ]
    },
    {
      "cell_type": "markdown",
      "source": [
        "We can also choose to split on something other than whitespace, which is the default"
      ],
      "metadata": {
        "id": "kZwcIDr2NL0e"
      }
    },
    {
      "cell_type": "code",
      "source": [
        "datestr = '1056-01-31'\n",
        "year, month, day = datestr.split('-')\n",
        "print(year, month, day)"
      ],
      "metadata": {
        "colab": {
          "base_uri": "https://localhost:8080/"
        },
        "id": "nrximcNZNKS6",
        "outputId": "000fd2fa-0616-4e5e-94bf-abcd924825dc"
      },
      "execution_count": 15,
      "outputs": [
        {
          "output_type": "stream",
          "name": "stdout",
          "text": [
            "1056 01 31\n"
          ]
        }
      ]
    },
    {
      "cell_type": "markdown",
      "source": [
        "We can use the join method to join a list of strings together to make one longer string"
      ],
      "metadata": {
        "id": "h83jvUOGNX-0"
      }
    },
    {
      "cell_type": "code",
      "source": [
        "'/'.join([month, day, year])"
      ],
      "metadata": {
        "colab": {
          "base_uri": "https://localhost:8080/",
          "height": 35
        },
        "id": "A_g9I2DMNVhk",
        "outputId": "5f465894-b2f9-4c2b-90a4-b0d57953b9b5"
      },
      "execution_count": 20,
      "outputs": [
        {
          "output_type": "execute_result",
          "data": {
            "text/plain": [
              "'01/31/1056'"
            ],
            "application/vnd.google.colaboratory.intrinsic+json": {
              "type": "string"
            }
          },
          "metadata": {},
          "execution_count": 20
        }
      ]
    },
    {
      "cell_type": "markdown",
      "source": [
        "We can format our strings"
      ],
      "metadata": {
        "id": "baPqj4dvNsNU"
      }
    },
    {
      "cell_type": "code",
      "source": [
        "# We can concatenate strings together\n",
        "planet + ', we miss you.'"
      ],
      "metadata": {
        "colab": {
          "base_uri": "https://localhost:8080/",
          "height": 35
        },
        "id": "C7FExfMuNgRc",
        "outputId": "208ebc6f-80a5-402c-bd38-6f2d0f00cfa5"
      },
      "execution_count": 21,
      "outputs": [
        {
          "output_type": "execute_result",
          "data": {
            "text/plain": [
              "'Pluto, we miss you.'"
            ],
            "application/vnd.google.colaboratory.intrinsic+json": {
              "type": "string"
            }
          },
          "metadata": {},
          "execution_count": 21
        }
      ]
    },
    {
      "cell_type": "code",
      "source": [
        "# We have to make sure when we are concatenating that all content is of the string type\n",
        "position = 9\n",
        "planet + \", you'll always be the \" + str(position) + \"th planet to me.\""
      ],
      "metadata": {
        "colab": {
          "base_uri": "https://localhost:8080/",
          "height": 35
        },
        "id": "eXgk7AKINww7",
        "outputId": "0a334973-d37f-4a93-eb0b-730aef7db6bf"
      },
      "execution_count": 22,
      "outputs": [
        {
          "output_type": "execute_result",
          "data": {
            "text/plain": [
              "\"Pluto, you'll always be the 9th planet to me.\""
            ],
            "application/vnd.google.colaboratory.intrinsic+json": {
              "type": "string"
            }
          },
          "metadata": {},
          "execution_count": 22
        }
      ]
    },
    {
      "cell_type": "markdown",
      "source": [
        "str.format() can make formating much easier"
      ],
      "metadata": {
        "id": "PmQXwdC-ODB_"
      }
    },
    {
      "cell_type": "code",
      "source": [
        "\"{}, you'll always be the {}th planet to me.\".format(planet, position)\n",
        "# Note the position of the brackets must be in the same order as the variables we want to format into the string"
      ],
      "metadata": {
        "colab": {
          "base_uri": "https://localhost:8080/",
          "height": 35
        },
        "id": "d2z05AxEN_Ys",
        "outputId": "735accba-4513-406e-b977-5dbb57d2d656"
      },
      "execution_count": 23,
      "outputs": [
        {
          "output_type": "execute_result",
          "data": {
            "text/plain": [
              "\"Pluto, you'll always be the 9th planet to me.\""
            ],
            "application/vnd.google.colaboratory.intrinsic+json": {
              "type": "string"
            }
          },
          "metadata": {},
          "execution_count": 23
        }
      ]
    },
    {
      "cell_type": "code",
      "source": [
        "# Here's a better look into what .format() can do\n",
        "pluto_mass = 1.303 * 10**22\n",
        "earth_mass = 5.9722 * 10**24\n",
        "population = 52910390\n",
        "#         2 decimal points    3 decimal points, format as percent      Seperate with commas\n",
        "\"{} weighs about {:.2} kilograms ({:.3%} of Earth's mass). It is home to {:,} Plutonians.\".format(planet, pluto_mass, pluto_mass/earth_mass, population,)"
      ],
      "metadata": {
        "colab": {
          "base_uri": "https://localhost:8080/",
          "height": 35
        },
        "id": "6vOXY4ShOW7X",
        "outputId": "1260b7a1-b150-40ff-8268-3eff98f59fe7"
      },
      "execution_count": 24,
      "outputs": [
        {
          "output_type": "execute_result",
          "data": {
            "text/plain": [
              "\"Pluto weighs about 1.3e+22 kilograms (0.218% of Earth's mass). It is home to 52,910,390 Plutonians.\""
            ],
            "application/vnd.google.colaboratory.intrinsic+json": {
              "type": "string"
            }
          },
          "metadata": {},
          "execution_count": 24
        }
      ]
    },
    {
      "cell_type": "code",
      "source": [
        "# We can specify the format() arguments using their index\n",
        "s = \"\"\"Pluto's a {0}.\n",
        "No, it's a {1}.\n",
        "{0}!\n",
        "{1}!\"\"\".format('planet', 'dwarf planet')\n",
        "print(s)"
      ],
      "metadata": {
        "colab": {
          "base_uri": "https://localhost:8080/"
        },
        "id": "aYF6XThSPEj7",
        "outputId": "ea92963f-e467-4bc8-e9d0-091b01b69e50"
      },
      "execution_count": 25,
      "outputs": [
        {
          "output_type": "stream",
          "name": "stdout",
          "text": [
            "Pluto's a planet.\n",
            "No, it's a dwarf planet.\n",
            "planet!\n",
            "dwarf planet!\n"
          ]
        }
      ]
    },
    {
      "cell_type": "markdown",
      "source": [
        "###Dictionaries\n",
        "These are structures that are used to map keys to values"
      ],
      "metadata": {
        "id": "BNx38SZUPkUj"
      }
    },
    {
      "cell_type": "code",
      "source": [
        "numbers = {'one':1, 'two':2, 'three':3}\n",
        "# 'one', 'two', and 'three' are the keys and 1, 2, and 3 are the values"
      ],
      "metadata": {
        "id": "jCYljUmZPfe5"
      },
      "execution_count": 27,
      "outputs": []
    },
    {
      "cell_type": "code",
      "source": [
        "numbers['one']\n",
        "# We search for the value of the 'one' key"
      ],
      "metadata": {
        "colab": {
          "base_uri": "https://localhost:8080/"
        },
        "id": "mW-FnQZgPtWq",
        "outputId": "d5c92f4c-fe49-4ea5-d212-4979814b9d05"
      },
      "execution_count": 29,
      "outputs": [
        {
          "output_type": "execute_result",
          "data": {
            "text/plain": [
              "1"
            ]
          },
          "metadata": {},
          "execution_count": 29
        }
      ]
    },
    {
      "cell_type": "code",
      "source": [
        "# We can add a new key, value pair using the same syntax\n",
        "numbers['eleven'] = 11\n",
        "numbers"
      ],
      "metadata": {
        "colab": {
          "base_uri": "https://localhost:8080/"
        },
        "id": "9MiOJrmNP1Z8",
        "outputId": "ce6ad68d-51f6-4aa4-efed-b7ab33ceff80"
      },
      "execution_count": 30,
      "outputs": [
        {
          "output_type": "execute_result",
          "data": {
            "text/plain": [
              "{'eleven': 11, 'one': 1, 'three': 3, 'two': 2}"
            ]
          },
          "metadata": {},
          "execution_count": 30
        }
      ]
    },
    {
      "cell_type": "code",
      "source": [
        "# We can also change the value associated with an existing key\n",
        "numbers['one'] = 'Pluto'\n",
        "numbers"
      ],
      "metadata": {
        "colab": {
          "base_uri": "https://localhost:8080/"
        },
        "id": "C6qlLLQLQDG7",
        "outputId": "05876cf2-2562-4aee-8462-cfb672e33c18"
      },
      "execution_count": 31,
      "outputs": [
        {
          "output_type": "execute_result",
          "data": {
            "text/plain": [
              "{'eleven': 11, 'one': 'Pluto', 'three': 3, 'two': 2}"
            ]
          },
          "metadata": {},
          "execution_count": 31
        }
      ]
    },
    {
      "cell_type": "markdown",
      "source": [
        "With dictionaries we can use dictionary comprehension just like list comprehension!"
      ],
      "metadata": {
        "id": "9RFhx36rQWe9"
      }
    },
    {
      "cell_type": "code",
      "source": [
        "planets = ['Mercury', 'Venus', 'Earth', 'Mars', 'Jupiter', 'Saturn', 'Uranus', 'Neptune']\n",
        "planet_to_initial = {planet: planet[0] for planet in planets}\n",
        "planet_to_initial"
      ],
      "metadata": {
        "colab": {
          "base_uri": "https://localhost:8080/"
        },
        "id": "2QKrUAURQJZb",
        "outputId": "e0680480-286a-45c3-c2bb-771a4c99f01e"
      },
      "execution_count": 32,
      "outputs": [
        {
          "output_type": "execute_result",
          "data": {
            "text/plain": [
              "{'Earth': 'E',\n",
              " 'Jupiter': 'J',\n",
              " 'Mars': 'M',\n",
              " 'Mercury': 'M',\n",
              " 'Neptune': 'N',\n",
              " 'Saturn': 'S',\n",
              " 'Uranus': 'U',\n",
              " 'Venus': 'V'}"
            ]
          },
          "metadata": {},
          "execution_count": 32
        }
      ]
    },
    {
      "cell_type": "markdown",
      "source": [
        "We can use the in operator to see if something is a key in a dictionary"
      ],
      "metadata": {
        "id": "7tyCkstmQxfA"
      }
    },
    {
      "cell_type": "code",
      "source": [
        "'Saturn' in planet_to_initial"
      ],
      "metadata": {
        "colab": {
          "base_uri": "https://localhost:8080/"
        },
        "id": "Iw8yP4bXQsiJ",
        "outputId": "9fa8c08f-c460-439d-93bc-18e709a07d7e"
      },
      "execution_count": 33,
      "outputs": [
        {
          "output_type": "execute_result",
          "data": {
            "text/plain": [
              "True"
            ]
          },
          "metadata": {},
          "execution_count": 33
        }
      ]
    },
    {
      "cell_type": "code",
      "source": [
        "'Betelgeuse' in planet_to_initial"
      ],
      "metadata": {
        "colab": {
          "base_uri": "https://localhost:8080/"
        },
        "id": "C9SFY17BQ2CU",
        "outputId": "1c4719ee-a80c-4514-cbf0-fa47bfc7adba"
      },
      "execution_count": 34,
      "outputs": [
        {
          "output_type": "execute_result",
          "data": {
            "text/plain": [
              "False"
            ]
          },
          "metadata": {},
          "execution_count": 34
        }
      ]
    },
    {
      "cell_type": "markdown",
      "source": [
        "We can use a for loop to loop over a dictionary's keys"
      ],
      "metadata": {
        "id": "w_RH-qGJQ6L5"
      }
    },
    {
      "cell_type": "code",
      "source": [
        "for k in numbers:\n",
        "  print(\"{} = {}\".format(k, numbers[k]))"
      ],
      "metadata": {
        "colab": {
          "base_uri": "https://localhost:8080/"
        },
        "id": "5qeFY4mIQ4vt",
        "outputId": "68ce6f64-6d5c-487d-f26e-e039490d91b2"
      },
      "execution_count": 35,
      "outputs": [
        {
          "output_type": "stream",
          "name": "stdout",
          "text": [
            "one = Pluto\n",
            "two = 2\n",
            "three = 3\n",
            "eleven = 11\n"
          ]
        }
      ]
    },
    {
      "cell_type": "markdown",
      "source": [
        "We can access the entire collection of keys or values of a dictionary using dict.keys() and dict.values()"
      ],
      "metadata": {
        "id": "HZHWWeDHRGif"
      }
    },
    {
      "cell_type": "code",
      "source": [
        "# Get all the initials, sort them alphabetically, and put them in a space-seperated string\n",
        "' '.join(sorted(planet_to_initial.values()))"
      ],
      "metadata": {
        "colab": {
          "base_uri": "https://localhost:8080/",
          "height": 35
        },
        "id": "icojglP0RCI9",
        "outputId": "1dcfd9db-0e47-44ca-92da-f275a3e2733b"
      },
      "execution_count": 36,
      "outputs": [
        {
          "output_type": "execute_result",
          "data": {
            "text/plain": [
              "'E J M M N S U V'"
            ],
            "application/vnd.google.colaboratory.intrinsic+json": {
              "type": "string"
            }
          },
          "metadata": {},
          "execution_count": 36
        }
      ]
    },
    {
      "cell_type": "markdown",
      "source": [
        "We can use dict.items() to iterate over both the keys AND values of a dictionary simultaneously"
      ],
      "metadata": {
        "id": "lAwQvIHYRXNh"
      }
    },
    {
      "cell_type": "code",
      "source": [
        "# Notice we have to include two variables when using .items()\n",
        "# The first variable always correlates to the key\n",
        "# The second variable always correlates to the value\n",
        "for planet, initial in planet_to_initial.items():\n",
        "  print(\"{} begins with \\\"{}\\\"\".format(planet.rjust(10), initial))"
      ],
      "metadata": {
        "colab": {
          "base_uri": "https://localhost:8080/"
        },
        "id": "f4-92MN0RUJ_",
        "outputId": "dd40a30e-9335-46dd-ba24-1252365eafdc"
      },
      "execution_count": 37,
      "outputs": [
        {
          "output_type": "stream",
          "name": "stdout",
          "text": [
            "   Mercury begins with \"M\"\n",
            "     Venus begins with \"V\"\n",
            "     Earth begins with \"E\"\n",
            "      Mars begins with \"M\"\n",
            "   Jupiter begins with \"J\"\n",
            "    Saturn begins with \"S\"\n",
            "    Uranus begins with \"U\"\n",
            "   Neptune begins with \"N\"\n"
          ]
        }
      ]
    },
    {
      "cell_type": "markdown",
      "source": [
        "### Your Turn"
      ],
      "metadata": {
        "id": "Q6g54PlHR8rf"
      }
    },
    {
      "cell_type": "markdown",
      "source": [
        "There is a saying that \"Data scientists spend 80% of their time cleaning data, and 20% of their time complaining about cleaning data.\" Let's see if you can write a function to help clean US zip code data. Given a string, it should return whether or not that string represents a valid zip code. For our purposes, a valid zip code is any string consisting of exactly 5 digits."
      ],
      "metadata": {
        "id": "IjPsU0ULSInF"
      }
    },
    {
      "cell_type": "code",
      "source": [
        "help(str)"
      ],
      "metadata": {
        "id": "U0MQdBiYSNbz"
      },
      "execution_count": null,
      "outputs": []
    },
    {
      "cell_type": "code",
      "source": [
        "def is_valid_zip(zip_code):\n",
        "    \"\"\"Returns whether the input string is a valid (5 digit) zip code\n",
        "    \"\"\"\n",
        "    return (zip_code.isnumeric()) and (len(zip_code) == 5)"
      ],
      "metadata": {
        "id": "XP3XbA-qRsxX"
      },
      "execution_count": 39,
      "outputs": []
    },
    {
      "cell_type": "code",
      "source": [
        "is_valid_zip('84044')"
      ],
      "metadata": {
        "colab": {
          "base_uri": "https://localhost:8080/"
        },
        "id": "IXamZDyCS6om",
        "outputId": "b163ad0a-4f25-4a85-f816-70c4d82d0a2f"
      },
      "execution_count": 41,
      "outputs": [
        {
          "output_type": "execute_result",
          "data": {
            "text/plain": [
              "True"
            ]
          },
          "metadata": {},
          "execution_count": 41
        }
      ]
    },
    {
      "cell_type": "code",
      "source": [
        "is_valid_zip('A234')"
      ],
      "metadata": {
        "colab": {
          "base_uri": "https://localhost:8080/"
        },
        "id": "Fqrz6sZ-S6gC",
        "outputId": "76d4a88b-82c5-44a3-a19f-7442fb3d4923"
      },
      "execution_count": 42,
      "outputs": [
        {
          "output_type": "execute_result",
          "data": {
            "text/plain": [
              "False"
            ]
          },
          "metadata": {},
          "execution_count": 42
        }
      ]
    },
    {
      "cell_type": "markdown",
      "source": [
        "A researcher has gathered thousands of news articles. But she wants to focus her attention on articles including a specific word. Complete the function below to help her filter her list of articles.\n",
        "\n",
        "Your function should meet the following criteria:\n",
        "\n",
        "Do not include documents where the keyword string shows up only as a part of a larger word. For example, if she were looking for the keyword “closed”, you would not include the string “enclosed.”\n",
        "She does not want you to distinguish upper case from lower case letters. So the phrase “Closed the case.” would be included when the keyword is “closed”\n",
        "Do not let periods or commas affect what is matched. “It is closed.” would be included when the keyword is “closed”. But you can assume there are no other types of punctuation."
      ],
      "metadata": {
        "id": "LoV-ZcbMSRhy"
      }
    },
    {
      "cell_type": "code",
      "source": [
        "def word_search(doc_list, keyword):\n",
        "    \"\"\"\n",
        "    Takes a list of documents (each document is a string) and a keyword. \n",
        "    Returns list of the index values into the original list for all documents \n",
        "    containing the keyword.\n",
        "\n",
        "    Example:\n",
        "    doc_list = [\"The Learn Python Challenge Casino.\", \"They bought a car\", \"Casinoville\"]\n",
        "    >>> word_search(doc_list, 'casino')\n",
        "    >>> [0]\n",
        "    \"\"\"\n",
        "    index_list = []\n",
        "    for i in range(len(doc_list)):\n",
        "      if keyword in doc_list[i] or keyword.capitalize() in doc_list[i]:\n",
        "        temp_list = doc_list[i].split()\n",
        "        for word in temp_list:\n",
        "          word = word.strip(',').strip('.')\n",
        "          if word.lower() == keyword:\n",
        "            index_list.append(i)\n",
        "            break\n",
        "    \n",
        "    return index_list"
      ],
      "metadata": {
        "id": "-GP7pUhVSSIE"
      },
      "execution_count": 43,
      "outputs": []
    },
    {
      "cell_type": "code",
      "source": [
        "doc_list = [\"The Learn Python Challenge Casino.\", \"They bought a car\", \"Casinoville\"]\n",
        "word_search(doc_list, 'casino')"
      ],
      "metadata": {
        "colab": {
          "base_uri": "https://localhost:8080/"
        },
        "id": "HPXz3fx2TuXy",
        "outputId": "205261a0-7f99-4d47-be99-d7d56ebeb5e5"
      },
      "execution_count": 44,
      "outputs": [
        {
          "output_type": "execute_result",
          "data": {
            "text/plain": [
              "[0]"
            ]
          },
          "metadata": {},
          "execution_count": 44
        }
      ]
    },
    {
      "cell_type": "code",
      "source": [
        "doc_list = [\"The Learn Python Challenge Casino.\", \"They bought a car from the casino\", \"Casinoville\"]\n",
        "word_search(doc_list, 'casino')"
      ],
      "metadata": {
        "colab": {
          "base_uri": "https://localhost:8080/"
        },
        "id": "_UgihNKhT6vf",
        "outputId": "cad99764-d45c-4007-b588-08aaf195efbc"
      },
      "execution_count": 45,
      "outputs": [
        {
          "output_type": "execute_result",
          "data": {
            "text/plain": [
              "[0, 1]"
            ]
          },
          "metadata": {},
          "execution_count": 45
        }
      ]
    },
    {
      "cell_type": "markdown",
      "source": [
        "Now the researcher wants to supply multiple keywords to search for. Complete the function below to help her.\n",
        "\n",
        "(You're encouraged to use the word_search function you just wrote when implementing this function. Reusing code in this way makes your programs more robust and readable - and it saves typing!)"
      ],
      "metadata": {
        "id": "AZ4KUCIBSVcv"
      }
    },
    {
      "cell_type": "code",
      "source": [
        "def multi_word_search(doc_list, keywords):\n",
        "    \"\"\"\n",
        "    Takes list of documents (each document is a string) and a list of keywords.  \n",
        "    Returns a dictionary where each key is a keyword, and the value is a list of indices\n",
        "    (from doc_list) of the documents containing that keyword\n",
        "\n",
        "    >>> doc_list = [\"The Learn Python Challenge Casino.\", \"They bought a car and a casino\", \"Casinoville\"]\n",
        "    >>> keywords = ['casino', 'they']\n",
        "    >>> multi_word_search(doc_list, keywords)\n",
        "    {'casino': [0, 1], 'they': [1]}\n",
        "    \"\"\"\n",
        "    key_doc_dict = {}\n",
        "    for key in keywords:\n",
        "      key_doc_dict[key] = []\n",
        "      for i in range(len(doc_list)):\n",
        "        if key in doc_list[i] or key.capitalize() in doc_list[i]:\n",
        "          temp_list = doc_list[i].split()\n",
        "          for word in temp_list:\n",
        "            word = word.strip(',').strip('.')\n",
        "            if word.lower() == key:\n",
        "              key_doc_dict[key].append(i)\n",
        "              break\n",
        "\n",
        "    return key_doc_dict"
      ],
      "metadata": {
        "id": "XsNpzGj2SXGZ"
      },
      "execution_count": 46,
      "outputs": []
    },
    {
      "cell_type": "code",
      "source": [
        "doc_list = [\"The Learn Python Challenge Casino.\", \"They bought a car and a casino\", \"Casinoville\"]\n",
        "keywords = ['casino', 'they']\n",
        "multi_word_search(doc_list, keywords)"
      ],
      "metadata": {
        "colab": {
          "base_uri": "https://localhost:8080/"
        },
        "id": "bPMKDdncUjXH",
        "outputId": "2f84b59d-cb7e-42c9-a5d5-26e87ad35735"
      },
      "execution_count": 47,
      "outputs": [
        {
          "output_type": "execute_result",
          "data": {
            "text/plain": [
              "{'casino': [0, 1], 'they': [1]}"
            ]
          },
          "metadata": {},
          "execution_count": 47
        }
      ]
    },
    {
      "cell_type": "code",
      "source": [
        ""
      ],
      "metadata": {
        "id": "Q_1UWYccUqCt"
      },
      "execution_count": null,
      "outputs": []
    }
  ]
}